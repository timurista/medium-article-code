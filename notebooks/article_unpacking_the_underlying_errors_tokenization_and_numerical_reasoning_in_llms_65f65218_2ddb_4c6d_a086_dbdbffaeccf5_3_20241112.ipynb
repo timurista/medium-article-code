{
    "cells": [
        {
            "cell_type": "markdown",
            "metadata": {},
            "source": [
                "# Unpacking the Underlying Errors: Tokenization and Numerical Reasoning in LLMs",
                "",
                "This notebook explores the challenges and limitations of Large Language Models (LLMs) when handling numerical tasks, focusing on tokenization issues and numerical reasoning errors. We'll demonstrate key concepts with code examples and visualizations."
            ]
        },
        {
            "cell_type": "code",
            "execution_count": null,
            "metadata": {},
            "outputs": [],
            "source": [
                "# Import required libraries\n",
                "import numpy as np\n",
                "import pandas as pd\n",
                "import matplotlib.pyplot as plt\n",
                "import seaborn as sns\n",
                "from transformers import AutoTokenizer\n",
                "import torch\n",
                "\n",
                "# Set plotting style\n",
                "plt.style.use('seaborn')\n",
                "sns.set_theme(style=\"whitegrid\")"
            ]
        },
        {
            "cell_type": "markdown",
            "metadata": {},
            "source": [
                "## 1. Tokenization Impact on Numerical Understanding",
                "",
                "Let's first examine how different tokenization methods affect the way numbers are processed by LLMs."
            ]
        },
        {
            "cell_type": "code",
            "execution_count": null,
            "metadata": {},
            "outputs": [],
            "source": [
                "# Initialize a BERT tokenizer\n",
                "tokenizer = AutoTokenizer.from_pretrained('bert-base-uncased')\n",
                "\n",
                "# Example numbers to tokenize\n",
                "numbers = ['100', '1000', '3.14', '0.5']\n",
                "\n",
                "# Tokenize numbers and print results\n",
                "for num in numbers:\n",
                "    tokens = tokenizer.tokenize(num)\n",
                "    print(f'Number: {num} -> Tokens: {tokens}')"
            ]
        },
        {
            "cell_type": "markdown",
            "metadata": {},
            "source": [
                "## 2. Demonstrating Decimal Comparison Issues",
                "",
                "Here we'll show how LLMs might handle decimal comparisons incorrectly due to string-based processing."
            ]
        },
        {
            "cell_type": "code",
            "execution_count": null,
            "metadata": {},
            "outputs": [],
            "source": [
                "def compare_decimals(a, b):\n",
                "    \"\"\"Simulate LLM decimal comparison vs correct numerical comparison\"\"\"\n",
                "    # String comparison (incorrect LLM behavior)\n",
                "    string_result = a > b\n",
                "    \n",
                "    # Numerical comparison (correct behavior)\n",
                "    float_result = float(a) > float(b)\n",
                "    \n",
                "    return string_result, float_result\n",
                "\n",
                "# Test cases\n",
                "test_pairs = [('0.5', '0.05'), ('1.1', '1.02'), ('0.99', '0.100')]\n",
                "\n",
                "for a, b in test_pairs:\n",
                "    str_res, num_res = compare_decimals(a, b)\n",
                "    print(f'Comparing {a} vs {b}:')\n",
                "    print(f'String comparison (LLM): {str_res}')\n",
                "    print(f'Numerical comparison (Correct): {num_res}\\n')"
            ]
        },
        {
            "cell_type": "markdown",
            "metadata": {},
            "source": [
                "## 3. Visualizing Error Patterns",
                "",
                "Let's create a visualization of common numerical errors in LLM outputs."
            ]
        },
        {
            "cell_type": "code",
            "execution_count": null,
            "metadata": {},
            "outputs": [],
            "source": [
                "# Simulate LLM error patterns\n",
                "np.random.seed(42)\n",
                "true_values = np.linspace(0, 100, 50)\n",
                "llm_predictions = true_values + np.random.normal(0, 5, 50)\n",
                "\n",
                "plt.figure(figsize=(10, 6))\n",
                "plt.scatter(true_values, llm_predictions, alpha=0.6)\n",
                "plt.plot([0, 100], [0, 100], 'r--', label='Perfect Predictions')\n",
                "plt.xlabel('True Values')\n",
                "plt.ylabel('LLM Predictions')\n",
                "plt.title('LLM Numerical Prediction Errors')\n",
                "plt.legend()\n",
                "plt.show()"
            ]
        },
        {
            "cell_type": "markdown",
            "metadata": {},
            "source": [
                "## Best Practices and Recommendations",
                "",
                "1. Always validate numerical outputs from LLMs\n",
                "2. Implement proper error handling for numerical operations\n",
                "3. Use specialized libraries for critical numerical computations\n",
                "4. Consider implementing multi-agent approaches for complex calculations\n",
                "5. Maintain comprehensive test suites for numerical operations"
            ]
        },
        {
            "cell_type": "markdown",
            "metadata": {},
            "source": [
                "## Conclusion",
                "",
                "This notebook has demonstrated various challenges in LLM numerical processing and potential solutions. For critical applications, it's essential to implement proper validation and error handling mechanisms when working with LLM outputs involving numbers."
            ]
        }
    ],
    "metadata": {
        "kernelspec": {
            "display_name": "Python 3",
            "language": "python",
            "name": "python3"
        },
        "language_info": {
            "codemirror_mode": {
                "name": "ipython",
                "version": 3
            },
            "file_extension": ".py",
            "mimetype": "text/x-python",
            "name": "python",
            "nbconvert_exporter": "python",
            "pygments_lexer": "ipython3",
            "version": "3.8.0"
        }
    },
    "nbformat": 4,
    "nbformat_minor": 4
}