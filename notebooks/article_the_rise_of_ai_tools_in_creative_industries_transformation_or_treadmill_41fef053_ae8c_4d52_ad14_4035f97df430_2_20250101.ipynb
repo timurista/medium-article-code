{
    "cells": [
        {
            "cell_type": "markdown",
            "metadata": {},
            "source": [
                "# The Rise of AI Tools in Creative Industries: Transformation or Treadmill?",
                "\nAn exploration of how AI is reshaping creative workflows and its implications for artists, writers, and musicians."
            ]
        },
        {
            "cell_type": "markdown", 
            "metadata": {},
            "source": [
                "## Required Libraries and Setup",
                "\nFirst, let's import the necessary libraries for our analysis and visualization."
            ]
        },
        {
            "cell_type": "code",
            "execution_count": null,
            "metadata": {},
            "outputs": [],
            "source": [
                "import pandas as pd\nimport numpy as np\nimport matplotlib.pyplot as plt\nimport seaborn as sns\nfrom datetime import datetime\n\n# Set style for visualizations\nplt.style.use('seaborn')\nsns.set_palette('husl')\n\n# Configure pandas display options\npd.set_option('display.max_columns', None)\npd.set_option('display.float_format', lambda x: '%.2f' % x)"
            ]
        },
        {
            "cell_type": "markdown",
            "metadata": {}, 
            "source": [
                "## AI Impact on Creative Industries",
                "\nLet's analyze some key metrics about AI adoption in creative fields using sample data."
            ]
        },
        {
            "cell_type": "code",
            "execution_count": null,
            "metadata": {},
            "outputs": [],
            "source": [
                "# Create sample data for AI impact analysis\nai_impact_data = pd.DataFrame({\n    'Industry': ['Art', 'Music', 'Writing', 'Design'],\n    'Productivity_Increase': [50, 45, 55, 60],\n    'Cost_Reduction': [30, 25, 35, 40],\n    'Automation_Level': [60, 50, 70, 80]\n})\n\n# Create visualization\nplt.figure(figsize=(12, 6))\n\nbar_width = 0.25\nr1 = np.arange(len(ai_impact_data['Industry']))\nr2 = [x + bar_width for x in r1]\nr3 = [x + bar_width for x in r2]\n\nplt.bar(r1, ai_impact_data['Productivity_Increase'], width=bar_width, label='Productivity Increase (%)')\nplt.bar(r2, ai_impact_data['Cost_Reduction'], width=bar_width, label='Cost Reduction (%)')\nplt.bar(r3, ai_impact_data['Automation_Level'], width=bar_width, label='Automation Level (%)')\n\nplt.xlabel('Creative Industry')\nplt.ylabel('Percentage')\nplt.title('AI Impact Across Creative Industries')\nplt.xticks([r + bar_width for r in range(len(ai_impact_data['Industry']))], ai_impact_data['Industry'])\nplt.legend()\n\nplt.tight_layout()"
            ]
        }
    ],
    "metadata": {
        "kernelspec": {
            "display_name": "Python 3",
            "language": "python", 
            "name": "python3"
        },
        "language_info": {
            "codemirror_mode": {
                "name": "ipython",
                "version": 3
            },
            "file_extension": ".py",
            "mimetype": "text/x-python", 
            "name": "python",
            "nbconvert_exporter": "python",
            "pygments_lexer": "ipython3",
            "version": "3.8.0"
        }
    },
    "nbformat": 4,
    "nbformat_minor": 4
}