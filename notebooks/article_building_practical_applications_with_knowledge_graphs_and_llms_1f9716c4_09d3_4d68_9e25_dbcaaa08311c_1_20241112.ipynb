{
    "cells": [
        {
            "cell_type": "markdown",
            "metadata":": {},
            "source": [
                "# Building Practical Applications with Knowledge Graphs and LLMs",
                "",
                "This notebook demonstrates how to build practical applications combining Knowledge Graphs (KGs) and Large Language Models (LLMs). We'll cover implementation details, best practices, and real-world examples.",
                "",
                "## Overview",
                "- Understanding and implementing Knowledge Graphs",
                "- Integrating LLMs with Knowledge Graphs", 
                "- Case studies and practical applications",
                "- Error handling and best practices"
            ]
        },
        {
            "cell_type": "code",
            "execution_count": null,
            "metadata": {},
            "outputs": [],
            "source": [
                "# Import required libraries\n",
                "import numpy as np\n",
                "import pandas as pd\n",
                "import networkx as nx\n",
                "import matplotlib.pyplot as plt\n",
                "from sklearn.metrics.pairwise import cosine_similarity\n",
                "from transformers import pipeline\n",
                "\n",
                "# Set random seed for reproducibility\n",
                "np.random.seed(42)"
            ]
        },
        {
            "cell_type": "markdown",
            "metadata":": {},
            "source": [
                "## 1. Creating a Simple Knowledge Graph",
                "",
                "Let's start by creating a basic knowledge graph structure using NetworkX. We'll model a simple e-commerce product catalog."
            ]
        },
        {
            "cell_type": "code", 
            "execution_count": null,
            "metadata": {},
            "outputs": [],
            "source": [
                "# Initialize knowledge graph\n",
                "kg = nx.Graph()\n",
                "\n",
                "# Add product nodes\n",
                "products = {\n",
                    "'product_1': {'name': 'Laptop', 'price': 999, 'category': 'Electronics'},\n",
                    "'product_2': {'name': 'Headphones', 'price': 99, 'category': 'Electronics'},\n",
                    "'product_3': {'name': 'Mouse', 'price': 49, 'category': 'Electronics'}\n",
                "}\n",
                "\n",
                "# Add nodes to graph\n",
                "for pid, attrs in products.items():\n",
                    "kg.add_node(pid, **attrs)\n",
                "\n",
                "# Add relationships\n",
                "kg.add_edge('product_1', 'product_2', relationship='compatible_with')\n",
                "kg.add_edge('product_2', 'product_3', relationship='often_bought_together')"
            ]
        }
    ],
    "metadata": {
        "kernelspec": {
            "display_name": "Python 3",
            "language": "python", 
            "name": "python3"
        },
        "language_info": {
            "codemirror_mode": {
                "name": "ipython",
                "version": 3
            },
            "file_extension": ".py",
            "mimetype": "text/x-python", 
            "name": "python",
            "nbconvert_exporter": "python",
            "pygments_lexer": "ipython3",
            "version": "3.8.0"
        }
    },
    "nbformat": 4,
    "nbformat_minor": 4
}

I can continue providing more cells if you'd like - there's much more content to cover including visualizations, LLM integration, error handling, etc. Let me know if you'd like me to continue with additional cells.