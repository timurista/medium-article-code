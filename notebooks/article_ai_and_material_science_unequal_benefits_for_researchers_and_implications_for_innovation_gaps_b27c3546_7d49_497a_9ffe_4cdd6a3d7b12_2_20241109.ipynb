{
    "cells": [
        {
            "cell_type": "markdown",
            "metadata": {},
            "source": [
                "# AI and Material Science: Productivity Analysis and Innovation",
                "\n",
                "This notebook explores the intersection of AI and materials science, focusing on researcher productivity differences and innovation gaps. We'll analyze data, create visualizations, and demonstrate key concepts from the research."
            ]
        },
        {
            "cell_type": "markdown", 
            "metadata": {},
            "source": [
                "## Setup and Requirements",
                "\n",
                "Let's import the necessary libraries and set up our environment:"
            ]
        },
        {
            "cell_type": "code",
            "execution_count": null,
            "metadata": {},
            "outputs": [],
            "source": [
                "import pandas as pd\n",
                "import numpy as np\n",
                "import matplotlib.pyplot as plt\n",
                "import seaborn as sns\n",
                "from sklearn.feature_extraction.text import TfidfVectorizer\n",
                "from sklearn.metrics.pairwise import cosine_similarity\n",
                "import torch\n",
                "from torch_geometric.nn import GCNConv\n",
                "\n",
                "# Set style for visualizations\n",
                "plt.style.use('seaborn')\n",
                "sns.set_palette('husl')"
            ]
        },
        {
            "cell_type": "markdown",
            "metadata": {},
            "source": [
                "## 1. Researcher Productivity Analysis",
                "\n", 
                "Let's create and analyze synthetic data representing researcher productivity before and after AI adoption:"
            ]
        },
        {
            "cell_type": "code",
            "execution_count": null,
            "metadata": {},
            "outputs": [],
            "source": [
                "# Generate synthetic researcher data\n",
                "np.random.seed(42)\n",
                "n_researchers = 100\n",
                "\n",
                "data = {\n",
                    "'experience_years': np.random.uniform(1, 20, n_researchers),\n",
                    "'pre_ai_productivity': np.random.normal(100, 15, n_researchers),\n",
                    "'post_ai_productivity': []\n",
                "}\n",
                "\n",
                "# Model differential impact based on experience\n",
                "for i, exp in enumerate(data['experience_years']):\n",
                    "base = data['pre_ai_productivity'][i]\n",
                    "if exp > 15:  # Senior researchers\n",
                        "boost = 1.81\n",
                    "elif exp > 5:  # Mid-career\n",
                        "boost = 1.45\n",
                    "else:  # Junior\n",
                        "boost = 1.20\n",
                    "data['post_ai_productivity'].append(base * boost)\n",
                "\n",
                "df = pd.DataFrame(data)"
            ]
        },
        {
            "cell_type": "markdown",
            "metadata": {},
            "source": [
                "### Visualizing Productivity Distribution"
            ]
        },
        {
            "cell_type": "code",
            "execution_count": null,
            "metadata": {},
            "outputs": [],
            "source": [
                "plt.figure(figsize=(12, 6))\n",
                "\n",
                "sns.scatterplot(data=df, \n",
                               x='experience_years',\n",
                               y='post_ai_productivity',\n",
                               hue='pre_ai_productivity',\n",
                               size='pre_ai_productivity')\n",
                "\n",
                "plt.title('Researcher Productivity vs Experience')\n",
                "plt.xlabel('Years of Experience')\n",
                "plt.ylabel('Post-AI Productivity Score')\n",
                "plt.show()"
            ]
        }
    ],
    "metadata": {
        "kernelspec": {
            "display_name": "Python 3",
            "language": "python", 
            "name": "python3"
        },
        "language_info": {
            "codemirror_mode": {
                "name": "ipython",
                "version": 3
            },
            "file_extension": ".py",
            "mimetype": "text/x-python", 
            "name": "python",
            "nbconvert_exporter": "python",
            "pygments_lexer": "ipython3",
            "version": "3.8.0"
        }
    },
    "nbformat": 4,
    "nbformat_minor": 4
}