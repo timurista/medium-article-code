{
    "cells": [
        {
            "cell_type": "markdown",
            "metadata": {},
            "source": [
                "# Understanding the Limitations of LLMs: A Deep Dive into Causal Reasoning",
                "",
                "This notebook explores the limitations of Large Language Models (LLMs) in causal reasoning, provides code examples and visualizations, and demonstrates best practices for working with causal relationships in data."
            ]
        },
        {
            "cell_type": "markdown", 
            "metadata": {},
            "source": [
                "## Setup",
                "",
                "First, let's import the required libraries and set up our environment."
            ]
        },
        {
            "cell_type": "code",
            "execution_count": null,
            "metadata": {},
            "outputs": [],
            "source": [
                "import numpy as np\n",
                "import pandas as pd\n",
                "import matplotlib.pyplot as plt\n",
                "import seaborn as sns\n",
                "from statsmodels.tsa.arima.model import ARIMA\n",
                "\n",
                "# Set plotting style\n",
                "plt.style.use('seaborn')\n",
                "sns.set_palette('husl')"
            ]
        },
        {
            "cell_type": "markdown",
            "metadata": {},
            "source": [
                "## 1. Demonstrating Causal Relationships",
                "",
                "Let's create a simple example showing how LLMs might misunderstand causal relationships in a plant watering scenario."
            ]
        },
        {
            "cell_type": "code",
            "execution_count": null,
            "metadata": {},
            "outputs": [],
            "source": [
                "# Plant survival simulation\n",
                "def simulate_plant_survival(soil_type, watering_freq):\n",
                "    try:\n",
                "        base_survival = {\n",
                "            'Sandy': 60,\n",
                "            'Clay': 75,\n",
                "            'Loamy': 85\n",
                "        }[soil_type]\n",
                "        \n",
                "        # Add randomness and soil-specific effects\n",
                "        effect = np.random.normal(0, 5)\n",
                "        survival = base_survival + effect + (watering_freq - 2) * 10\n",
                "        \n",
                "        return np.clip(survival, 0, 100)\n",
                "    except KeyError:\n",
                "        raise ValueError(f\"Invalid soil type: {soil_type}\")\n",
                "\n",
                "# Generate data\n",
                "soil_types = ['Sandy', 'Clay', 'Loamy']\n",
                "watering_freqs = np.linspace(0, 4, 20)\n",
                "\n",
                "results = {soil: [simulate_plant_survival(soil, freq) \n",
                "                 for freq in watering_freqs]\n",
                "          for soil in soil_types}\n",
                "\n",
                "# Plotting\n",
                "plt.figure(figsize=(10, 6))\n",
                "for soil, survivals in results.items():\n",
                "    plt.plot(watering_freqs, survivals, label=soil, alpha=0.8)\n",
                "\n",
                "plt.xlabel('Watering Frequency (times per week)')\n",
                "plt.ylabel('Plant Survival Rate (%)')\n",
                "plt.title('Impact of Watering Frequency on Plant Survival by Soil Type')\n",
                "plt.legend()\n",
                "plt.grid(True)\n",
                "plt.show()"
            ]
        }
    ],
    "metadata": {
        "kernelspec": {
            "display_name": "Python 3",
            "language": "python",
            "name": "python3"
        },
        "language_info": {
            "codemirror_mode": {
                "name": "ipython",
                "version": 3
            },
            "file_extension": ".py",
            "mimetype": "text/x-python", 
            "name": "python",
            "nbconvert_exporter": "python",
            "pygments_lexer": "ipython3",
            "version": "3.8.0"
        }
    },
    "nbformat": 4,
    "nbformat_minor": 4
}