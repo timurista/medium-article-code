{
    "cells": [
        {
            "cell_type": "markdown",
            "metadata":": {},
            "source": [
                "# The Psychological Phenomenon Driving $XRP's Market Cap Explosion",
                "",
                "This notebook explores the psychological factors and market dynamics behind the recent surge in XRP's market capitalization to $150 billion. We'll analyze trading psychology, social media impacts, and herd behavior through data analysis and visualization.",
                "",
                "Key topics covered:",
                "- Fear and greed dynamics in crypto trading",
                "- Social media sentiment analysis",
                "- Market psychology and herd behavior",
                "- Risk management strategies"
            ]
        },
        {
            "cell_type": "code",
            "execution_count": null,
            "metadata": {},
            "source": [
                "# Import required libraries\n",
                "import pandas as pd\n",
                "import numpy as np\n",
                "import matplotlib.pyplot as plt\n",
                "import seaborn as sns\n",
                "from textblob import TextBlob\n",
                "import requests\n",
                "import warnings\n",
                "\n",
                "# Configure plotting style\n",
                "plt.style.use('seaborn')\n",
                "warnings.filterwarnings('ignore')\n",
                "\n",
                "# Set random seed for reproducibility\n",
                "np.random.seed(42)"
            ]
        },
        {
            "cell_type": "markdown",
            "metadata":": {},  
            "source": [
                "## Fear and Greed Analysis",
                "",
                "Let's analyze how fear and greed influence XRP price movements by examining historical price data and calculating technical indicators."
            ]
        },
        {
            "cell_type": "code",
            "execution_count": null,
            "metadata": {},
            "source": [
                "# Generate sample price data\n",
                "dates = pd.date_range(start='2023-01-01', periods=100)\n",
                "prices = np.random.normal(loc=0.75, scale=0.1, size=100).cumsum()\n",
                "\n",
                "df = pd.DataFrame({\n",
                    "'Date': dates,\n",
                    "'Price': prices\n",
                "})\n",
                "\n",
                "# Calculate RSI\n",
                "def calculate_rsi(prices, window=14):\n",
                    "deltas = np.diff(prices)\n",
                    "gain = np.where(deltas > 0, deltas, 0)\n",
                    "loss = np.where(deltas < 0, -deltas, 0)\n",
                    "avg_gain = pd.Series(gain).rolling(window=window).mean()\n",
                    "avg_loss = pd.Series(loss).rolling(window=window).mean()\n",
                    "rs = avg_gain / avg_loss\n",
                    "return 100 - (100 / (1 + rs))\n",
                "\n",
                "df['RSI'] = calculate_rsi(df['Price'])\n",
                "\n",
                "# Plot price and RSI\n",
                "fig, (ax1, ax2) = plt.subplots(2, 1, figsize=(12, 8))\n",
                "ax1.plot(df['Date'], df['Price'])\n",
                "ax1.set_title('XRP Price Movement')\n",
                "ax2.plot(df['Date'][1:], df['RSI'][1:])\n",
                "ax2.axhline(y=70, color='r', linestyle='--')\n",
                "ax2.axhline(y=30, color='g', linestyle='--')\n",
                "ax2.set_title('Relative Strength Index (RSI)')\n",
                "plt.tight_layout()"
            ]
        }
    ],
    "metadata": {
        "kernelspec": {
            "display_name": "Python 3",
            "language": "python",
            "name": "python3"
        },
        "language_info": {
            "codemirror_mode": {
                "name": "ipython",
                "version": 3
            },
            "file_extension": ".py",
            "mimetype": "text/x-python", 
            "name": "python",
            "nbconvert_exporter": "python",
            "pygments_lexer": "ipython3",
            "version": "3.8.0"
        }
    },
    "nbformat": 4,
    "nbformat_minor": 4
}