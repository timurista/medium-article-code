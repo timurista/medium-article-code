{
    "cells": [
        {
            "cell_type": "markdown",
            "metadata": {},
            "source": [
                "# AI Agents and Their Impact on Trust in Decentralized Networks",
                "",
                "This notebook explores the role of AI agents in decentralized networks, focusing on how they enhance trust, security, and efficiency in DeFi and DAOs. We'll demonstrate key concepts with code examples and visualizations."
            ]
        },
        {
            "cell_type": "markdown",
            "metadata": {},
            "source": [
                "## Setup and Required Libraries",
                "",
                "Let's import the necessary libraries for our analysis and examples."
            ]
        },
        {
            "cell_type": "code",
            "execution_count": null,
            "metadata": {},
            "outputs": [],
            "source": [
                "import numpy as np\n",
                "import pandas as pd\n",
                "import matplotlib.pyplot as plt\n",
                "import seaborn as sns\n",
                "from sklearn.ensemble import IsolationForest\n",
                "from datetime import datetime, timedelta\n",
                "\n",
                "# Set plotting style\n",
                "plt.style.use('seaborn')\n",
                "sns.set_palette('husl')"
            ]
        },
        {
            "cell_type": "markdown",
            "metadata": {},
            "source": [
                "## 1. Simulating DeFi Transaction Data",
                "",
                "We'll create synthetic data to demonstrate how AI agents can detect anomalous transactions in a DeFi environment."
            ]
        },
        {
            "cell_type": "code",
            "execution_count": null,
            "metadata": {},
            "outputs": [],
            "source": [
                "# Generate synthetic transaction data\n",
                "np.random.seed(42)\n",
                "n_samples = 1000\n",
                "\n",
                "# Normal transactions\n",
                "normal_amounts = np.random.lognormal(mean=4.0, sigma=0.5, size=n_samples)\n",
                "normal_times = [datetime.now() - timedelta(minutes=x) for x in range(n_samples)]\n",
                "\n",
                "# Anomalous transactions\n",
                "anomaly_amounts = np.random.lognormal(mean=7.0, sigma=1.0, size=int(n_samples*0.05))\n",
                "anomaly_times = [datetime.now() - timedelta(minutes=x) for x in range(int(n_samples*0.05))]\n",
                "\n",
                "# Combine into DataFrame\n",
                "df = pd.DataFrame({\n",
                "    'timestamp': normal_times + anomaly_times,\n",
                "    'amount': np.concatenate([normal_amounts, anomaly_amounts]),\n",
                "    'is_anomaly': [0]*n_samples + [1]*int(n_samples*0.05)\n",
                "})"
            ]
        },
        {
            "cell_type": "markdown",
            "metadata": {},
            "source": [
                "## 2. Implementing AI Agent for Anomaly Detection",
                "",
                "We'll create a simple AI agent using Isolation Forest to detect suspicious transactions."
            ]
        },
        {
            "cell_type": "code",
            "execution_count": null,
            "metadata": {},
            "outputs": [],
            "source": [
                "class TransactionMonitorAgent:\n",
                "    def __init__(self, contamination=0.05):\n",
                "        self.model = IsolationForest(contamination=contamination, random_state=42)\n",
                "        \n",
                "    def train(self, data):\n",
                "        try:\n",
                "            X = data[['amount']].values\n",
                "            self.model.fit(X)\n",
                "            return True\n",
                "        except Exception as e:\n",
                "            print(f\"Error during training: {e}\")\n",
                "            return False\n",
                "    \n",
                "    def detect_anomalies(self, data):\n",
                "        try:\n",
                "            X = data[['amount']].values\n",
                "            predictions = self.model.predict(X)\n",
                "            return [1 if p == -1 else 0 for p in predictions]\n",
                "        except Exception as e:\n",
                "            print(f\"Error during anomaly detection: {e}\")\n",
                "            return None"
            ]
        },
        {
            "cell_type": "markdown",
            "metadata": {},
            "source": [
                "## 3. Training and Evaluating the AI Agent"
            ]
        },
        {
            "cell_type": "code",
            "execution_count": null,
            "metadata": {},
            "outputs": [],
            "source": [
                "# Initialize and train agent\n",
                "agent = TransactionMonitorAgent()\n",
                "agent.train(df)\n",
                "\n",
                "# Detect anomalies\n",
                "df['predicted_anomaly'] = agent.detect_anomalies(df)\n",
                "\n",
                "# Visualize results\n",
                "plt.figure(figsize=(12, 6))\n",
                "plt.scatter(df[df['predicted_anomaly']==0]['timestamp'], \n",
                "           df[df['predicted_anomaly']==0]['amount'],\n",
                "           label='Normal', alpha=0.5)\n",
                "plt.scatter(df[df['predicted_anomaly']==1]['timestamp'],\n",
                "           df[df['predicted_anomaly']==1]['amount'],\n",
                "           color='red', label='Anomaly', alpha=0.7)\n",
                "plt.xlabel('Timestamp')\n",
                "plt.ylabel('Transaction Amount')\n",
                "plt.title('AI Agent Detection of Anomalous Transactions')\n",
                "plt.legend()\n",
                "plt.xticks(rotation=45)\n",
                "plt.tight_layout()"
            ]
        },
        {
            "cell_type": "markdown",
            "metadata": {},
            "source": [
                "## Conclusion",
                "",
                "This notebook demonstrated a simple implementation of an AI agent for transaction monitoring in decentralized networks. We showed how such agents can automatically detect suspicious activities and enhance trust in DeFi systems. In practice, more sophisticated models would incorporate additional features and real-time processing capabilities."
            ]
        }
    ],
    "metadata": {
        "kernelspec": {
            "display_name": "Python 3",
            "language": "python",
            "name": "python3"
        },
        "language_info": {
            "codemirror_mode": {
                "name": "ipython",
                "version": 3
            },
            "file_extension": ".py",
            "mimetype": "text/x-python",
            "name": "python",
            "nbconvert_exporter": "python",
            "pygments_lexer": "ipython3",
            "version": "3.8.0"
        }
    },
    "nbformat": 4,
    "nbformat_minor": 4
}