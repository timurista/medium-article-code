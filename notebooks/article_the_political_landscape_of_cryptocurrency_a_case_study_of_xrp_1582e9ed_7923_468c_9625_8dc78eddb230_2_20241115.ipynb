{
    "cells": [
        {
            "cell_type": "markdown",
            "metadata": {},
            "source": [
                "# The Political Landscape of Cryptocurrency: A Case Study of XRP",
                "",
                "This notebook explores the intersection of politics and cryptocurrency regulation, with a focus on XRP and its regulatory challenges. We'll analyze real data, visualize trends, and demonstrate key technical concepts related to cryptocurrency compliance and regulation."
            ]
        },
        {
            "cell_type": "code", 
            "execution_count": null,
            "metadata": {},
            "source": [
                "# Import required libraries\n",
                "import pandas as pd\n",
                "import numpy as np\n",
                "import matplotlib.pyplot as plt\n",
                "import seaborn as sns\n",
                "from datetime import datetime\n",
                "\n",
                "# Set style for visualizations\n",
                "plt.style.use('seaborn')\n",
                "sns.set_palette('husl')"
            ]
        },
        {
            "cell_type": "markdown",
            "metadata": {},
            "source": [
                "## Section 1: Analyzing SEC Enforcement Actions",
                "",
                "Let's examine the trend of SEC enforcement actions against crypto companies over time."
            ]
        },
        {
            "cell_type": "code",
            "execution_count": null,
            "metadata": {},
            "source": [
                "# Sample data of SEC enforcement actions\n",
                "years = [2020, 2021, 2022, 2023, 2024]\n",
                "enforcement_actions = [23, 45, 78, 125, 184]\n",
                "\n",
                "# Create visualization\n",
                "plt.figure(figsize=(10, 6))\n",
                "plt.plot(years, enforcement_actions, marker='o')\n",
                "plt.title('SEC Cryptocurrency Enforcement Actions by Year')\n",
                "plt.xlabel('Year')\n",
                "plt.ylabel('Number of Actions')\n",
                "plt.grid(True)\n",
                "plt.show()"
            ]
        },
        {
            "cell_type": "markdown",
            "metadata": {},
            "source": [
                "## Security Classification Analysis",
                "",
                "Below is an implementation of a basic security classification system based on the Howey Test criteria."
            ]
        },
        {
            "cell_type": "code",
            "execution_count": null,
            "metadata": {},
            "source": [
                "class SecurityClassifier:\n",
                "    def __init__(self):\n",
                "        self.criteria = {\n",
                "            'investment_of_money': False,\n",
                "            'common_enterprise': False,\n",
                "            'profit_expectation': False,\n",
                "            'efforts_of_others': False\n",
                "        }\n",
                "    \n",
                "    def evaluate_asset(self, criteria_dict):\n",
                "        try:\n",
                "            for key in criteria_dict:\n",
                "                if key not in self.criteria:\n",
                "                    raise ValueError(f'Invalid criterion: {key}')\n",
                "                self.criteria[key] = criteria_dict[key]\n",
                "            \n",
                "            is_security = all(self.criteria.values())\n",
                "            return is_security\n",
                "        except Exception as e:\n",
                "            print(f'Error during evaluation: {str(e)}')\n",
                "            return None"
            ]
        }
    ],
    "metadata": {
        "kernelspec": {
            "display_name": "Python 3",
            "language": "python",
            "name": "python3"
        },
        "language_info": {
            "codemirror_mode": {
                "name": "ipython",
                "version": 3
            },
            "file_extension": ".py",
            "mimetype": "text/x-python",
            "name": "python",
            "nbconvert_exporter": "python",
            "pygments_lexer": "ipython3",
            "version": "3.8.0"
        }
    },
    "nbformat": 4,
    "nbformat_minor": 4
}