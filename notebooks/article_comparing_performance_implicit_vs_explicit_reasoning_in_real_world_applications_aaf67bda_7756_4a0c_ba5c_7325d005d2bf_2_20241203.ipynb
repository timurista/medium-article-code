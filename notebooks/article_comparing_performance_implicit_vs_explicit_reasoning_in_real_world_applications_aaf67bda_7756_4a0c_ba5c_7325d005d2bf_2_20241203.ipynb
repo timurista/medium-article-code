{
    "cells": [
        {
            "cell_type": "markdown",
            "metadata": {},
            "source": [
                "# Comparing Performance: Implicit vs. Explicit Reasoning in AI",
                "",
                "This notebook demonstrates and compares implicit and explicit reasoning approaches in AI applications through practical code examples and visualizations. We'll explore how these different reasoning styles impact real-world applications in fields like healthcare, finance, and customer service.",
                "",
                "## Overview",
                "- Implicit reasoning: Pattern-based, statistical approach using deep learning",
                "- Explicit reasoning: Step-by-step logical approach using rule-based systems",
                "- Performance comparison across different domains",
                "- Visualization of results and metrics"
            ]
        },
        {
            "cell_type": "code", 
            "metadata": {},
            "execution_count": null,
            "outputs": [],
            "source": [
                "# Import required libraries\n",
                "import numpy as np\n",
                "import pandas as pd\n",
                "import matplotlib.pyplot as plt\n",
                "import seaborn as sns\n",
                "from sklearn import tree\n",
                "from transformers import pipeline\n",
                "\n",
                "# Set random seed for reproducibility\n",
                "np.random.seed(42)"
            ]
        },
        {
            "cell_type": "markdown",
            "metadata": {},
            "source": [
                "## Implicit Reasoning Example",
                "",
                "Let's first look at how implicit reasoning works using a text summarization example with a pre-trained language model."
            ]
        },
        {
            "cell_type": "code",
            "metadata": {},
            "execution_count": null,
            "outputs": [],
            "source": [
                "try:\n",
                "    # Initialize summarizer\n",
                "    summarizer = pipeline('summarization')\n",
                "    \n",
                "    # Example text\n",
                "    text = \"\"\"\n",
                "    Artificial intelligence systems are increasingly being deployed in critical domains.\n",
                "    These systems must make complex decisions that can significantly impact people's lives.\n",
                "    Understanding how they reason and make decisions is crucial for ensuring safety and reliability.\n",
                "    \"\"\"\n",
                "    \n",
                "    # Generate summary\n",
                "    summary = summarizer(text, max_length=50, min_length=20)\n",
                "    print(f\"Summary: {summary[0]['summary_text']}\")\n",
                "\n",
                "except Exception as e:\n",
                "    print(f\"Error occurred: {str(e)}\")"
            ]
        }
    ],
    "metadata": {
        "kernelspec": {
            "display_name": "Python 3",
            "language": "python",
            "name": "python3"
        },
        "language_info": {
            "codemirror_mode": {
                "name": "ipython",
                "version": 3
            },
            "file_extension": ".py",
            "mimetype": "text/x-python", 
            "name": "python",
            "nbconvert_exporter": "python",
            "pygments_lexer": "ipython3",
            "version": "3.8.0"
        }
    },
    "nbformat": 4,
    "nbformat_minor": 4
}