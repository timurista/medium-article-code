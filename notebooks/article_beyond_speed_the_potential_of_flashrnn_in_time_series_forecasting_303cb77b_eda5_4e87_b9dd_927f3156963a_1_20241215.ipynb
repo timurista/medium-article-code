{
    "cells": [
        {
            "cell_type": "markdown",
            "metadata": {},
            "source": [
                "# Beyond Speed: The Potential of FlashRNN in Time-Series Forecasting",
                "",
                "This notebook demonstrates the concepts and implementation of FlashRNN for time-series forecasting tasks, comparing it with traditional RNN approaches. We'll explore the fundamentals, implementation details, and practical applications."
            ]
        },
        {
            "cell_type": "markdown", 
            "metadata": {},
            "source": [
                "## Setup and Dependencies",
                "",
                "Let's import the required libraries and set up our environment."
            ]
        },
        {
            "cell_type": "code",
            "execution_count": null,
            "metadata": {},
            "outputs": [],
            "source": [
                "import numpy as np\n",
                "import pandas as pd\n",
                "import matplotlib.pyplot as plt\n",
                "import seaborn as sns\n",
                "from tensorflow.keras.models import Sequential\n",
                "from tensorflow.keras.layers import LSTM, Dense\n",
                "from sklearn.preprocessing import MinMaxScaler\n",
                "\n",
                "# Set random seed for reproducibility\n",
                "np.random.seed(42)\n",
                "plt.style.use('seaborn')"
            ]
        },
        {
            "cell_type": "markdown",
            "metadata": {},
            "source": [
                "## Time-Series Data Preparation",
                "",
                "We'll create helper functions to prepare time-series data for both traditional RNNs and FlashRNN."
            ]
        },
        {
            "cell_type": "code",
            "execution_count": null,
            "metadata": {},
            "outputs": [],
            "source": [
                "def create_dataset(data, time_step=1):\n",
                "    \"\"\"Create time-series dataset with sliding window approach\"\"\"\n",
                "    try:\n",
                "        dataX, dataY = [], []\n",
                "        for i in range(len(data)-time_step-1):\n",
                "            a = data[i:(i+time_step)]\n",
                "            dataX.append(a)\n",
                "            dataY.append(data[i + time_step])\n",
                "        return np.array(dataX), np.array(dataY)\n",
                "    except Exception as e:\n",
                "        print(f\"Error creating dataset: {str(e)}\")\n",
                "        return None, None"
            ]
        },
        {
            "cell_type": "markdown",
            "metadata": {},
            "source": [
                "## Example: Simple Time-Series Forecasting",
                "",
                "Let's demonstrate a basic time-series forecasting example using synthetic data."
            ]
        },
        {
            "cell_type": "code",
            "execution_count": null,
            "metadata": {},
            "outputs": [],
            "source": [
                "# Generate synthetic time series data\n",
                "t = np.linspace(0, 100, 1000)\n",
                "data = np.sin(0.1 * t) + np.random.normal(0, 0.1, 1000)\n",
                "\n",
                "# Prepare data\n",
                "scaler = MinMaxScaler()\n",
                "data_normalized = scaler.fit_transform(data.reshape(-1, 1))\n",
                "X, y = create_dataset(data_normalized, time_step=10)\n",
                "\n",
                "# Split into train/test\n",
                "train_size = int(len(X) * 0.8)\n",
                "X_train, X_test = X[:train_size], X[train_size:]\n",
                "y_train, y_test = y[:train_size], y[train_size:]"
            ]
        }
    ],
    "metadata": {
        "kernelspec": {
            "display_name": "Python 3",
            "language": "python",
            "name": "python3"
        },
        "language_info": {
            "codemirror_mode": {
                "name": "ipython",
                "version": 3
            },
            "file_extension": ".py",
            "mimetype": "text/x-python", 
            "name": "python",
            "nbconvert_exporter": "python",
            "pygments_lexer": "ipython3",
            "version": "3.8.0"
        }
    },
    "nbformat": 4,
    "nbformat_minor": 4
}