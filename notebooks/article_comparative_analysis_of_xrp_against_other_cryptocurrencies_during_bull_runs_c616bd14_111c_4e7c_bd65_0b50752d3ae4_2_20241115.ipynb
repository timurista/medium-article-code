{
    "cells": [
        {
            "cell_type": "markdown", 
            "metadata": {},
            "source": [
                "# Comparative Analysis of XRP Against Other Cryptocurrencies During Bull Runs",
                "\nThis notebook demonstrates a technical analysis of XRP's performance compared to other major cryptocurrencies during bull market periods. We'll examine historical price data, transaction metrics, and market indicators to understand the unique characteristics of XRP's behavior during bullish trends."
            ]
        },
        {
            "cell_type": "code",
            "execution_count": null,
            "metadata": {},
            "source": [
                "# Import required libraries\n",
                "import pandas as pd\n",
                "import numpy as np\n",
                "import matplotlib.pyplot as plt\n",
                "import seaborn as sns\n",
                "import yfinance as yf\n",
                "import requests\n",
                "from datetime import datetime, timedelta\n",
                "\n",
                "# Set plotting style\n",
                "plt.style.use('seaborn')\n",
                "sns.set_palette('husl')"
            ]
        },
        {
            "cell_type": "markdown",
            "metadata": {},
            "source": [
                "## Data Collection and Processing\n",
                "\nLet's gather historical price data for XRP, Bitcoin, Ethereum, and Solana using the Yahoo Finance API."
            ]
        },
        {
            "cell_type": "code",
            "execution_count": null,
            "metadata": {},
            "source": [
                "def fetch_crypto_data(symbols, start_date='2020-01-01'):\n",
                "    \"\"\"Fetch historical cryptocurrency data\"\"\"\n",
                "    try:\n",
                "        data = {}\n",
                "        for symbol in symbols:\n",
                "            ticker = yf.Ticker(f'{symbol}-USD')\n",
                "            data[symbol] = ticker.history(start=start_date)\n",
                "        return data\n",
                "    except Exception as e:\n",
                "        print(f'Error fetching data: {e}')\n",
                "        return None\n",
                "\n",
                "# Fetch data for major cryptocurrencies\n",
                "symbols = ['XRP', 'BTC', 'ETH', 'SOL']\n",
                "crypto_data = fetch_crypto_data(symbols)"
            ]
        },
        {
            "cell_type": "markdown",
            "metadata": {},
            "source": [
                "## Performance Analysis\n",
                "\nLet's analyze and visualize the relative performance of each cryptocurrency."
            ]
        },
        {
            "cell_type": "code",
            "execution_count": null,
            "metadata": {},
            "source": [
                "def plot_relative_performance(data, symbols):\n",
                "    \"\"\"Plot normalized price performance\"\"\"\n",
                "    plt.figure(figsize=(12, 6))\n",
                "    \n",
                "    for symbol in symbols:\n",
                "        prices = data[symbol]['Close']\n",
                "        normalized = prices / prices.iloc[0] * 100\n",
                "        plt.plot(normalized.index, normalized, label=symbol)\n",
                "    \n",
                "    plt.title('Relative Performance (Normalized to 100)')\n",
                "    plt.xlabel('Date')\n",
                "    plt.ylabel('Price Performance (%)')\n",
                "    plt.legend()\n",
                "    plt.grid(True)\n",
                "    plt.show()\n",
                "\n",
                "plot_relative_performance(crypto_data, symbols)"
            ]
        },
        {
            "cell_type": "markdown",
            "metadata": {},
            "source": [
                "## Transaction Metrics Comparison",
                "\nCompare transaction speeds and costs across different cryptocurrencies."
            ]
        },
        {
            "cell_type": "code",
            "execution_count": null,
            "metadata": {},
            "source": [
                "# Create comparison dataframe\n",
                "metrics_data = {\n",
                "    'Cryptocurrency': symbols,\n",
                "    'Tx Speed (seconds)': [4, 600, 15, 0.4],\n",
                "    'Avg Cost ($)': [0.01, 5.00, 10.00, 0.00025],\n",
                "    'TPS': [1500, 7, 15, 65000]\n",
                "}\n",
                "\n",
                "metrics_df = pd.DataFrame(metrics_data)\n",
                "print('Transaction Metrics Comparison:')\n",
                "display(metrics_df)"
            ]
        }
    ],
    "metadata": {
        "kernelspec": {
            "display_name": "Python 3",
            "language": "python",
            "name": "python3"
        },
        "language_info": {
            "codemirror_mode": {
                "name": "ipython",
                "version": 3
            },
            "file_extension": ".py",
            "mimetype": "text/x-python", 
            "name": "python",
            "nbconvert_exporter": "python",
            "pygments_lexer": "ipython3",
            "version": "3.8.0"
        }
    },
    "nbformat": 4,
    "nbformat_minor": 4
}