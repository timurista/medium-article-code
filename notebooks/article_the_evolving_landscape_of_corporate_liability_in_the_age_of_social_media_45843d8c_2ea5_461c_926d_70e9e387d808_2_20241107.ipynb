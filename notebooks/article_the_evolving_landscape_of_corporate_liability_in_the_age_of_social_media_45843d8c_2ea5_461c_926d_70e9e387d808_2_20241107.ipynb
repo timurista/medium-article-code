{
    "cells": [
        {
            "cell_type": "markdown",
            "metadata": {},
            "source": [
                "# Corporate Liability in the Age of Social Media: A Technical Analysis\n",
                "\n",
                "This notebook demonstrates key technical concepts and implementations related to managing corporate social media risk and compliance."
            ]
        },
        {
            "cell_type": "markdown", 
            "metadata": {},
            "source": [
                "## Setup and Dependencies\n",
                "\n", 
                "Let's start by importing the required libraries:"
            ]
        },
        {
            "cell_type": "code",
            "metadata": {},
            "source": [
                "import pandas as pd\n",
                "import numpy as np\n",
                "import matplotlib.pyplot as plt\n",
                "import seaborn as sns\n",
                "from Crypto.Cipher import AES\n",
                "from Crypto.Random import get_random_bytes\n",
                "import re\n",
                "import nltk\n",
                "from textblob import TextBlob"
            ],
            "execution_count": null,
            "outputs": []
        },
        {
            "cell_type": "markdown",
            "metadata": {},
            "source": [
                "## 1. Content Moderation System\n",
                "\n",
                "First, let's implement a basic content moderation system that can help identify potentially harmful content:"
            ]
        },
        {
            "cell_type": "code",
            "metadata": {},
            "source": [
                "class ContentModerator:\n",
                "    def __init__(self):\n",
                "        # Define patterns for harmful content\n",
                "        self.harmful_patterns = {\n",
                "            'hate_speech': r'\\b(hate|racist|bigot)\\b',\n",
                "            'violence': r'\\b(kill|attack|threat|bomb)\\b',\n",
                "            'fraud': r'\\b(scam|fraud|fake|deceptive)\\b'\n",
                "        }\n",
                "    \n",
                "    def check_content(self, text):\n",
                "        results = {}\n",
                "        for category, pattern in self.harmful_patterns.items():\n",
                "            matches = re.findall(pattern, text.lower())\n",
                "            results[category] = len(matches) > 0\n",
                "        return results\n",
                "\n",
                "# Example usage\n",
                "moderator = ContentModerator()\n",
                "sample_text = \"This product seems like a scam and contains deceptive claims.\"\n",
                "print(moderator.check_content(sample_text))"
            ],
            "execution_count": null,
            "outputs": []
        },
        {
            "cell_type": "markdown",
            "metadata": {},
            "source": [
                "## 2. Sentiment Analysis for Social Media Monitoring\n",
                "\n",
                "Let's create a system to analyze sentiment in social media posts:"
            ]
        },
        {
            "cell_type": "code",
            "metadata": {},
            "source": [
                "def analyze_sentiment(text):\n",
                "    \"\"\"Analyze sentiment of text using TextBlob\"\"\"\n",
                "    analysis = TextBlob(text)\n",
                "    return {\n",
                "        'polarity': analysis.sentiment.polarity,\n",
                "        'subjectivity': analysis.sentiment.subjectivity,\n",
                "        'sentiment': 'positive' if analysis.sentiment.polarity > 0 else 'negative' if analysis.sentiment.polarity < 0 else 'neutral'\n",
                "    }\n",
                "\n",
                "# Example social media posts\n",
                "posts = [\n",
                "    \"We love the new product launch! Great innovation!\",\n",
                "    \"Customer service was terrible, very disappointed.\",\n",
                "    \"The company's statement seems unclear and confusing.\"\n",
                "]\n",
                "\n",
                "# Analyze posts\n",
                "results = [analyze_sentiment(post) for post in posts]\n",
                "for post, result in zip(posts, results):\n",
                "    print(f\"Post: {post}\\nAnalysis: {result}\\n\")"
            ],
            "execution_count": null,
            "outputs": []
        },
        {
            "cell_type": "markdown",
            "metadata": {},
            "source": [
                "## 3. Secure Data Handling\n",
                "\n",
                "Implementation of secure data handling for sensitive information:"
            ]
        },
        {
            "cell_type": "code",
            "metadata": {},
            "source": [
                "class SecureDataHandler:\n",
                "    def __init__(self):\n",
                "        self.key = get_random_bytes(16)\n",
                "    \n",
                "    def encrypt_data(self, data):\n",
                "        cipher = AES.new(self.key, AES.MODE_EAX)\n",
                "        nonce = cipher.nonce\n",
                "        data_bytes = data.encode('utf-8')\n",
                "        ciphertext, tag = cipher.encrypt_and_digest(data_bytes)\n",
                "        return {'ciphertext': ciphertext, 'nonce': nonce, 'tag': tag}\n",
                "    \n",
                "    def decrypt_data(self, encrypted_data):\n",
                "        cipher = AES.new(self.key, AES.MODE_EAX, nonce=encrypted_data['nonce'])\n",
                "        plaintext = cipher.decrypt(encrypted_data['ciphertext'])\n",
                "        try:\n",
                "            cipher.verify(encrypted_data['tag'])\n",
                "            return plaintext.decode('utf-8')\n",
                "        except ValueError:\n",
                "            return \"Error: Data tampering detected\"\n",
                "\n",
                "# Example usage\n",
                "handler = SecureDataHandler()\n",
                "sensitive_data = \"Confidential customer information\"\n",
                "encrypted = handler.encrypt_data(sensitive_data)\n",
                "decrypted = handler.decrypt_data(encrypted)\n",
                "print(f\"Original: {sensitive_data}\")\n",
                "print(f\"Decrypted: {decrypted}\")"
            ],
            "execution_count": null,
            "outputs": []
        }
    ]
}