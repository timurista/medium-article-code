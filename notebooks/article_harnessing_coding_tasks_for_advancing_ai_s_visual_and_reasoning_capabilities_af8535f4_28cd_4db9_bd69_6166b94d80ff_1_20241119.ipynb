{
    "cells": [
        {
            "cell_type": "markdown",
            "metadata": {},
            "source": [
                "# Harnessing Coding Tasks for Advancing AI's Visual and Reasoning Capabilities",
                "",
                "This notebook demonstrates key concepts from the article about using coding tasks to evaluate and advance AI's visual understanding and reasoning capabilities. We'll explore practical examples and implementations of the concepts discussed."
            ]
        },
        {
            "cell_type": "markdown", 
            "metadata": {},
            "source": [
                "## Setup and Required Libraries",
                "",
                "First, let's import the libraries we'll need:"
            ]
        },
        {
            "cell_type": "code",
            "execution_count": null,
            "metadata": {},
            "outputs": [],
            "source": [
                "import numpy as np\n",
                "import matplotlib.pyplot as plt\n",
                "import seaborn as sns\n",
                "import pandas as pd\n",
                "import unittest\n",
                "\n",
                "# Set plotting style\n",
                "plt.style.use('seaborn')\n",
                "sns.set_theme()"
            ]
        },
        {
            "cell_type": "markdown",
            "metadata": {}, 
            "source": [
                "## 1. Binary Search Implementation Example",
                "",
                "Let's implement the binary search algorithm discussed in the article with proper error handling and testing:"
            ]
        },
        {
            "cell_type": "code",
            "execution_count": null,
            "metadata": {},
            "outputs": [],
            "source": [
                "def binary_search(arr, target):\n",
                "    \"\"\"Perform binary search on sorted array\n",
                "    \n",
                "    Args:\n",
                "        arr (list): Sorted list of numbers\n",
                "        target (int): Number to find\n",
                "        \n",
                "    Returns:\n",
                "        int: Index of target if found, -1 otherwise\n",
                "        \n",
                "    Raises:\n",
                "        TypeError: If inputs are invalid types\n",
                "    \"\"\"\n",
                "    # Input validation\n",
                "    if not isinstance(arr, list):\n",
                "        raise TypeError(\"Input array must be a list\")\n",
                "        \n",
                "    try:\n",
                "        low, high = 0, len(arr) - 1\n",
                "        while low <= high:\n",
                "            mid = (low + high) // 2\n",
                "            if arr[mid] < target:\n",
                "                low = mid + 1\n",
                "            elif arr[mid] > target:\n",
                "                high = mid - 1 \n",
                "            else:\n",
                "                return mid\n",
                "        return -1\n",
                "    except TypeError:\n",
                "        raise TypeError(\"Array elements must be comparable\")"
            ]
        },
        {
            "cell_type": "markdown",
            "metadata": {},
            "source": [
                "## 2. Visualizing Algorithm Performance",
                "",
                "Let's create a visualization comparing binary search vs linear search performance:"
            ]
        },
        {
            "cell_type": "code",
            "execution_count": null,
            "metadata": {},
            "outputs": [],
            "source": [
                "def plot_search_comparison():\n",
                "    sizes = [10, 100, 1000, 10000, 100000]\n",
                "    binary_ops = [np.log2(n) for n in sizes]\n",
                "    linear_ops = sizes\n",
                "    \n",
                "    plt.figure(figsize=(10, 6))\n",
                "    plt.plot(sizes, binary_ops, 'b-', label='Binary Search (O(log n))')\n",
                "    plt.plot(sizes, linear_ops, 'r-', label='Linear Search (O(n))')\n",
                "    plt.xscale('log')\n",
                "    plt.yscale('log')\n",
                "    plt.xlabel('Input Size')\n",
                "    plt.ylabel('Operations')\n",
                "    plt.title('Binary vs Linear Search Performance')\n",
                "    plt.legend()\n",
                "    plt.grid(True)\n",
                "    plt.show()\n",
                "\n",
                "plot_search_comparison()"
            ]
        },
        {
            "cell_type": "markdown",
            "metadata": {},
            "source": [
                "## 3. Unit Testing Example",
                "",
                "Demonstrating automated test generation as discussed in the article:"
            ]
        },
        {
            "cell_type": "code",
            "execution_count": null,
            "metadata": {},
            "outputs": [],
            "source": [
                "class TestBinarySearch(unittest.TestCase):\n",
                "    def setUp(self):\n",
                "        self.test_array = [1, 2, 3, 4, 5]\n",
                "    \n",
                "    def test_existing_target(self):\n",
                "        self.assertEqual(binary_search(self.test_array, 3), 2)\n",
                "        \n",
                "    def test_non_existing_target(self):\n",
                "        self.assertEqual(binary_search(self.test_array, 6), -1)\n",
                "        \n",
                "    def test_invalid_input(self):\n",
                "        with self.assertRaises(TypeError):\n",
                "            binary_search(\"not a list\", 5)\n",
                "\n",
                "# Run tests\n",
                "unittest.main(argv=['first-arg-is-ignored'], exit=False)"
            ]
        },
        {
            "cell_type": "markdown",
            "metadata": {},
            "source": [
                "## Best Practices and Tips",
                "",
                "1. Always include input validation and error handling\n",
                "2. Document functions with clear docstrings\n",
                "3. Write comprehensive unit tests\n",
                "4. Use visualization to understand algorithm performance\n",
                "5. Follow consistent coding style and naming conventions"
            ]
        },
        {
            "cell_type": "markdown",
            "metadata": {},
            "source": [
                "## Conclusion",
                "",
                "This notebook demonstrated practical implementations of concepts from the article, including:\n",
                "- Binary search implementation with error handling\n",
                "- Performance visualization\n",
                "- Automated testing\n",
                "- Best practices in coding\n",
                "",
                "These examples show how coding tasks can be used to evaluate and improve AI systems while maintaining high code quality standards."
            ]
        }
    ],
    "metadata": {
        "kernelspec": {
            "display_name": "Python 3",
            "language": "python",
            "name": "python3"
        },
        "language_info": {
            "codemirror_mode": {
                "name": "ipython",
                "version": 3
            },
            "file_extension": ".py",
            "mimetype": "text/x-python",
            "name": "python",
            "nbconvert_exporter": "python",
            "pygments_lexer": "ipython3",
            "version": "3.8.0"
        }
    },
    "nbformat": 4,
    "nbformat_minor": 4
}