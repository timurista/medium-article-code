{
    "cells": [
        {
            "cell_type": "markdown",
            "metadata": {},
            "source": [
                "# Optimizing AI Model Serving: A Deep Dive into LitServe's Capabilities",
                "",
                "This notebook demonstrates key concepts and implementations of LitServe for AI model serving. We'll explore its architecture, performance optimizations, and real-world applications."
            ]
        },
        {
            "cell_type": "markdown", 
            "metadata": {},
            "source": [
                "## Setup and Dependencies",
                "",
                "First, let's install and import the required packages:"
            ]
        },
        {
            "cell_type": "code",
            "metadata": {},
            "source": [
                "# Install required packages\n",
                "!pip install fastapi uvicorn torch transformers litserve\n",
                "\n",
                "# Import dependencies\n",
                "import torch\n",
                "from fastapi import FastAPI\n",
                "from transformers import AutoModelForSequenceClassification, AutoTokenizer\n",
                "import litserve\n",
                "import uvicorn\n",
                "import numpy as np\n",
                "import pandas as pd\n",
                "import matplotlib.pyplot as plt"
            ]
        },
        {
            "cell_type": "markdown",
            "metadata": {},
            "source": [
                "## 1. Basic LitServe Implementation",
                "",
                "Let's create a simple sentiment analysis model server using BERT:"
            ]
        },
        {
            "cell_type": "code", 
            "metadata": {},
            "source": [
                "# Load pre-trained BERT model for sentiment analysis\n",
                "model_name = \"nlptown/bert-base-multilingual-uncased-sentiment\"\n",
                "model = AutoModelForSequenceClassification.from_pretrained(model_name)\n",
                "tokenizer = AutoTokenizer.from_pretrained(model_name)\n",
                "\n",
                "# Initialize FastAPI and LitServe\n",
                "app = FastAPI()\n",
                "litserve_instance = litserve.LitServe(model)\n",
                "\n",
                "@app.post(\"/predict\")\n",
                "async def predict(text: str):\n",
                "    # Tokenize input\n",
                "    inputs = tokenizer(text, return_tensors=\"pt\", padding=True, truncation=True)\n",
                "    \n",
                "    # Get prediction\n",
                "    output = await litserve_instance.predict(inputs)\n",
                "    sentiment_score = torch.argmax(output.logits).item() + 1\n",
                "    \n",
                "    return {\"text\": text, \"sentiment\": sentiment_score}"
            ]
        },
        {
            "cell_type": "markdown",
            "metadata": {},
            "source": [
                "## 2. Performance Optimization",
                "",
                "Now let's implement dynamic batching and parallel processing:"
            ]
        },
        {
            "cell_type": "code",
            "metadata": {},
            "source": [
                "# Configure dynamic batching\n",
                "litserve_instance.configure_batching(\n",
                "    max_batch_size=32,\n",
                "    batch_timeout_seconds=0.1,\n",
                "    max_concurrent_batches=4\n",
                ")\n",
                "\n",
                "# Set up worker processes\n",
                "import os\n",
                "num_workers = os.cpu_count()\n",
                "litserve_instance.initialize_workers(num_workers)\n",
                "\n",
                "# Add monitoring metrics\n",
                "from prometheus_client import Counter, Histogram\n",
                "REQUEST_COUNT = Counter('request_count', 'Total requests processed')\n",
                "LATENCY = Histogram('request_latency_seconds', 'Request latency')"
            ]
        },
        {
            "cell_type": "markdown",
            "metadata": {},
            "source": [
                "## 3. Benchmarking and Visualization",
                "",
                "Let's create a simple benchmark to measure performance:"
            ]
        },
        {
            "cell_type": "code",
            "metadata": {},
            "source": [
                "import time\n",
                "import concurrent.futures\n",
                "\n",
                "# Benchmark function\n",
                "async def run_benchmark(num_requests=1000):\n",
                "    latencies = []\n",
                "    test_text = \"This is a sample text for benchmarking.\"\n",
                "    \n",
                "    for _ in range(num_requests):\n",
                "        start_time = time.time()\n",
                "        await predict(test_text)\n",
                "        latency = time.time() - start_time\n",
                "        latencies.append(latency)\n",
                "    \n",
                "    return latencies\n",
                "\n",
                "# Run benchmark and plot results\n",
                "latencies = await run_benchmark()\n",
                "plt.figure(figsize=(10, 6))\n",
                "plt.hist(latencies, bins=50)\n",
                "plt.title('Request Latency Distribution')\n",
                "plt.xlabel('Latency (seconds)')\n",
                "plt.ylabel('Frequency')\n",
                "plt.show()\n",
                "\n",
                "print(f\"Average latency: {np.mean(latencies):.3f} seconds\")\n",
                "print(f\"95th percentile latency: {np.percentile(latencies, 95):.3f} seconds\")"
            ]
        },
        {
            "cell_type": "markdown",
            "metadata": {},
            "source": [
                "## 4. Error Handling and Best Practices",
                "",
                "Implementing robust error handling:"
            ]
        },
        {
            "cell_type": "code",
            "metadata": {},
            "source": [
                "from fastapi import HTTPException\n",
                "from typing import Optional\n",
                "\n",
                "@app.post(\"/predict_with_error_handling\")\n",
                "async def predict_safe(text: Optional[str] = None):\n",
                "    try:\n",
                "        if not text:\n",
                "            raise ValueError(\"Empty text provided\")\n",
                "            \n",
                "        if len(text) > 512:\n",
                "            raise ValueError(\"Text too long (max 512 characters)\")\n",
                "            \n",
                "        result = await predict(text)\n",
                "        return result\n",
                "        \n",
                "    except ValueError as e:\n",
                "        raise HTTPException(status_code=400, detail=str(e))\n",
                "        \n",
                "    except Exception as e:\n",
                "        # Log the error\n",
                "        print(f\"Error processing request: {str(e)}\")\n",
                "        raise HTTPException(status_code=500, detail=\"Internal server error\")"
            ]
        },
        {
            "cell_type": "markdown",
            "metadata": {},
            "source": [
                "## Conclusion",
                "",
                "This notebook demonstrated key concepts of LitServe including:",
                "- Basic setup and implementation",
                "- Performance optimization techniques",
                "- Benchmarking and monitoring",
                "- Error handling best practices",
                "",
                "For production deployments, consider additional aspects like:",
                "- Kubernetes deployment configurations",
                "- Monitoring and alerting setup",
                "- Load balancing and auto-scaling",
                "- Regular performance testing"
            ]
        }
    ],
    "metadata": {
        "kernelspec": {
            "display_name": "Python 3",
            "language": "python",
            "name": "python3"
        },
        "language_info": {
            "codemirror_mode": {
                "name": "ipython",
                "version": 3
            },
            "file_extension": ".py",
            "mimetype": "text/x-python",
            "name": "python",
            "nbconvert_exporter": "python",
            "pygments_lexer": "ipython3",
            "version": "3.8.0"
        }
    },
    "nbformat": 4,
    "nbformat_minor": 4
}