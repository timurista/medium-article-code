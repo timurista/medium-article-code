{
    "cells": [
        {
            "cell_type": "markdown",
            "metadata": {},
            "source": [
                "# Rethinking Knowledge Integration: The Case for KAG Over Traditional RAG",
                "\n## Introduction",
                "\nThis notebook demonstrates the key concepts, implementations, and comparisons between Knowledge Augmented Generation (KAG) and traditional Retrieval-Augmented Generation (RAG) systems. We'll explore their architectures, benefits, limitations, and practical applications with code examples."
            ]
        },
        {
            "cell_type": "code", 
            "execution_count": null,
            "metadata": {},
            "source": [
                "# Import required libraries\n",
                "import numpy as np\n",
                "import pandas as pd\n",
                "import networkx as nx\n", 
                "import matplotlib.pyplot as plt\n",
                "import seaborn as sns\n",
                "from rdflib import Graph, Literal, RDF, URIRef"
            ]
        },
        {
            "cell_type": "markdown",
            "metadata": {},
            "source": [
                "## 1. Understanding RAG Systems",
                "\nRAG systems combine retrieval mechanisms with generative models. Let's implement a basic RAG example:"
            ]
        },
        {
            "cell_type": "code",
            "execution_count": null,
            "metadata": {},
            "source": [
                "# Simple RAG implementation example\n",
                "class SimpleRAG:\n",
                "    def __init__(self):\n",
                "        self.document_store = {}\n",
                "        \n",
                "    def add_document(self, doc_id, content):\n",
                "        self.document_store[doc_id] = content\n",
                "        \n",
                "    def retrieve(self, query):\n",
                "        # Simple keyword matching\n",
                "        results = []\n",
                "        for doc_id, content in self.document_store.items():\n",
                "            if query.lower() in content.lower():\n",
                "                results.append((doc_id, content))\n",
                "        return results\n",
                "\n",
                "# Create RAG instance\n",
                "rag = SimpleRAG()\n",
                "rag.add_document(1, \"AI and machine learning are transforming technology\")\n",
                "rag.add_document(2, \"Knowledge graphs represent structured data relationships\")"
            ]
        },
        {
            "cell_type": "markdown",
            "metadata": {},
            "source": [
                "## 2. Knowledge Graphs in KAG",
                "\nLet's implement a simple knowledge graph structure:"
            ]
        },
        {
            "cell_type": "code",
            "execution_count": null,
            "metadata": {},
            "source": [
                "# Create a sample knowledge graph\n",
                "G = nx.DiGraph()\n",
                "\n",
                "# Add nodes and edges\n",
                "nodes = ['AI', 'Machine Learning', 'Neural Networks', 'Knowledge Graphs']\n",
                "edges = [('AI', 'Machine Learning'), \n",
                "         ('Machine Learning', 'Neural Networks'),\n",
                "         ('AI', 'Knowledge Graphs')]\n",
                "\n",
                "G.add_nodes_from(nodes)\n",
                "G.add_edges_from(edges)\n",
                "\n",
                "# Visualize the graph\n",
                "plt.figure(figsize=(10, 8))\n",
                "nx.draw(G, with_labels=True, node_color='lightblue', \n",
                "        node_size=2000, font_size=10, font_weight='bold')\n",
                "plt.title('Simple AI Knowledge Graph')\n",
                "plt.show()"
            ]
        },
        {
            "cell_type": "markdown",
            "metadata": {},
            "source": [
                "## 3. Implementing KAG Features",
                "\nLet's create a basic KAG implementation that uses knowledge graphs:"
            ]
        },
        {
            "cell_type": "code",
            "execution_count": null,
            "metadata": {},
            "source": [
                "class SimpleKAG:\n",
                "    def __init__(self):\n",
                "        self.knowledge_graph = nx.DiGraph()\n",
                "        self.facts = {}\n",
                "        \n",
                "    def add_knowledge(self, subject, predicate, object):\n",
                "        self.knowledge_graph.add_edge(subject, object, relation=predicate)\n",
                "        \n",
                "    def query_knowledge(self, query):\n",
                "        # Simple path-based reasoning\n",
                "        paths = []\n",
                "        for node in self.knowledge_graph.nodes():\n",
                "            if query.lower() in node.lower():\n",
                "                for target in self.knowledge_graph.nodes():\n",
                "                    if nx.has_path(self.knowledge_graph, node, target):\n",
                "                        path = nx.shortest_path(self.knowledge_graph, node, target)\n",
                "                        paths.append(path)\n",
                "        return paths\n",
                "\n",
                "# Create KAG instance\n",
                "kag = SimpleKAG()\n",
                "kag.add_knowledge('AI', 'includes', 'Machine Learning')\n",
                "kag.add_knowledge('Machine Learning', 'uses', 'Neural Networks')"
            ]
        },
        {
            "cell_type": "markdown",
            "metadata": {},
            "source": [
                "## Conclusion",
                "\nThis notebook has demonstrated basic implementations of RAG and KAG systems, highlighting the key differences and advantages of using knowledge graphs for enhanced reasoning and knowledge integration. KAG shows promise in providing more structured and accurate results compared to traditional RAG approaches."
            ]
        }
    ],
    "metadata": {
        "kernelspec": {
            "display_name": "Python 3",
            "language": "python",
            "name": "python3"
        },
        "language_info": {
            "codemirror_mode": {
                "name": "ipython",
                "version": 3
            },
            "file_extension": ".py",
            "mimetype": "text/x-python",
            "name": "python",
            "nbconvert_exporter": "python",
            "pygments_lexer": "ipython3",
            "version": "3.8.0"
        }
    },
    "nbformat": 4,
    "nbformat_minor": 4
}