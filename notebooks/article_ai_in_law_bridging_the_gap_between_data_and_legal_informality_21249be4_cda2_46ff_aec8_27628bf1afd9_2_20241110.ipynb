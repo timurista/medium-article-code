{
    "cells": [
        {
            "cell_type": "markdown",
            "metadata": {},
            "source": [
                "# AI in Law: Bridging the Gap Between Data and Legal Informality",
                "",
                "This notebook demonstrates how AI technologies can be used to analyze, structure, and enhance legal documents and informal agreements. We'll explore practical examples of using natural language processing and machine learning to improve contract analysis and comprehension."
            ]
        },
        {
            "cell_type": "code",
            "execution_count": null,
            "metadata": {},
            "outputs": [],
            "source": [
                "# Import required libraries\n",
                "import pandas as pd\n",
                "import numpy as np\n",
                "import matplotlib.pyplot as plt\n",
                "import seaborn as sns\n",
                "from transformers import pipeline\n",
                "import spacy\n",
                "import json\n",
                "\n",
                "# Set plotting style\n",
                "plt.style.use('seaborn')\n",
                "sns.set_theme(style=\"whitegrid\")"
            ]
        },
        {
            "cell_type": "markdown", 
            "metadata": {},
            "source": [
                "## Section 1: Analyzing Legal Text",
                "",
                "We'll start by demonstrating how to use NLP to analyze legal documents and extract key information."
            ]
        },
        {
            "cell_type": "code",
            "execution_count": null,
            "metadata": {},
            "outputs": [],
            "source": [
                "# Load spaCy model\n",
                "nlp = spacy.load(\"en_core_web_sm\")\n",
                "\n",
                "# Sample legal text\n",
                "legal_text = \"\"\"\n",
                "The parties hereby agree that all confidential information shared\n",
                "between them shall remain strictly confidential for a period of\n",
                "5 years from the effective date of this agreement.\n",
                "\"\"\"\n",
                "\n",
                "# Process text\n",
                "doc = nlp(legal_text)\n",
                "\n",
                "# Extract entities\n",
                "entities = [(ent.text, ent.label_) for ent in doc.ents]\n",
                "print(\"Extracted Entities:\", entities)"
            ]
        }
    ],
    "metadata": {
        "kernelspec": {
            "display_name": "Python 3",
            "language": "python",
            "name": "python3"
        },
        "language_info": {
            "codemirror_mode": {
                "name": "ipython",
                "version": 3
            },
            "file_extension": ".py",
            "mimetype": "text/x-python", 
            "name": "python",
            "nbconvert_exporter": "python",
            "pygments_lexer": "ipython3",
            "version": "3.8.0"
        }
    },
    "nbformat": 4,
    "nbformat_minor": 4
}