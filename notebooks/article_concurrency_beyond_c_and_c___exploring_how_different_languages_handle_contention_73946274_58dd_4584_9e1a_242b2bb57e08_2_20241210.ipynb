{
    "cells": [
        {
            "cell_type": "markdown",
            "metadata": {},
            "source": [
                "# Concurrency Beyond C and C++: Exploring How Different Languages Handle Contention",
                "",
                "This notebook explores how various programming languages implement and handle concurrency, with a focus on Python, Java, and Rust. We'll examine different concurrency models, their unique features, and practical examples."
            ]
        },
        {
            "cell_type": "markdown", 
            "metadata": {},
            "source": [
                "## Setup",
                "",
                "First, let's import the required libraries for our examples:"
            ]
        },
        {
            "cell_type": "code",
            "execution_count": null,
            "metadata": {},
            "outputs": [],
            "source": [
                "import asyncio\n",
                "import threading\n",
                "import multiprocessing\n",
                "import time\n",
                "import queue\n",
                "import matplotlib.pyplot as plt\n",
                "import seaborn as sns\n",
                "import numpy as np"
            ]
        },
        {
            "cell_type": "markdown",
            "metadata": {},
            "source": [
                "## Python Concurrency Examples",
                "",
                "### 1. Asyncio Example",
                "Let's start with an example of asynchronous programming using asyncio:"
            ]
        },
        {
            "cell_type": "code",
            "execution_count": null,
            "metadata": {},
            "outputs": [],
            "source": [
                "async def async_task(name, seconds):\n",
                "    print(f'Task {name} starting')\n",
                "    await asyncio.sleep(seconds)  # Simulating I/O operation\n",
                "    print(f'Task {name} completed')\n",
                "    return name\n",
                "\n",
                "async def main():\n",
                "    tasks = [\n",
                "        async_task('A', 2),\n",
                "        async_task('B', 1),\n",
                "        async_task('C', 3)\n",
                "    ]\n",
                "    results = await asyncio.gather(*tasks)\n",
                "    return results\n",
                "\n",
                "# Run the async tasks\n",
                "results = asyncio.run(main())"
            ]
        },
        {
            "cell_type": "markdown",
            "metadata": {},
            "source": [
                "### 2. Threading Example",
                "Now let's look at Python's threading capabilities:"
            ]
        },
        {
            "cell_type": "code",
            "execution_count": null,
            "metadata": {},
            "outputs": [],
            "source": [
                "def threaded_task(name, seconds):\n",
                "    print(f'Thread {name} starting')\n",
                "    time.sleep(seconds)\n",
                "    print(f'Thread {name} completed')\n",
                "\n",
                "# Create and start threads\n",
                "threads = [\n",
                "    threading.Thread(target=threaded_task, args=(f'T{i}', i)) \n",
                "    for i in range(1, 4)\n",
                "]\n",
                "\n",
                "for thread in threads:\n",
                "    thread.start()\n",
                "\n",
                "for thread in threads:\n",
                "    thread.join()"
            ]
        },
        {
            "cell_type": "markdown",
            "metadata": {},
            "source": [
                "## Performance Comparison Visualization",
                "",
                "Let's compare the performance of different concurrency approaches:"
            ]
        },
        {
            "cell_type": "code",
            "execution_count": null,
            "metadata": {},
            "outputs": [],
            "source": [
                "def plot_performance_comparison():\n",
                "    approaches = ['Sequential', 'Threading', 'Multiprocessing', 'Asyncio']\n",
                "    times = [10, 6, 4, 3]  # Example execution times\n",
                "    \n",
                "    plt.figure(figsize=(10, 6))\n",
                "    sns.barplot(x=approaches, y=times)\n",
                "    plt.title('Execution Time Comparison of Concurrency Approaches')\n",
                "    plt.ylabel('Time (seconds)')\n",
                "    plt.show()\n",
                "\n",
                "plot_performance_comparison()"
            ]
        },
        {
            "cell_type": "markdown",
            "metadata": {},
            "source": [
                "## Best Practices and Tips",
                "",
                "1. Choose the right concurrency model based on your task:",
                "   - Use asyncio for I/O-bound tasks\n",
                "   - Use multiprocessing for CPU-bound tasks\n",
                "   - Use threading for mixed workloads with careful consideration of the GIL\n",
                "",
                "2. Always implement proper error handling\n",
                "3. Avoid sharing mutable state between threads\n",
                "4. Use appropriate synchronization primitives\n",
                "5. Consider using higher-level abstractions like concurrent.futures"
            ]
        },
        {
            "cell_type": "markdown",
            "metadata": {},
            "source": [
                "## Conclusion",
                "",
                "We've explored different concurrency models in Python and how they can be effectively used for different types of tasks. Each approach has its strengths and appropriate use cases. Understanding these differences is crucial for writing efficient concurrent programs."
            ]
        }
    ],
    "metadata": {
        "kernelspec": {
            "display_name": "Python 3",
            "language": "python",
            "name": "python3"
        },
        "language_info": {
            "codemirror_mode": {
                "name": "ipython",
                "version": 3
            },
            "file_extension": ".py",
            "mimetype": "text/x-python",
            "name": "python",
            "nbconvert_exporter": "python",
            "pygments_lexer": "ipython3",
            "version": "3.8.0"
        }
    },
    "nbformat": 4,
    "nbformat_minor": 4
}