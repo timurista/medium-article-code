{
    "cells": [
        {
            "cell_type": "markdown",
            "metadata": {},
            "source": [
                "# Understanding Technical Analysis: A Deep Dive into Bitcoin's Market Movements",
                "",
                "This notebook demonstrates key concepts and techniques for performing technical analysis on Bitcoin price data. We'll explore various indicators, patterns, and trading strategies using Python."
            ]
        },
        {
            "cell_type": "markdown", 
            "metadata": {},
            "source": [
                "## Setup and Installation",
                "",
                "First, let's install and import the required libraries:"
            ]
        },
        {
            "cell_type": "code",
            "execution_count": null,
            "metadata": {},
            "outputs": [],
            "source": [
                "# Install required packages\n",
                "!pip install pandas numpy matplotlib seaborn plotly ccxt yfinance ta\n",
                "\n",
                "# Import libraries\n",
                "import pandas as pd\n",
                "import numpy as np\n",
                "import matplotlib.pyplot as plt\n",
                "import seaborn as sns\n",
                "import plotly.graph_objects as go\n",
                "import ccxt\n",
                "import yfinance as yf\n",
                "import ta\n",
                "\n",
                "# Set plotting style\n",
                "plt.style.use('seaborn')\n",
                "sns.set_theme(style=\"darkgrid\")"
            ]
        },
        {
            "cell_type": "markdown",
            "metadata": {},
            "source": [
                "## Loading Bitcoin Price Data",
                "",
                "We'll fetch historical Bitcoin price data using the yfinance library:"
            ]
        },
        {
            "cell_type": "code",
            "execution_count": null,
            "metadata": {},
            "outputs": [],
            "source": [
                "# Download Bitcoin historical data\n",
                "btc = yf.download('BTC-USD', start='2020-01-01')\n",
                "\n",
                "# Display the first few rows\n",
                "print(\"Bitcoin price data shape:\", btc.shape)\n",
                "btc.head()"
            ]
        },
        {
            "cell_type": "markdown",
            "metadata": {},
            "source": [
                "## Technical Indicators",
                "",
                "Let's calculate some common technical indicators:"
            ]
        },
        {
            "cell_type": "code",
            "execution_count": null,
            "metadata": {},
            "outputs": [],
            "source": [
                "# Calculate technical indicators\n",
                "btc['SMA_50'] = btc['Close'].rolling(window=50).mean()\n",
                "btc['SMA_200'] = btc['Close'].rolling(window=200).mean()\n",
                "btc['RSI'] = ta.momentum.RSIIndicator(btc['Close']).rsi()\n",
                "\n",
                "# Plot price with moving averages\n",
                "plt.figure(figsize=(15,8))\n",
                "plt.plot(btc.index, btc['Close'], label='Price')\n",
                "plt.plot(btc.index, btc['SMA_50'], label='50-day SMA')\n",
                "plt.plot(btc.index, btc['SMA_200'], label='200-day SMA')\n",
                "plt.title('Bitcoin Price with Moving Averages')\n",
                "plt.xlabel('Date')\n",
                "plt.ylabel('Price (USD)')\n",
                "plt.legend()\n",
                "plt.show()"
            ]
        }
    ],
    "metadata": {
        "kernelspec": {
            "display_name": "Python 3",
            "language": "python",
            "name": "python3"
        },
        "language_info": {
            "codemirror_mode": {
                "name": "ipython",
                "version": 3
            },
            "file_extension": ".py",
            "mimetype": "text/x-python", 
            "name": "python",
            "nbconvert_exporter": "python",
            "pygments_lexer": "ipython3",
            "version": "3.8.0"
        }
    },
    "nbformat": 4,
    "nbformat_minor": 4
}