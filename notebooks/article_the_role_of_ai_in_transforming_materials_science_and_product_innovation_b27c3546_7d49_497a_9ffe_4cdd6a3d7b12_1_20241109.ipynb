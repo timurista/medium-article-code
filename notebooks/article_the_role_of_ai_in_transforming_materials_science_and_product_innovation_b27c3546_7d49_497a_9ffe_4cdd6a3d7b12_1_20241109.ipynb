{
    "cells": [
        {
            "cell_type": "markdown",
            "metadata": {},
            "source": [
                "# AI in Materials Science and Product Innovation",
                "## A Jupyter Notebook Demonstration",
                "\nThis notebook explores the transformative role of AI in materials science research and product development. We'll examine real data, implement key algorithms, and visualize the impact of AI on research productivity and innovation."
            ]
        },
        {
            "cell_type": "markdown", 
            "metadata": {},
            "source": [
                "## Setup and Required Libraries",
                "\nFirst, let's import the necessary Python packages for our analysis:"
            ]
        },
        {
            "cell_type": "code",
            "execution_count": null,
            "metadata": {},
            "outputs": [],
            "source": [
                "import numpy as np\nimport pandas as pd\nimport matplotlib.pyplot as plt\nimport seaborn as sns\nimport torch\nimport torch.nn as nn\nfrom sklearn.model_selection import train_test_split\nfrom sklearn.preprocessing import StandardScaler\n\n# Set styling for plots\nplt.style.use('seaborn')\nsns.set_palette('husl')\n\n# For reproducibility\nnp.random.seed(42)\ntorch.manual_seed(42)"
            ]
        },
        {
            "cell_type": "markdown",
            "metadata": {}, 
            "source": [
                "## 1. Materials Science AI Implementation",
                "\nLet's create a simple Graph Neural Network (GNN) for materials property prediction:"
            ]
        },
        {
            "cell_type": "code",
            "execution_count": null,
            "metadata": {},
            "outputs": [],
            "source": [
                "class MaterialsGNN(nn.Module):\n    def __init__(self, input_dim, hidden_dim, output_dim):\n        super(MaterialsGNN, self).__init__()\n        self.conv1 = nn.Linear(input_dim, hidden_dim)\n        self.conv2 = nn.Linear(hidden_dim, output_dim)\n        self.relu = nn.ReLU()\n        \n    def forward(self, x):\n        x = self.relu(self.conv1(x))\n        return self.conv2(x)\n\n# Example model initialization\nmodel = MaterialsGNN(input_dim=10, hidden_dim=64, output_dim=1)"
            ]
        },
        {
            "cell_type": "markdown",
            "metadata": {},
            "source": [
                "## 2. Research Productivity Analysis",
                "\nLet's analyze and visualize the impact of AI on research productivity:"
            ]
        },
        {
            "cell_type": "code",
            "execution_count": null,
            "metadata": {},
            "outputs": [],
            "source": [
                "# Sample data\nproductivity_data = {\n    'Year': range(2015, 2023),\n    'Publications': [100, 120, 150, 200, 280, 350, 450, 500],\n    'Patents': [20, 25, 35, 45, 60, 85, 110, 120],\n    'AI_Adoption': [0.1, 0.2, 0.3, 0.5, 0.6, 0.7, 0.8, 0.9]\n}\n\ndf = pd.DataFrame(productivity_data)\n\n# Create visualization\nplt.figure(figsize=(12, 6))\nplt.plot(df['Year'], df['Publications'], marker='o', label='Publications')\nplt.plot(df['Year'], df['Patents'], marker='s', label='Patents')\nplt.title('Research Output Growth (2015-2022)')\nplt.xlabel('Year')\nplt.ylabel('Count')\nplt.legend()\nplt.grid(True)"
            ]
        }
    ],
    "metadata": {
        "kernelspec": {
            "display_name": "Python 3",
            "language": "python",
            "name": "python3"
        },
        "language_info": {
            "codemirror_mode": {
                "name": "ipython",
                "version": 3
            },
            "file_extension": ".py",
            "mimetype": "text/x-python", 
            "name": "python",
            "nbconvert_exporter": "python",
            "pygments_lexer": "ipython3",
            "version": "3.8.0"
        }
    },
    "nbformat": 4,
    "nbformat_minor": 4
}