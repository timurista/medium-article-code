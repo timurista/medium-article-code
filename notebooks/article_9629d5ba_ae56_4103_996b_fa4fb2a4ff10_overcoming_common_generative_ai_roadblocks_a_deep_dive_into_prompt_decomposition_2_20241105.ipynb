{
    "cells": [
        {
            "cell_type": "markdown",
            "metadata": {},
            "source": [
                "# Overcoming Common Generative AI Roadblocks: A Deep Dive into Prompt Decomposition",
                "\nThis notebook demonstrates practical implementations of prompt decomposition techniques for generative AI applications."
            ]
        },
        {
            "cell_type": "markdown", 
            "metadata": {},
            "source": [
                "## Setup and Dependencies",
                "\nFirst, let's import the required libraries and set up our environment."
            ]
        },
        {
            "cell_type": "code",
            "metadata": {},
            "source": [
                "import numpy as np\nimport pandas as pd\nimport matplotlib.pyplot as plt\nimport seaborn as sns\nfrom transformers import pipeline\nimport asyncio\nfrom typing import List, Dict\n\n# Set random seed for reproducibility\nnp.random.seed(42)"
            ]
        },
        {
            "cell_type": "markdown",
            "metadata": {},
            "source": [
                "## 1. Common Roadblocks in Generative AI",
                "\nLet's explore some common challenges in generative AI projects through examples."
            ]
        },
        {
            "cell_type": "code",
            "metadata": {},
            "source": [
                "# Example of a complex prompt and its decomposition\nclass PromptManager:\n    def __init__(self):\n        self.tasks = []\n    \n    def decompose_prompt(self, complex_prompt: str) -> List[str]:\n        \"\"\"Decompose a complex prompt into simpler tasks\"\"\"\n        # This is a simplified example - in practice, you might use\n        # more sophisticated NLP techniques\n        return complex_prompt.split(',')\n    \n    def add_task(self, task: str):\n        self.tasks.append(task.strip())\n\n# Example usage\ncomplex_prompt = \"Generate quarterly report, analyze market trends, predict future growth, summarize findings\"\nmanager = PromptManager()\nsubtasks = manager.decompose_prompt(complex_prompt)\n\nprint(\"Original prompt:\", complex_prompt)\nprint(\"\\nDecomposed tasks:\")\nfor i, task in enumerate(subtasks, 1):\n    print(f\"{i}. {task.strip()}\")"
            ]
        },
        {
            "cell_type": "markdown",
            "metadata": {},
            "source": [
                "## 2. Measuring Accuracy Improvements",
                "\nLet's create a simulation to demonstrate how prompt decomposition can improve accuracy."
            ]
        },
        {
            "cell_type": "code",
            "metadata": {},
            "source": [
                "# Simulate accuracy metrics for complex vs decomposed prompts\ndef simulate_accuracy(n_trials: int = 100) -> Dict:\n    # Simulate accuracy scores\n    complex_accuracy = np.random.normal(0.65, 0.15, n_trials)\n    decomposed_accuracy = np.random.normal(0.85, 0.10, n_trials)\n    \n    # Ensure values are between 0 and 1\n    complex_accuracy = np.clip(complex_accuracy, 0, 1)\n    decomposed_accuracy = np.clip(decomposed_accuracy, 0, 1)\n    \n    return {\n        'complex': complex_accuracy,\n        'decomposed': decomposed_accuracy\n    }\n\n# Generate simulation data\nresults = simulate_accuracy()\n\n# Create visualization\nplt.figure(figsize=(10, 6))\nsns.kdeplot(data=results['complex'], label='Complex Prompts')\nsns.kdeplot(data=results['decomposed'], label='Decomposed Prompts')\nplt.xlabel('Accuracy Score')\nplt.ylabel('Density')\nplt.title('Accuracy Distribution: Complex vs Decomposed Prompts')\nplt.legend()\nplt.show()"
            ]
        },
        {
            "cell_type": "markdown",
            "metadata": {},
            "source": [
                "## 3. Cost Efficiency Analysis",
                "\nLet's analyze the computational cost benefits of prompt decomposition."
            ]
        },
        {
            "cell_type": "code",
            "metadata": {},
            "source": [
                "# Simulate processing costs\ndef simulate_costs(n_requests: int = 1000):\n    # Simulate token counts\n    complex_tokens = np.random.normal(500, 100, n_requests)\n    decomposed_tokens = np.random.normal(300, 50, n_requests)\n    \n    # Calculate costs (assumed rate: $0.002 per token)\n    complex_cost = np.sum(complex_tokens) * 0.002\n    decomposed_cost = np.sum(decomposed_tokens) * 0.002\n    \n    return pd.DataFrame({\n        'Method': ['Complex', 'Decomposed'],\n        'Total Tokens': [np.sum(complex_tokens), np.sum(decomposed_tokens)],\n        'Total Cost ($)': [complex_cost, decomposed_cost]\n    })\n\n# Generate and display cost comparison\ncosts_df = simulate_costs()\nprint(costs_df)"
            ]
        }
    ],
    "metadata": {
        "kernelspec": {
            "display_name": "Python 3",
            "language": "python",
            "name": "python3"
        },
        "language_info": {
            "codemirror_mode": {
                "name": "ipython",
                "version": 3
            },
            "file_extension": ".py",
            "mimetype": "text/x-python",
            "name": "python",
            "nbconvert_exporter": "python",
            "pygments_lexer": "ipython3",
            "version": "3.8.0"
        }
    }
}