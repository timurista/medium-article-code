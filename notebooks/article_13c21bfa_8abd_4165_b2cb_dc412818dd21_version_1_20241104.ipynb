{
    "cells": [
        {
            "cell_type": "markdown",
            "metadata": {},
            "source": [
                "# Mastering Prompt Engineering with ChatGPT\n",
                "This notebook demonstrates key concepts and techniques for effective prompt engineering when working with ChatGPT and other large language models."
            ]
        },
        {
            "cell_type": "markdown", 
            "metadata": {},
            "source": [
                "## Setup and Requirements\n",
                "First, let's import the required libraries:"
            ]
        },
        {
            "cell_type": "code",
            "metadata": {},
            "source": [
                "import openai\n",
                "import pandas as pd\n",
                "import matplotlib.pyplot as plt\n",
                "import seaborn as sns\n",
                "\n",
                "# Configure OpenAI API key\n",
                "openai.api_key = 'YOUR-API-KEY'"
            ]
        },
        {
            "cell_type": "markdown",
            "metadata": {}, 
            "source": [
                "## 1. Understanding ChatGPT Capabilities\n",
                "\n",
                "ChatGPT is a powerful language model that can:\n",
                "- Generate human-like text responses\n",
                "- Maintain context across conversations\n",
                "- Assist with various tasks from writing to coding\n",
                "\n",
                "Let's look at some examples of interacting with the API:"
            ]
        },
        {
            "cell_type": "code",
            "metadata": {},
            "source": [
                "def get_completion(prompt, model=\"gpt-3.5-turbo\"):\n",
                "    \"\"\"Helper function to get completions from ChatGPT\"\"\"\n",
                "    messages = [{\"role\": \"user\", \"content\": prompt}]\n",
                "    response = openai.ChatCompletion.create(\n",
                "        model=model,\n",
                "        messages=messages,\n",
                "        temperature=0\n",
                "    )\n",
                "    return response.choices[0].message[\"content\"]\n",
                "\n",
                "# Example basic prompt\n",
                "basic_prompt = \"What is machine learning?\"\n",
                "print(get_completion(basic_prompt))"
            ]
        },
        {
            "cell_type": "markdown",
            "metadata": {},
            "source": [
                "## 2. Prompt Engineering Techniques\n",
                "\n",
                "Let's explore different prompt engineering techniques:"
            ]
        },
        {
            "cell_type": "code",
            "metadata": {},
            "source": [
                "# Example prompts with different techniques\n",
                "prompts = {\n",
                "    'basic': 'What is AI?',\n",
                "    'specific': 'Explain artificial intelligence to a 10th grade student, focusing on machine learning applications.',\n",
                "    'role_based': 'As an AI researcher, explain the key differences between supervised and unsupervised learning.',\n",
                "    'few_shot': '''\n",
                "    Here are two examples:\n",
                "    Question: What is Python?\n",
                "    Answer: Python is a high-level programming language known for its simplicity and readability.\n",
                "    \n",
                "    Question: What is Java?\n",
                "    Answer: Java is an object-oriented programming language designed to be platform-independent.\n",
                "    \n",
                "    Question: What is JavaScript?\n",
                "    '''\n",
                "}\n",
                "\n",
                "# Test different prompt types\n",
                "results = {}\n",
                "for prompt_type, prompt in prompts.items():\n",
                "    results[prompt_type] = get_completion(prompt)\n",
                "    print(f\"\\n{prompt_type.upper()} PROMPT RESULT:\\n{results[prompt_type]}\")"
            ]
        },
        {
            "cell_type": "markdown",
            "metadata": {},
            "source": [
                "## 3. Analyzing Prompt Effectiveness\n",
                "\n",
                "Let's create a simple visualization to compare response lengths across different prompt types:"
            ]
        },
        {
            "cell_type": "code",
            "metadata": {},
            "source": [
                "# Analyze response lengths\n",
                "response_lengths = {k: len(v.split()) for k, v in results.items()}\n",
                "\n",
                "plt.figure(figsize=(10, 6))\n",
                "sns.barplot(x=list(response_lengths.keys()), y=list(response_lengths.values()))\n",
                "plt.title('Response Length by Prompt Type')\n",
                "plt.xlabel('Prompt Type')\n",
                "plt.ylabel('Number of Words')\n",
                "plt.xticks(rotation=45)\n",
                "plt.show()"
            ]
        }
    ],
    "metadata": {
        "kernelspec": {
            "display_name": "Python 3",
            "language": "python",
            "name": "python3"
        }
    },
    "nbformat": 4,
    "nbformat_minor": 4
}