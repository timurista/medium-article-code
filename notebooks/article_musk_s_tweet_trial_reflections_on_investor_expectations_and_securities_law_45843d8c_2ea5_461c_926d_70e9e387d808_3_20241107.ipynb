{
    "cells": [
        {
            "cell_type": "markdown",
            "metadata": {},
            "source": [
                "# Musk's Tweet Trial: Analyzing Investor Expectations and Securities Law",
                "",
                "This notebook demonstrates key concepts and analysis techniques related to the impact of executive communications on stock prices and investor sentiment, using Elon Musk's 'funding secured' tweet case study as an example."
            ]
        },
        {
            "cell_type": "markdown", 
            "metadata": {},
            "source": [
                "## Setup and Dependencies",
                "",
                "First, let's import the required libraries for our analysis:"
            ]
        },
        {
            "cell_type": "code",
            "metadata": {},
            "source": [
                "import pandas as pd\n",
                "import numpy as np\n",
                "import matplotlib.pyplot as plt\n",
                "import yfinance as yf\n",
                "from textblob import TextBlob\n",
                "import seaborn as sns\n",
                "\n",
                "# Set plotting style\n",
                "plt.style.use('seaborn')\n",
                "%matplotlib inline"
            ]
        },
        {
            "cell_type": "markdown",
            "metadata": {},
            "source": [
                "## 1. Stock Price Analysis",
                "",
                "Let's analyze Tesla's stock price around the time of Musk's tweet (August 7, 2018):"
            ]
        },
        {
            "cell_type": "code",
            "metadata": {},
            "source": [
                "# Download Tesla stock data\n",
                "tesla = yf.download('TSLA', \n",
                "                   start='2018-07-01',\n",
                "                   end='2018-09-01')\n",
                "\n",
                "# Plot stock price\n",
                "plt.figure(figsize=(12, 6))\n",
                "plt.plot(tesla.index, tesla['Close'], label='TSLA Close Price')\n",
                "plt.axvline(x=pd.Timestamp('2018-08-07'), color='r', linestyle='--', \n",
                "            label='Tweet Date')\n",
                "plt.title('Tesla Stock Price Around \"Funding Secured\" Tweet')\n",
                "plt.xlabel('Date')\n",
                "plt.ylabel('Price ($)')\n",
                "plt.legend()\n",
                "plt.grid(True)\n",
                "plt.show()"
            ]
        },
        {
            "cell_type": "markdown",
            "metadata": {},
            "source": [
                "## 2. Sentiment Analysis of Tweets",
                "",
                "Let's demonstrate how to analyze sentiment in executive communications:"
            ]
        },
        {
            "cell_type": "code",
            "metadata": {},
            "source": [
                "# Sample tweets for analysis\n",
                "tweets = [\n",
                "    \"Am considering taking Tesla private at $420. Funding secured.\",\n",
                "    \"Tesla stock price is too high imo\",\n",
                "    \"Great Q3 results! Revenue up 8% year-over-year.\"\n",
                "]\n",
                "\n",
                "# Analyze sentiment\n",
                "def analyze_sentiment(text):\n",
                "    blob = TextBlob(text)\n",
                "    return {\n",
                "        'text': text,\n",
                "        'polarity': blob.sentiment.polarity,\n",
                "        'subjectivity': blob.sentiment.subjectivity\n",
                "    }\n",
                "\n",
                "# Create DataFrame with results\n",
                "results = pd.DataFrame([analyze_sentiment(tweet) for tweet in tweets])\n",
                "print(results)"
            ]
        }
    ],
    "metadata": {
        "kernelspec": {
            "display_name": "Python 3",
            "language": "python",
            "name": "python3"
        },
        "language_info": {
            "codemirror_mode": {
                "name": "ipython",
                "version": 3
            },
            "file_extension": ".py",
            "mimetype": "text/x-python",
            "name": "python",
            "nbconvert_exporter": "python",
            "pygments_lexer": "ipython3",
            "version": "3.8.0"
        }
    },
    "nbformat": 4,
    "nbformat_minor": 4
}