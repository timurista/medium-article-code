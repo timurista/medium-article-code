{
    "cells": [
        {
            "cell_type": "markdown",
            "metadata": {},
            "source": [
                "# Rethinking Query Expansion: The Role of User Context in Knowledge-Aware Systems",
                "",
                "This notebook demonstrates key concepts and implementations for integrating user context with knowledge graphs for improved query expansion and information retrieval systems."
            ]
        },
        {
            "cell_type": "markdown", 
            "metadata": {},
            "source": [
                "## Setup and Required Libraries",
                "",
                "First, let's import the necessary libraries and set up our environment."
            ]
        },
        {
            "cell_type": "code",
            "execution_count": null,
            "metadata": {},
            "outputs": [],
            "source": [
                "import numpy as np\n",
                "import pandas as pd\n",
                "import matplotlib.pyplot as plt\n",
                "import seaborn as sns\n",
                "import tensorflow_hub as hub\n",
                "from sklearn.feature_extraction.text import CountVectorizer\n",
                "from sklearn.naive_bayes import MultinomialNB\n",
                "from gensim.models import Word2Vec\n",
                "\n",
                "# Set plotting style\n",
                "plt.style.use('seaborn')\n",
                "sns.set_theme()"
            ]
        },
        {
            "cell_type": "markdown",
            "metadata": {},
            "source": [
                "## 1. Understanding User Intent",
                "",
                "Let's implement a basic user intent classifier using machine learning."
            ]
        },
        {
            "cell_type": "code",
            "execution_count": null,
            "metadata": {},
            "outputs": [],
            "source": [
                "# Sample dataset\n",
                "queries = [\n",
                "    \"best budget laptops\",\n",
                "    \"how to set up a VPN\",\n",
                "    \"buy running shoes online\",\n",
                "    \"Facebook login\",\n",
                "    \"compare smartphone prices\"\n",
                "]\n",
                "\n",
                "intents = [\n",
                "    \"commercial\",\n",
                "    \"informational\",\n",
                "    \"transactional\",\n",
                "    \"navigational\",\n",
                "    \"commercial\"\n",
                "]\n",
                "\n",
                "# Create and train the classifier\n",
                "vectorizer = CountVectorizer()\n",
                "X = vectorizer.fit_transform(queries)\n",
                "classifier = MultinomialNB()\n",
                "classifier.fit(X, intents)"
            ]
        }
    ],
    "metadata": {
        "kernelspec": {
            "display_name": "Python 3",
            "language": "python",
            "name": "python3"
        },
        "language_info": {
            "codemirror_mode": {
                "name": "ipython",
                "version": 3
            },
            "file_extension": ".py",
            "mimetype": "text/x-python", 
            "name": "python",
            "nbconvert_exporter": "python",
            "pygments_lexer": "ipython3",
            "version": "3.8.0"
        }
    },
    "nbformat": 4,
    "nbformat_minor": 4
}
