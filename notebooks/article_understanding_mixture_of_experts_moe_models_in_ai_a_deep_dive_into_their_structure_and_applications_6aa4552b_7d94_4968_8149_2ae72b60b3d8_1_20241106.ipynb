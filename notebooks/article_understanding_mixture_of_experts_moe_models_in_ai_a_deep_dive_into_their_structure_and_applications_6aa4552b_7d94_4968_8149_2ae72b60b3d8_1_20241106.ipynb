{
    "cells": [
        {
            "cell_type": "markdown",
            "metadata": {},
            "source": [
                "# Understanding Mixture-of-Experts (MoE) Models in AI\n",
                "## A Deep Dive into Their Structure and Applications\n",
                "\nThis notebook demonstrates the key concepts and implementation of Mixture-of-Experts (MoE) models in AI, with practical examples using PyTorch."
            ]
        },
        {
            "cell_type": "code",
            "metadata": {},
            "source": [
                "# Import required libraries\n",
                "import torch\n",
                "import torch.nn as nn\n", 
                "import torch.nn.functional as F\n",
                "import numpy as np\n",
                "import matplotlib.pyplot as plt\n",
                "%matplotlib inline"
            ],
            "execution_count": null,
            "outputs": []
        },
        {
            "cell_type": "markdown", 
            "metadata": {},
            "source": [
                "## 1. Basic MoE Architecture\n\n",
                "A Mixture-of-Experts model consists of multiple expert networks and a gating network that determines which experts to use for each input. Below we implement a basic MoE model."
            ]
        },
        {
            "cell_type": "code",
            "metadata": {},
            "source": [
                "class Expert(nn.Module):\n",
                "    def __init__(self, input_dim, hidden_dim, output_dim):\n",
                "        super().__init__()\n",
                "        self.net = nn.Sequential(\n",
                "            nn.Linear(input_dim, hidden_dim),\n",
                "            nn.ReLU(),\n",
                "            nn.Linear(hidden_dim, output_dim)\n",
                "        )\n",
                "    \n",
                "    def forward(self, x):\n",
                "        return self.net(x)\n",
                "\n",
                "class GatingNetwork(nn.Module):\n",
                "    def __init__(self, input_dim, num_experts):\n",
                "        super().__init__()\n",
                "        self.gate = nn.Linear(input_dim, num_experts)\n",
                "    \n",
                "    def forward(self, x):\n",
                "        return F.softmax(self.gate(x), dim=-1)"
            ],
            "execution_count": null,
            "outputs": []
        },
        {
            "cell_type": "markdown",
            "metadata": {},
            "source": [
                "## 2. Complete MoE Implementation\n\n",
                "Now let's implement the full MoE model that combines experts and gating network."
            ]
        },
        {
            "cell_type": "code",
            "metadata": {},
            "source": [
                "class MoEModel(nn.Module):\n",
                "    def __init__(self, num_experts, input_dim, hidden_dim, output_dim):\n",
                "        super().__init__()\n",
                "        self.experts = nn.ModuleList([\n",
                "            Expert(input_dim, hidden_dim, output_dim) \n",
                "            for _ in range(num_experts)\n",
                "        ])\n",
                "        self.gating = GatingNetwork(input_dim, num_experts)\n",
                "        \n",
                "    def forward(self, x):\n",
                "        # Get expert weights from gating network\n",
                "        gates = self.gating(x)\n",
                "        \n",
                "        # Get output from each expert\n",
                "        expert_outputs = torch.stack([expert(x) for expert in self.experts])\n",
                "        \n",
                "        # Combine expert outputs weighted by gates\n",
                "        final_output = torch.sum(gates.unsqueeze(-1) * expert_outputs, dim=0)\n",
                "        return final_output"
            ],
            "execution_count": null,
            "outputs": []
        },
        {
            "cell_type": "markdown",
            "metadata": {},
            "source": [
                "## 3. Training Example\n\n",
                "Let's create a simple example to demonstrate training an MoE model."
            ]
        },
        {
            "cell_type": "code",
            "metadata": {}, 
            "source": [
                "# Generate synthetic data\n",
                "def generate_data(n_samples=1000):\n",
                "    X = torch.randn(n_samples, 10)  # 10-dimensional input\n",
                "    y = torch.sum(X ** 2, dim=1)  # Target is sum of squares\n",
                "    return X, y\n",
                "\n",
                "# Create model and optimizer\n",
                "model = MoEModel(num_experts=5, input_dim=10, hidden_dim=32, output_dim=1)\n",
                "optimizer = torch.optim.Adam(model.parameters())\n",
                "criterion = nn.MSELoss()\n",
                "\n",
                "# Training loop\n",
                "losses = []\n",
                "for epoch in range(100):\n",
                "    X, y = generate_data()\n",
                "    optimizer.zero_grad()\n",
                "    \n",
                "    output = model(X).squeeze()\n",
                "    loss = criterion(output, y)\n",
                "    \n",
                "    loss.backward()\n",
                "    optimizer.step()\n",
                "    \n",
                "    losses.append(loss.item())\n",
                "    if epoch % 10 == 0:\n",
                "        print(f'Epoch {epoch}, Loss: {loss.item():.4f}')"
            ],
            "execution_count": null,
            "outputs": []
        },
        {
            "cell_type": "markdown",
            "metadata": {},
            "source": [
                "## 4. Visualizing Training Progress"
            ]
        },
        {
            "cell_type": "code",
            "metadata": {},
            "source": [
                "plt.figure(figsize=(10, 5))\n",
                "plt.plot(losses)\n",
                "plt.xlabel('Epoch')\n",
                "plt.ylabel('Loss')\n",
                "plt.title('MoE Training Loss')\n",
                "plt.grid(True)\n",
                "plt.show()"
            ],
            "execution_count": null,
            "outputs": []
        }
    ],
    "metadata": {
        "kernelspec": {
            "display_name": "Python 3",
            "language": "python",
            "name": "python3"
        },
        "language_info": {
            "codemirror_mode": {
                "name": "ipython",
                "version": 3
            },
            "file_extension": ".py",
            "mimetype": "text/x-python",
            "name": "python",
            "nbconvert_exporter": "python",
            "pygments_lexer": "ipython3",
            "version": "3.8.0"
        }
    },
    "nbformat": 4,
    "nbformat_minor": 4
}