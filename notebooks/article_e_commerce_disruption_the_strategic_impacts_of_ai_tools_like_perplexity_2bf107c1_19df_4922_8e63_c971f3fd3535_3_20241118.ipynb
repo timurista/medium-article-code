{
    "cells": [
        {
            "cell_type": "markdown",
            "metadata": {},
            "source": [
                "# E-Commerce Disruption: The Strategic Impacts of AI Tools like Perplexity",
                "\n",
                "This notebook explores how AI is transforming e-commerce through tools like Perplexity, examining business models, competitive advantages, and future trends."
            ]
        },
        {
            "cell_type": "code",
            "execution_count": null,
            "metadata": {},
            "source": [
                "# Import required libraries\n",
                "import pandas as pd\n",
                "import numpy as np\n",
                "import matplotlib.pyplot as plt\n",
                "import seaborn as sns\n",
                "from sklearn.cluster import KMeans\n",
                "from sklearn.metrics.pairwise import cosine_similarity\n",
                "from cryptography.fernet import Fernet\n",
                "\n",
                "# Set display options\n",
                "pd.set_option('display.max_columns', None)\n",
                "plt.style.use('seaborn')"
            ],
            "outputs": []
        },
        {
            "cell_type": "markdown",
            "metadata": {},
            "source": [
                "## Section 1: Understanding the Business Model\n",
                "\n", 
                "Let's analyze key metrics and patterns in Perplexity's business model using Python."
            ]
        },
        {
            "cell_type": "code",
            "execution_count": null,
            "metadata": {},
            "source": [
                "# Sample user demographics data\n",
                "user_data = {\n",
                    "'age': np.random.normal(35, 10, 1000),\n",
                    "'income': np.random.normal(75000, 25000, 1000),\n",
                    "'education_level': np.random.randint(12, 20, 1000)\n",
                "}\n",
                "df = pd.DataFrame(user_data)\n",
                "\n",
                "# Perform clustering\n",
                "kmeans = KMeans(n_clusters=4, random_state=42)\n",
                "df['cluster'] = kmeans.fit_predict(df)\n",
                "\n",
                "# Visualize clusters\n",
                "plt.figure(figsize=(10, 6))\n",
                "sns.scatterplot(data=df, x='age', y='income', hue='cluster')\n",
                "plt.title('User Segments by Age and Income')\n",
                "plt.show()"
            ],
            "outputs": []
        }
    ],
    "metadata": {
        "kernelspec": {
            "display_name": "Python 3",
            "language": "python",
            "name": "python3"
        },
        "language_info": {
            "codemirror_mode": {
                "name": "ipython",
                "version": 3
            },
            "file_extension": ".py",
            "mimetype": "text/x-python", 
            "name": "python",
            "nbconvert_exporter": "python",
            "pygments_lexer": "ipython3",
            "version": "3.8.0"
        }
    },
    "nbformat": 4,
    "nbformat_minor": 4
}