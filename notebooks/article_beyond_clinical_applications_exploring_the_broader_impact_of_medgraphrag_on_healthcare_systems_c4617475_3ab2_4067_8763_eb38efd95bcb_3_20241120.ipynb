{
    "cells": [
        {
            "cell_type": "markdown",
            "metadata": {},
            "source": [
                "# Beyond Clinical Applications: Exploring MedGraphRAG in Healthcare Systems",
                "\nThis notebook demonstrates the technical concepts and implementation of MedGraphRAG in healthcare applications, with a focus on data processing, visualization, and best practices."
            ]
        },
        {
            "cell_type": "markdown", 
            "metadata": {},
            "source": [
                "## Setup and Required Libraries",
                "\nFirst, let's import the necessary libraries and set up our environment."
            ]
        },
        {
            "cell_type": "code",
            "execution_count": null,
            "metadata": {},
            "outputs": [],
            "source": [
                "import spacy\nimport networkx as nx\nimport matplotlib.pyplot as plt\nimport pandas as pd\nimport seaborn as sns\nfrom typing import Dict, List\n\n# Configure plotting\nplt.style.use('seaborn')\n%matplotlib inline"
            ]
        },
        {
            "cell_type": "markdown",
            "metadata": {},
            "source": [
                "## 1. Graph Construction for Medical Data",
                "\nWe'll demonstrate how to construct a knowledge graph from medical text data using SpaCy for NER and NetworkX for graph processing."
            ]
        },
        {
            "cell_type": "code",
            "execution_count": null,
            "metadata": {},
            "outputs": [],
            "source": [
                "# Load SpaCy model\ntry:\n    nlp = spacy.load('en_core_web_sm')\nexcept OSError:\n    print('Downloading language model...')\n    spacy.cli.download('en_core_web_sm')\n    nlp = spacy.load('en_core_web_sm')\n\ndef create_medical_graph(text: str) -> nx.Graph:\n    \"\"\"Create a graph from medical text using NER\"\"\"\n    doc = nlp(text)\n    G = nx.Graph()\n    \n    # Add nodes for each entity\n    for ent in doc.ents:\n        G.add_node(ent.text, label=ent.label_)\n    \n    # Add edges between consecutive entities\n    for i in range(len(doc.ents) - 1):\n        G.add_edge(doc.ents[i].text, doc.ents[i + 1].text)\n        \n    return G"
            ]
        },
        {
            "cell_type": "markdown",
            "metadata": {},
            "source": [
                "## 2. Example Application",
                "\nLet's apply our graph construction to a sample medical case."
            ]
        },
        {
            "cell_type": "code",
            "execution_count": null,
            "metadata": {},
            "outputs": [],
            "source": [
                "sample_text = \"\"\"Patient John Smith was diagnosed with Type 2 Diabetes on 2023-01-15. \n                    The patient showed elevated blood glucose levels of 180 mg/dL. \n                    Dr. Sarah Jones prescribed Metformin 500mg twice daily.\"\"\"\n\nG = create_medical_graph(sample_text)\n\n# Visualize the graph\nplt.figure(figsize=(12, 8))\nnx.draw(G, with_labels=True, node_color='lightblue', \n        node_size=2000, font_size=10, font_weight='bold')\nplt.title('Medical Knowledge Graph')\nplt.show()"
            ]
        },
        {
            "cell_type": "markdown",
            "metadata": {},
            "source": [
                "## 3. Data Privacy and Security Implementation",
                "\nDemonstrating basic data anonymization techniques."
            ]
        },
        {
            "cell_type": "code",
            "execution_count": null,
            "metadata": {},
            "outputs": [],
            "source": [
                "def anonymize_patient_data(text: str) -> str:\n    \"\"\"Basic function to anonymize patient data\"\"\"\n    doc = nlp(text)\n    anonymized = text\n    \n    # Replace person names with [PATIENT] or [DOCTOR]\n    for ent in doc.ents:\n        if ent.label_ == 'PERSON':\n            anonymized = anonymized.replace(ent.text, '[PERSON]')\n        elif ent.label_ == 'DATE':\n            anonymized = anonymized.replace(ent.text, '[DATE]')\n            \n    return anonymized\n\n# Test anonymization\nprint(\"Original:\", sample_text)\nprint(\"\\nAnonymized:\", anonymize_patient_data(sample_text))"
            ]
        }
    ],
    "metadata": {
        "kernelspec": {
            "display_name": "Python 3",
            "language": "python", 
            "name": "python3"
        },
        "language_info": {
            "codemirror_mode": {
                "name": "ipython",
                "version": 3
            },
            "file_extension": ".py",
            "mimetype": "text/x-python", 
            "name": "python",
            "nbconvert_exporter": "python",
            "pygments_lexer": "ipython3",
            "version": "3.8.0"
        }
    },
    "nbformat": 4,
    "nbformat_minor": 4
}