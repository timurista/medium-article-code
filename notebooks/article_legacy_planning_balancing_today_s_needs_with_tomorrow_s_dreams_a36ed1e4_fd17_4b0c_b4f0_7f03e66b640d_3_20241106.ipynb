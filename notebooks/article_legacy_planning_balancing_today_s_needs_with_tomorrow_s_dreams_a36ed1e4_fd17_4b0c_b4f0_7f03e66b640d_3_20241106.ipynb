{
    "cells": [
        {
            "cell_type": "markdown",
            "metadata": {},
            "source": [
                "# Legacy Planning: Balancing Today's Needs with Tomorrow's Dreams",
                "\nA practical guide to financial legacy planning with Python"
            ]
        },
        {
            "cell_type": "markdown", 
            "metadata": {},
            "source": [
                "## Introduction",
                "\nThis notebook demonstrates key concepts in legacy financial planning through Python code and analysis. We'll explore wealth projection, investment strategies, and tools for making informed legacy planning decisions."
            ]
        },
        {
            "cell_type": "code",
            "metadata": {},
            "source": [
                "# Import required libraries\n",
                "import numpy as np\n",
                "import pandas as pd\n",
                "import matplotlib.pyplot as plt\n",
                "import seaborn as sns\n",
                "\n",
                "# Set styling\n",
                "plt.style.use('seaborn')\n",
                "sns.set_palette('colorblind')"
            ],
            "execution_count": 1,
            "outputs": []
        },
        {
            "cell_type": "markdown",
            "metadata": {},
            "source": [
                "## 1. Wealth Projection Calculator",
                "\nLet's create a function to project wealth accumulation over time, accounting for:",
                "- Initial investment\n",
                "- Regular contributions\n",
                "- Expected return rate\n",
                "- Time horizon"
            ]
        },
        {
            "cell_type": "code",
            "metadata": {},
            "source": [
                "def project_wealth(initial_investment, annual_contribution, years, annual_return):\n",
                "    \"\"\"Calculate projected wealth over time with compound interest\"\"\"\n",
                "    # Initialize arrays for tracking wealth over time\n",
                "    years_array = np.arange(years + 1)\n",
                "    wealth_array = np.zeros(years + 1)\n",
                "    wealth_array[0] = initial_investment\n",
                "    \n                    \n",
                "    # Calculate wealth for each year\n",
                "    for year in range(1, years + 1):\n",
                "        wealth_array[year] = wealth_array[year-1] * (1 + annual_return) + annual_contribution\n",
                "        \n",
                "    return years_array, wealth_array\n",
                "\n",
                "# Example parameters\n",
                "initial = 100000  # $100,000 initial investment\n",
                "contribution = 15000  # $15,000 annual contribution\n",
                "period = 30  # 30 year timeframe\n",
                "return_rate = 0.07  # 7% annual return\n",
                "\n",
                "years, wealth = project_wealth(initial, contribution, period, return_rate)\n",
                "\n",
                "# Plot results\n",
                "plt.figure(figsize=(10, 6))\n",
                "plt.plot(years, wealth / 1000000, 'b-')\n",
                "plt.title('Projected Wealth Over Time')\n",
                "plt.xlabel('Years')\n",
                "plt.ylabel('Wealth (Millions $)')\n",
                "plt.grid(True)\n",
                "plt.show()"
            ],
            "execution_count": null,
            "outputs": []
        }
    ],
    "metadata": {
        "kernelspec": {
            "display_name": "Python 3",
            "language": "python",
            "name": "python3"
        },
        "language_info": {
            "codemirror_mode": {
                "name": "ipython",
                "version": 3
            },
            "file_extension": ".py",
            "mimetype": "text/x-python",
            "name": "python",
            "nbconvert_exporter": "python",
            "pygments_lexer": "ipython3",
            "version": "3.8.10"
        }
    },
    "nbformat": 4,
    "nbformat_minor": 4
}