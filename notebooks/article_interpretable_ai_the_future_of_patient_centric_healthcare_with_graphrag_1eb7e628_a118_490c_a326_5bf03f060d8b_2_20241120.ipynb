{
    "cells": [
        {
            "cell_type": "markdown",
            "metadata": {},
            "source": [
                "# Interpretable AI: The Future of Patient-Centric Healthcare with GraphRAG",
                "",
                "This notebook demonstrates key concepts and implementations related to Graph Retrieval-Augmented Generation (GraphRAG) in healthcare applications, with a focus on interpretability and patient-centric care."
            ]
        },
        {
            "cell_type": "code",
            "execution_count": null,
            "metadata": {},
            "source": [
                "# Import required libraries\n",
                "import numpy as np\n",
                "import pandas as pd\n",
                "import matplotlib.pyplot as plt\n",
                "import seaborn as sns\n",
                "import networkx as nx\n",
                "from rdflib import Graph, URIRef, Literal, Namespace\n",
                "import shap\n",
                "import warnings\n",
                "warnings.filterwarnings('ignore')"
            ]
        },
        {
            "cell_type": "markdown",
            "metadata": {},
            "source": [
                "## 1. Building a Knowledge Graph",
                "",
                "Let's create a simple medical knowledge graph using RDFLib to demonstrate how GraphRAG structures healthcare data."
            ]
        },
        {
            "cell_type": "code",
            "execution_count": null,
            "metadata": {},
            "source": [
                "# Create a medical knowledge graph\n",
                "g = Graph()\n",
                "MED = Namespace(\"http://healthcare.org/\")\n",
                "\n",
                "# Add medical relationships\n",
                "g.add((URIRef(MED.Diabetes), URIRef(MED.hasSymptom), Literal(\"Increased thirst\")))\n",
                "g.add((URIRef(MED.Diabetes), URIRef(MED.hasSymptom), Literal(\"Frequent urination\")))\n",
                "g.add((URIRef(MED.Diabetes), URIRef(MED.hasTreatment), Literal(\"Insulin therapy\")))\n",
                "\n",
                "# Print the graph\n",
                "print(\"Medical Knowledge Graph Relations:\")\n",
                "for s, p, o in g:\n",
                "    print(f\"{s.n3()} {p.n3()} {o.n3()}\")"
            ]
        },
        {
            "cell_type": "markdown",
            "metadata": {},
            "source": [
                "## 2. Implementing SHAP for Model Interpretability",
                "",
                "We'll demonstrate how to use SHAP values to explain model predictions in a healthcare context."
            ]
        },
        {
            "cell_type": "code",
            "execution_count": null,
            "metadata": {},
            "source": [
                "# Create sample healthcare dataset\n",
                "np.random.seed(42)\n",
                "n_samples = 1000\n",
                "\n",
                "data = pd.DataFrame({\n",
                "    'age': np.random.normal(65, 15, n_samples),\n",
                "    'blood_pressure': np.random.normal(130, 20, n_samples),\n",
                "    'glucose': np.random.normal(100, 25, n_samples),\n",
                "    'bmi': np.random.normal(28, 5, n_samples)\n",
                "})\n",
                "\n",
                "# Create target variable (diabetes risk)\n",
                "data['diabetes_risk'] = (data['age'] * 0.3 + \n",
                "                        data['blood_pressure'] * 0.2 + \n",
                "                        data['glucose'] * 0.4 + \n",
                "                        data['bmi'] * 0.1 + \n",
                "                        np.random.normal(0, 10, n_samples))\n",
                "data['diabetes_risk'] = (data['diabetes_risk'] > data['diabetes_risk'].mean()).astype(int)\n",
                "\n",
                "# Train a simple model\n",
                "from sklearn.model_selection import train_test_split\n",
                "from sklearn.ensemble import RandomForestClassifier\n",
                "\n",
                "X = data.drop('diabetes_risk', axis=1)\n",
                "y = data['diabetes_risk']\n",
                "\n",
                "X_train, X_test, y_train, y_test = train_test_split(X, y, test_size=0.2, random_state=42)\n",
                "model = RandomForestClassifier(n_estimators=100, random_state=42)\n",
                "model.fit(X_train, y_train)\n",
                "\n",
                "# Calculate SHAP values\n",
                "explainer = shap.TreeExplainer(model)\n",
                "shap_values = explainer.shap_values(X_test)\n",
                "\n",
                "# Plot SHAP summary\n",
                "shap.summary_plot(shap_values, X_test)"
            ]
        },
        {
            "cell_type": "markdown",
            "metadata": {},
            "source": [
                "## 3. Error Handling and Best Practices",
                "",
                "Demonstrate proper error handling in healthcare AI applications."
            ]
        },
        {
            "cell_type": "code",
            "execution_count": null,
            "metadata": {},
            "source": [
                "def validate_patient_data(patient_data):\n",
                "    \"\"\"Validate patient data with proper error handling\"\"\"\n",
                "    try:\n",
                "        required_fields = ['age', 'blood_pressure', 'glucose', 'bmi']\n",
                "        \n",
                "        # Check for missing fields\n",
                "        missing_fields = [field for field in required_fields \n",
                "                         if field not in patient_data]\n",
                "        if missing_fields:\n",
                "            raise ValueError(f\"Missing required fields: {missing_fields}\")\n",
                "            \n",
                "        # Validate value ranges\n",
                "        if not (0 <= patient_data['age'] <= 120):\n",
                "            raise ValueError(\"Age must be between 0 and 120\")\n",
                "            \n",
                "        if not (60 <= patient_data['blood_pressure'] <= 200):\n",
                "            raise ValueError(\"Blood pressure must be between 60 and 200\")\n",
                "            \n",
                "        return True\n",
                "        \n",
                "    except Exception as e:\n",
                "        print(f\"Error validating patient data: {str(e)}\")\n",
                "        return False\n",
                "\n",
                "# Test the validation\n",
                "test_data = {\n",
                "    'age': 25,\n",
                "    'blood_pressure': 120,\n",
                "    'glucose': 95,\n",
                "    'bmi': 22\n",
                "}\n",
                "\n",
                "is_valid = validate_patient_data(test_data)\n",
                "print(f\"Data validation result: {is_valid}\")"
            ]
        },
        {
            "cell_type": "markdown",
            "metadata": {}, 
            "source": [
                "## Conclusion",
                "",
                "This notebook has demonstrated key concepts in implementing interpretable AI for healthcare using GraphRAG, including:",
                "",
                "- Building knowledge graphs for healthcare data",
                "- Using SHAP for model interpretability",
                "- Implementing proper error handling",
                "",
                "These implementations help ensure transparent, reliable, and ethical AI systems in healthcare applications."
            ]
        }
    ],
    "metadata": {
        "kernelspec": {
            "display_name": "Python 3",
            "language": "python",
            "name": "python3"
        },
        "language_info": {
            "codemirror_mode": {
                "name": "ipython",
                "version": 3
            },
            "file_extension": ".py",
            "mimetype": "text/x-python",
            "name": "python",
            "nbconvert_exporter": "python",
            "pygments_lexer": "ipython3",
            "version": "3.8.0"
        }
    },
    "nbformat": 4,
    "nbformat_minor": 4
}