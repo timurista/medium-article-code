{
    "cells": [
        {
            "cell_type": "markdown",
            "metadata": {},
            "source": [
                "# AI Preparedness: A Comparative Study Between Developed and Developing Nations",
                "\nThis notebook demonstrates key concepts and analyses related to AI preparedness across different nations, with a focus on comparing developed and developing countries."
            ]
        },
        {
            "cell_type": "markdown", 
            "metadata": {},
            "source": [
                "## Setup and Required Libraries",
                "\nFirst, let's import the necessary libraries for our analysis."
            ]
        },
        {
            "cell_type": "code",
            "execution_count": null,
            "metadata": {},
            "outputs": [],
            "source": [
                "import pandas as pd\nimport numpy as np\nimport matplotlib.pyplot as plt\nimport seaborn as sns\nimport plotly.express as px\n\n# Set style for visualizations\nplt.style.use('seaborn')\nsns.set_palette('Set2')"
            ]
        },
        {
            "cell_type": "markdown",
            "metadata": {},
            "source": [
                "## Loading and Preparing Sample Data",
                "\nWe'll create sample data representing AI readiness metrics across different countries."
            ]
        },
        {
            "cell_type": "code",
            "execution_count": null,
            "metadata": {},
            "outputs": [],
            "source": [
                "# Create sample data\ncountries = ['Singapore', 'Denmark', 'Finland', 'Netherlands', 'Canada', 'India', 'Brazil', 'Nigeria']\nmetrics = {\n    'Digital_Infrastructure': [95, 92, 90, 88, 87, 45, 42, 30],\n    'Human_Capital': [90, 88, 92, 85, 86, 55, 50, 35],\n    'Tech_Innovation': [92, 85, 88, 86, 84, 48, 45, 28],\n    'Legal_Framework': [94, 90, 89, 87, 85, 40, 38, 25]\n}\n\ndf = pd.DataFrame(metrics, index=countries)\ndf.index.name = 'Country'"
            ]
        },
        {
            "cell_type": "markdown",
            "metadata": {},
            "source": [
                "## Visualizing AI Preparedness Metrics",
                "\nLet's create visualizations to compare metrics across countries."
            ]
        },
        {
            "cell_type": "code",
            "execution_count": null,
            "metadata": {},
            "outputs": [],
            "source": [
                "# Create heatmap of metrics\nplt.figure(figsize=(12, 8))\nsns.heatmap(df, annot=True, cmap='YlOrRd', fmt='.0f')\nplt.title('AI Preparedness Metrics by Country')\nplt.tight_layout()"
            ]
        },
        {
            "cell_type": "markdown",
            "metadata": {},
            "source": [
                "## Analyzing the Gap",
                "\nLet's calculate and visualize the gap between developed and developing nations."
            ]
        },
        {
            "cell_type": "code",
            "execution_count": null,
            "metadata": {},
            "outputs": [],
            "source": [
                "# Calculate average scores\ndeveloped = df.iloc[:5].mean()\ndeveloping = df.iloc[5:].mean()\n\n# Create comparison DataFrame\ncomparison = pd.DataFrame({\n    'Developed': developed,\n    'Developing': developing,\n    'Gap': developed - developing\n})\n\nprint('Average Scores and Gaps:')\nprint(comparison)"
            ]
        },
        {
            "cell_type": "markdown",
            "metadata": {},
            "source": [
                "## Best Practices and Error Handling",
                "\nDemonstrating proper error handling in AI-related data processing."
            ]
        },
        {
            "cell_type": "code",
            "execution_count": null,
            "metadata": {},
            "outputs": [],
            "source": [
                "def process_ai_metrics(data):\n    try:\n        # Validate input data\n        if not isinstance(data, pd.DataFrame):\n            raise TypeError('Input must be a pandas DataFrame')\n            \n        # Check for missing values\n        if data.isnull().any().any():\n            print('Warning: Dataset contains missing values')\n            data = data.fillna(data.mean())\n            \n        # Calculate summary statistics\n        summary = {\n            'mean': data.mean(),\n            'std': data.std(),\n            'min': data.min(),\n            'max': data.max()\n        }\n        \n        return summary\n        \n    except Exception as e:\n        print(f'Error processing metrics: {str(e)}')\n        return None\n\n# Test the function\nresults = process_ai_metrics(df)\nprint('Summary Statistics:')\nprint(pd.DataFrame(results))"
            ]
        },
        {
            "cell_type": "markdown",
            "metadata": {},
            "source": [
                "## Conclusion",
                "\nThis analysis demonstrates significant disparities in AI preparedness between developed and developing nations across all key metrics. The data suggests that focused investment in digital infrastructure, human capital development, and legal frameworks could help bridge this gap.\n\nKey findings:\n- Developed nations consistently score above 85 in all metrics\n- The largest gaps appear in technological innovation and legal frameworks\n- Developing nations show the most promise in human capital development"
            ]
        }
    ],
    "metadata": {
        "kernelspec": {
            "display_name": "Python 3",
            "language": "python",
            "name": "python3"
        },
        "language_info": {
            "codemirror_mode": {
                "name": "ipython",
                "version": 3
            },
            "file_extension": ".py",
            "mimetype": "text/x-python", 
            "name": "python",
            "nbconvert_exporter": "python",
            "pygments_lexer": "ipython3",
            "version": "3.8.0"
        }
    },
    "nbformat": 4,
    "nbformat_minor": 4
}