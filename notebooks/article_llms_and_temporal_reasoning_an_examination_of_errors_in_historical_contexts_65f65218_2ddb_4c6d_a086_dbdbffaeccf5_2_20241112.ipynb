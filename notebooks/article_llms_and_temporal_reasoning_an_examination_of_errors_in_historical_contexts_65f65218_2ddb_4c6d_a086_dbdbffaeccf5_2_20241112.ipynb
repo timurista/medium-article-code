{
    "cells": [
        {
            "cell_type": "markdown",
            "metadata": {},
            "source": [
                "# LLMs and Temporal Reasoning: An Examination of Errors in Historical Contexts",
                "## Introduction",
                "This notebook explores how Large Language Models (LLMs) handle temporal reasoning and common errors that occur when processing historical contexts. We'll examine various techniques for improving temporal understanding and demonstrate practical implementations."
            ]
        },
        {
            "cell_type": "code", 
            "execution_count": null,
            "metadata": {},
            "source": [
                "# Import required libraries\n",
                "import numpy as np\n",
                "import pandas as pd\n",
                "import matplotlib.pyplot as plt\n",
                "import seaborn as sns\n",
                "from datetime import datetime\n",
                "from sklearn.preprocessing import FunctionTransformer"
            ]
        },
        {
            "cell_type": "markdown",
            "metadata": {},
            "source": [
                "## 1. Temporal Reasoning Fundamentals",
                "Temporal reasoning involves understanding relationships between events across time. Let's implement a basic system for analyzing temporal relationships between historical events."
            ]
        },
        {
            "cell_type": "code",
            "execution_count": null,
            "metadata": {},
            "source": [
                "# Create a simple temporal relationship analyzer\n",
                "def analyze_temporal_relation(event1_date, event2_date):\n",
                "    try:\n",
                "        if isinstance(event1_date, str):\n",
                "            event1_date = datetime.strptime(event1_date, '%Y-%m-%d')\n",
                "        if isinstance(event2_date, str):\n",
                "            event2_date = datetime.strptime(event2_date, '%Y-%m-%d')\n",
                "            \n",
                "        time_diff = event2_date - event1_date\n",
                "        return {\n",
                "            'relationship': 'before' if time_diff.days > 0 else 'after' if time_diff.days < 0 else 'same',\n",
                "            'days_difference': abs(time_diff.days)\n",
                "        }\n",
                "    except Exception as e:\n",
                "        return f'Error: {str(e)}'"
            ]
        },
        {
            "cell_type": "markdown",
            "metadata": {},
            "source": [
                "## 2. Visualizing Historical Timeline Data",
                "Let's create a visualization to demonstrate how LLMs might process historical events."
            ]
        },
        {
            "cell_type": "code",
            "execution_count": null,
            "metadata": {},
            "source": [
                "# Sample historical events data\n",
                "historical_events = {\n",
                "    'Event': ['WWI Start', 'WWI End', 'Great Depression', 'WWII Start', 'WWII End'],\n",
                "    'Date': ['1914-07-28', '1918-11-11', '1929-10-29', '1939-09-01', '1945-09-02']\n",
                "}\n",
                "\n",
                "df = pd.DataFrame(historical_events)\n",
                "df['Date'] = pd.to_datetime(df['Date'])\n",
                "\n",
                "# Create timeline visualization\n",
                "plt.figure(figsize=(12, 6))\n",
                "plt.plot_date(df['Date'], range(len(df)), '-')\n",
                "plt.yticks(range(len(df)), df['Event'])\n",
                "plt.title('Major Historical Events Timeline')\n",
                "plt.grid(True)\n",
                "plt.xticks(rotation=45)\n",
                "plt.tight_layout()"
            ]
        }
    ],
    "metadata": {
        "kernelspec": {
            "display_name": "Python 3",
            "language": "python",
            "name": "python3"
        },
        "language_info": {
            "codemirror_mode": {
                "name": "ipython",
                "version": 3
            },
            "file_extension": ".py",
            "mimetype": "text/x-python", 
            "name": "python",
            "nbconvert_exporter": "python",
            "pygments_lexer": "ipython3",
            "version": "3.8.0"
        }
    },
    "nbformat": 4,
    "nbformat_minor": 4
}