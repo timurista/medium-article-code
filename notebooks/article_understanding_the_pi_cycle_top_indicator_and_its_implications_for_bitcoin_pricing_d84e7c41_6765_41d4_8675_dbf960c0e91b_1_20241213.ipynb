{
    "cells": [
        {
            "cell_type": "markdown",
            "metadata": {},
            "source": [
                "# Understanding the Pi Cycle Top Indicator for Bitcoin",
                "\nThis notebook demonstrates how to implement and analyze the Pi Cycle Top Indicator for Bitcoin price analysis. We'll explore the technical implementation, historical accuracy, and current market implications."
            ]
        },
        {
            "cell_type": "markdown", 
            "metadata": {},
            "source": [
                "## Setup and Requirements",
                "\nFirst, let's import the required libraries and set up our environment:"
            ]
        },
        {
            "cell_type": "code",
            "execution_count": null,
            "metadata": {},
            "outputs": [],
            "source": [
                "import pandas as pd\n",
                "import numpy as np\n",
                "import matplotlib.pyplot as plt\n",
                "import yfinance as yf\n",
                "import seaborn as sns\n",
                "\n",
                "# Set plotting style\n",
                "plt.style.use('seaborn')\n",
                "sns.set_theme(style=\"darkgrid\")"
            ]
        },
        {
            "cell_type": "markdown",
            "metadata": {},
            "source": [
                "## Data Collection",
                "\nLet's fetch historical Bitcoin price data using the yfinance API:"
            ]
        },
        {
            "cell_type": "code",
            "execution_count": null,
            "metadata": {},
            "outputs": [],
            "source": [
                "# Fetch Bitcoin historical data\n",
                "def get_bitcoin_data():\n",
                "    try:\n",
                "        btc = yf.download('BTC-USD', start='2015-01-01')\n",
                "        return btc\n",
                "    except Exception as e:\n",
                "        print(f'Error fetching data: {e}')\n",
                "        return None\n",
                "\n",
                "bitcoin_df = get_bitcoin_data()"
            ]
        },
        {
            "cell_type": "markdown",
            "metadata": {},
            "source": [
                "## Implementing the Pi Cycle Top Indicator",
                "\nNow let's implement the core logic for calculating the Pi Cycle Top Indicator:"
            ]
        },
        {
            "cell_type": "code",
            "execution_count": null,
            "metadata": {},
            "outputs": [],
            "source": [
                "def calculate_pi_cycle(df):\n",
                "    \"\"\"Calculate Pi Cycle Top Indicator components\"\"\"\n",
                "    df['111_SMA'] = df['Close'].rolling(window=111).mean()\n",
                "    df['350_SMA'] = df['Close'].rolling(window=350).mean()\n",
                "    df['350_SMA_x2'] = df['350_SMA'] * 2\n",
                "    return df\n",
                "\n",
                "bitcoin_df = calculate_pi_cycle(bitcoin_df)"
            ]
        },
        {
            "cell_type": "markdown",
            "metadata": {},
            "source": [
                "## Visualization",
                "\nLet's create a visualization of the Pi Cycle Top Indicator:"
            ]
        },
        {
            "cell_type": "code",
            "execution_count": null,
            "metadata": {},
            "outputs": [],
            "source": [
                "def plot_pi_cycle(df):\n",
                "    plt.figure(figsize=(15, 8))\n",
                "    plt.plot(df.index, df['Close'], label='Bitcoin Price', alpha=0.5)\n",
                "    plt.plot(df.index, df['111_SMA'], label='111-day SMA', linewidth=2)\n",
                "    plt.plot(df.index, df['350_SMA_x2'], label='350-day SMA x2', linewidth=2)\n",
                "    \n",
                "    plt.title('Bitcoin Pi Cycle Top Indicator')\n",
                "    plt.xlabel('Date')\n",
                "    plt.ylabel('Price (USD)')\n",
                "    plt.legend()\n",
                "    plt.yscale('log')\n",
                "    plt.grid(True)\n",
                "    plt.show()\n",
                "\n",
                "plot_pi_cycle(bitcoin_df)"
            ]
        },
        {
            "cell_type": "markdown",
            "metadata": {},
            "source": [
                "## Signal Detection",
                "\nImplement logic to detect potential market tops:"
            ]
        },
        {
            "cell_type": "code",
            "execution_count": null,
            "metadata": {},
            "outputs": [],
            "source": [
                "def detect_crossovers(df, threshold=0.01):\n",
                "    \"\"\"Detect when 111 SMA crosses above 350 SMA x2\"\"\"\n",
                "    df['signal'] = np.where(\n",
                "        abs(df['111_SMA'] - df['350_SMA_x2']) < threshold * df['350_SMA_x2'],\n",
                "        1,  # Potential top\n",
                "        0   # No signal\n",
                "    )\n",
                "    return df\n",
                "\n",
                "bitcoin_df = detect_crossovers(bitcoin_df)"
            ]
        },
        {
            "cell_type": "markdown",
            "metadata": {},
            "source": [
                "## Conclusion",
                "\nThe Pi Cycle Top Indicator has proven to be a valuable tool for identifying potential market tops in Bitcoin's price action. While no indicator is perfect, combining this analysis with other market metrics and sentiment analysis can provide valuable insights for cryptocurrency traders and investors."
            ]
        }
    ],
    "metadata": {
        "kernelspec": {
            "display_name": "Python 3",
            "language": "python",
            "name": "python3"
        },
        "language_info": {
            "codemirror_mode": {
                "name": "ipython",
                "version": 3
            },
            "file_extension": ".py",
            "mimetype": "text/x-python",
            "name": "python",
            "nbconvert_exporter": "python",
            "pygments_lexer": "ipython3",
            "version": "3.8.0"
        }
    },
    "nbformat": 4,
    "nbformat_minor": 4
}