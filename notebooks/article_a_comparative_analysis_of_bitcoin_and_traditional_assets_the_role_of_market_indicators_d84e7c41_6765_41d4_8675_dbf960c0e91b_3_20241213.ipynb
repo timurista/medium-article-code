{
    "cells": [
        {
            "cell_type": "markdown", 
            "metadata": {},
            "source": [
                "# Bitcoin vs Traditional Assets: A Comparative Analysis",
                "\n",
                "This notebook provides a comprehensive analysis comparing Bitcoin with traditional assets, focusing on market indicators, risks, rewards and future trends. We'll explore key concepts through data analysis and visualization."
            ]
        },
        {
            "cell_type": "markdown",
            "metadata": {},
            "source": [
                "## Setup and Imports",
                "\n", 
                "First, let's import the required libraries and set up our environment:"
            ]
        },
        {
            "cell_type": "code",
            "execution_count": null,
            "metadata": {},
            "outputs": [],
            "source": [
                "import pandas as pd\n",
                "import numpy as np\n",
                "import matplotlib.pyplot as plt\n",
                "import seaborn as sns\n",
                "import yfinance as yf\n",
                "\n",
                "# Set style for visualizations\n",
                "plt.style.use('seaborn')\n",
                "sns.set_palette('husl')\n",
                "\n",
                "# Configure pandas display options\n",
                "pd.set_option('display.max_rows', 100)\n",
                "pd.set_option('display.max_columns', 100)"
            ]
        },
        {
            "cell_type": "markdown",
            "metadata": {},
            "source": [
                "## Data Collection",
                "\n",
                "Let's fetch historical price data for Bitcoin and traditional assets like S&P 500:"
            ]
        },
        {
            "cell_type": "code",
            "execution_count": null,
            "metadata": {},
            "outputs": [],
            "source": [
                "# Function to safely download data\n",
                "def get_asset_data(ticker, start='2020-01-01', end='2024-02-01'):\n",
                "    try:\n",
                "        data = yf.download(ticker, start=start, end=end)\n",
                "        return data\n",
                "    except Exception as e:\n",
                "        print(f'Error downloading {ticker}: {str(e)}')\n",
                "        return None\n",
                "\n",
                "# Get data for Bitcoin and S&P 500\n",
                "btc_data = get_asset_data('BTC-USD')\n",
                "sp500_data = get_asset_data('^GSPC')"
            ]
        },
        {
            "cell_type": "markdown",
            "metadata": {}, 
            "source": [
                "## Volatility Analysis",
                "\n",
                "Let's compare the volatility between Bitcoin and traditional assets:"
            ]
        },
        {
            "cell_type": "code",
            "execution_count": null,
            "metadata": {},
            "outputs": [],
            "source": [
                "def calculate_volatility(data):\n",
                "    returns = data['Close'].pct_change()\n",
                "    annual_vol = returns.std() * np.sqrt(252)  # Annualize daily volatility\n",
                "    return annual_vol\n",
                "\n",
                "btc_vol = calculate_volatility(btc_data)\n",
                "sp500_vol = calculate_volatility(sp500_data)\n",
                "\n",
                "# Create comparison plot\n",
                "plt.figure(figsize=(10,6))\n",
                "plt.bar(['Bitcoin', 'S&P 500'], [btc_vol, sp500_vol])\n",
                "plt.title('Annualized Volatility Comparison')\n",
                "plt.ylabel('Volatility')\n",
                "plt.show()"
            ]
        }
    ],
    "metadata": {
        "kernelspec": {
            "display_name": "Python 3",
            "language": "python", 
            "name": "python3"
        },
        "language_info": {
            "codemirror_mode": {
                "name": "ipython",
                "version": 3
            },
            "file_extension": ".py",
            "mimetype": "text/x-python", 
            "name": "python",
            "nbconvert_exporter": "python",
            "pygments_lexer": "ipython3",
            "version": "3.8.0"
        }
    },
    "nbformat": 4,
    "nbformat_minor": 4
}