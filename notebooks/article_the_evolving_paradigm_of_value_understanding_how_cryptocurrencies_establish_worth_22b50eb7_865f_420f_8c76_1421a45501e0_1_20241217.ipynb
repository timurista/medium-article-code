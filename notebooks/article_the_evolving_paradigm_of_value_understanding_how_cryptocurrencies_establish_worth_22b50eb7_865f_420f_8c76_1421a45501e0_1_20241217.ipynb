{
    "cells": [
        {
            "cell_type": "markdown",
            "metadata":": {},
            "source": [
                "# The Evolving Paradigm of Value: Understanding How Cryptocurrencies Establish Worth",
                "",
                "This notebook explores the technical concepts and analysis behind how cryptocurrencies establish and maintain value. We'll examine key aspects like scarcity, decentralization, market dynamics, and valuation models through code examples and data visualization."
            ]
        },
        {
            "cell_type": "code",
            "execution_count": null,
            "metadata": {},
            "outputs": [],
            "source": [
                "# Import required libraries\n",
                "import pandas as pd\n",
                "import numpy as np\n",
                "import matplotlib.pyplot as plt\n",
                "import seaborn as sns\n",
                "\n",
                "# Set plotting style\n",
                "plt.style.use('seaborn')\n",
                "sns.set_theme()\n",
                "\n",
                "# Configure pandas display options\n",
                "pd.set_option('display.max_columns', None)\n",
                "pd.set_option('display.max_rows', 100)"
            ]
        },
        {
            "cell_type": "markdown",
            "metadata":": {},
            "source": [
                "## 1. Scarcity Analysis",
                "",
                "Let's examine how programmatic scarcity affects cryptocurrency value using Bitcoin as an example."
            ]
        },
        {
            "cell_type": "code", 
            "execution_count": null,
            "metadata": {},
            "outputs": [],
            "source": [
                "def calculate_btc_supply(current_block_height):\n",
                    "\"\"\"Calculate total Bitcoin supply at given block height\"\"\"\n",
                    "try:\n",
                        "halving_interval = 210000\n",
                        "initial_reward = 50\n",
                        "total_supply = 0\n",
                        "\n",
                        "# Calculate supply through halvings\n",
                        "for i in range(0, current_block_height, halving_interval):\n",
                            "reward = initial_reward / (2 ** (i // halving_interval))\n",
                            "blocks = min(halving_interval, current_block_height - i)\n",
                            "total_supply += blocks * reward\n",
                            "\n",
                        "return total_supply\n",
                    "except Exception as e:\n",
                        "print(f'Error calculating supply: {str(e)}')\n",
                        "return None\n",
                "\n",
                "# Example usage\n",
                "current_height = 800000\n",
                "supply = calculate_btc_supply(current_height)\n",
                "print(f'Total BTC Supply at block {current_height}: {supply:,.2f}')"
            ]
        }
    ],
    "metadata": {
        "kernelspec": {
            "display_name": "Python 3",
            "language": "python", 
            "name": "python3"
        },
        "language_info": {
            "codemirror_mode": {
                "name": "ipython",
                "version": 3
            },
            "file_extension": ".py",
            "mimetype": "text/x-python", 
            "name": "python",
            "nbconvert_exporter": "python",
            "pygments_lexer": "ipython3",
            "version": "3.8.0"
        }
    },
    "nbformat": 4,
    "nbformat_minor": 4
}