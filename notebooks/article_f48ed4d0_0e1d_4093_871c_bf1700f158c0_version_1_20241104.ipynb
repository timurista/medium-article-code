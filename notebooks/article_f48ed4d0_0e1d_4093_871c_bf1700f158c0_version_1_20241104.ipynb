{
    "cells": [
        {
            "cell_type": "markdown",
            "metadata": {},
            "source": [
                "# Enhancing Patient Safety through UX Design in AI Healthcare Solutions",
                "",
                "This notebook demonstrates key technical concepts and implementations related to UX design in AI healthcare systems, with a focus on patient safety. We'll explore data processing, model evaluation, and visualization techniques that support better healthcare UX design."
            ]
        },
        {
            "cell_type": "markdown",
            "metadata": {},
            "source": [
                "## Setup",
                "First, let's import the necessary libraries:"
            ]
        },
        {
            "cell_type": "code",
            "metadata": {},
            "execution_count": null,
            "source": [
                "import numpy as np\n",
                "import pandas as pd\n",
                "import matplotlib.pyplot as plt\n",
                "import seaborn as sns\n",
                "from sklearn.metrics import roc_curve, auc, confusion_matrix\n",
                "from sklearn.model_selection import train_test_split\n",
                "import shap\n",
                "\n",
                "# Set style for visualizations\n",
                "plt.style.use('seaborn')"
            ]
        },
        {
            "cell_type": "markdown", 
            "metadata": {},
            "source": [
                "## 1. Model Performance Evaluation",
                "",
                "A critical aspect of AI healthcare systems is evaluating model performance. Let's demonstrate key metrics using a sample medical diagnosis dataset:"
            ]
        },
        {
            "cell_type": "code",
            "metadata": {},
            "execution_count": null,
            "source": [
                "# Sample data for demonstration\n",
                "np.random.seed(42)\n",
                "y_true = np.random.binomial(1, 0.3, 1000)  # True diagnoses\n",
                "y_pred_proba = y_true * 0.9 + np.random.normal(0, 0.1, 1000)  # Predicted probabilities\n",
                "y_pred_proba = np.clip(y_pred_proba, 0, 1)\n",
                "y_pred = (y_pred_proba > 0.5).astype(int)\n",
                "\n",
                "# Calculate ROC curve\n",
                "fpr, tpr, _ = roc_curve(y_true, y_pred_proba)\n",
                "roc_auc = auc(fpr, tpr)\n",
                "\n",
                "# Plot ROC curve\n",
                "plt.figure(figsize=(8, 6))\n",
                "plt.plot(fpr, tpr, color='darkorange', lw=2, label=f'ROC curve (AUC = {roc_auc:.2f})')\n",
                "plt.plot([0, 1], [0, 1], color='navy', lw=2, linestyle='--')\n",
                "plt.xlabel('False Positive Rate')\n",
                "plt.ylabel('True Positive Rate')\n",
                "plt.title('ROC Curve for Medical Diagnosis Model')\n",
                "plt.legend(loc='lower right')\n",
                "plt.show()"
            ]
        },
        {
            "cell_type": "markdown",
            "metadata": {},
            "source": [
                "## 2. Implementing Error Prevention",
                "",
                "Here's an example of implementing error prevention in a medical prescription system:"
            ]
        },
        {
            "cell_type": "code",
            "metadata": {},
            "execution_count": null,
            "source": [
                "class PrescriptionValidator:\n",
                "    def __init__(self):\n",
                "        # Sample database of drug interactions\n",
                "        self.drug_interactions = {\n",
                "            ('aspirin', 'warfarin'): 'High risk of bleeding',\n",
                "            ('ibuprofen', 'prednisone'): 'Increased risk of GI ulcers'\n",
                "        }\n",
                "    \n",
                "    def validate_prescription(self, current_meds, new_med):\n",
                "        \"\"\"Validate a new prescription against current medications\"\"\"\n",
                "        warnings = []\n",
                "        \n",
                "        for current_med in current_meds:\n",
                "            pair = tuple(sorted([current_med.lower(), new_med.lower()]))\n",
                "            if pair in self.drug_interactions:\n",
                "                warnings.append(f'WARNING: {self.drug_interactions[pair]}')\n",
                "        \n",
                "        return warnings\n",
                "\n",
                "# Example usage\n",
                "validator = PrescriptionValidator()\n",
                "current_meds = ['Warfarin']\n",
                "new_med = 'Aspirin'\n",
                "\n",
                "warnings = validator.validate_prescription(current_meds, new_med)\n",
                "for warning in warnings:\n",
                "    print(warning)"
            ]
        },
        {
            "cell_type": "markdown",
            "metadata": {},
            "source": [
                "## 3. Implementing Model Interpretability",
                "",
                "Using SHAP values to explain model predictions:"
            ]
        },
        {
            "cell_type": "code",
            "metadata": {},
            "execution_count": null,
            "source": [
                "from sklearn.ensemble import RandomForestClassifier\n",
                "\n",
                "# Generate sample patient data\n",
                "n_samples = 1000\n",
                "features = ['Age', 'BloodPressure', 'GlucoseLevel', 'BMI']\n",
                "X = pd.DataFrame(np.random.randn(n_samples, 4), columns=features)\n",
                "y = (X['BloodPressure'] + X['GlucoseLevel'] > 1).astype(int)\n",
                "\n",
                "# Train model\n",
                "model = RandomForestClassifier(n_estimators=100)\n",
                "model.fit(X, y)\n",
                "\n",
                "# Calculate SHAP values\n",
                "explainer = shap.TreeExplainer(model)\n",
                "shap_values = explainer.shap_values(X)\n",
                "\n",
                "# Plot SHAP summary\n",
                "shap.summary_plot(shap_values[1], X)"
            ]
        }
    ],
    "metadata": {
        "kernelspec": {
            "display_name": "Python 3",
            "language": "python",
            "name": "python3"
        },
        "language_info": {
            "codemirror_mode": {
                "name": "ipython",
                "version": 3
            },
            "file_extension": ".py",
            "mimetype": "text/x-python",
            "name": "python",
            "nbconvert_exporter": "python",
            "pygments_lexer": "ipython3",
            "version": "3.8.0"
        }
    },
    "nbformat": 4,
    "nbformat_minor": 4
}