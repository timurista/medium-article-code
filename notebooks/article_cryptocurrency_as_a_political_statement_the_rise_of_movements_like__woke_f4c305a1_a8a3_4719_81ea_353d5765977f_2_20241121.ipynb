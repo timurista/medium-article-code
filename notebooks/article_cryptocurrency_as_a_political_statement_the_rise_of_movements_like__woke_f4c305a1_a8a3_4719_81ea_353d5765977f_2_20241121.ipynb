{
    "cells": [
        {
            "cell_type": "markdown",
            "metadata": {},
            "source": [
                "# Cryptocurrency as a Political Statement: The Rise of Movements like $WOKE",
                "",
                "This notebook explores the intersection of cryptocurrency and politics, focusing on politically-motivated cryptocurrencies like $WOKE. We'll analyze sentiment data, market trends, and demonstrate key technical concepts."
            ]
        },
        {
            "cell_type": "markdown",
            "metadata": {},
            "source": [
                "## Setup and Required Libraries",
                "",
                "First, let's import the necessary libraries for our analysis."
            ]
        },
        {
            "cell_type": "code",
            "execution_count": null,
            "metadata": {},
            "outputs": [],
            "source": [
                "import pandas as pd\n",
                "import numpy as np\n",
                "import matplotlib.pyplot as plt\n",
                "import seaborn as sns\n",
                "from textblob import TextBlob\n",
                "import requests\n",
                "import json\n",
                "\n",
                "# Set style for visualizations\n",
                "plt.style.use('seaborn')\n",
                "sns.set_palette('husl')"
            ]
        },
        {
            "cell_type": "markdown",
            "metadata": {},
            "source": [
                "## Social Media Sentiment Analysis",
                "",
                "Let's analyze Twitter sentiment around political cryptocurrencies using a sample dataset."
            ]
        },
        {
            "cell_type": "code",
            "execution_count": null,
            "metadata": {},
            "outputs": [],
            "source": [
                "# Sample tweet data (in practice, you would load from a real dataset)\n",
                "tweets_data = {\n",
                    "'text': [\n",
                        "'$WOKE is the future of political activism!',\n",
                        "'Cryptocurrency and politics should not mix.',\n",
                        "'Excited about the potential of $WOKE'\n",
                    "],\n",
                    "'date': ['2024-01-01', '2024-01-02', '2024-01-03']\n",
                "}\n",
                "\n",
                "df = pd.DataFrame(tweets_data)\n",
                "\n",
                "# Add sentiment analysis\n",
                "df['sentiment'] = df['text'].apply(lambda x: TextBlob(x).sentiment.polarity)\n",
                "\n",
                "# Plot sentiment over time\n",
                "plt.figure(figsize=(10, 6))\n",
                "plt.plot(df['date'], df['sentiment'], marker='o')\n",
                "plt.title('Sentiment Analysis of $WOKE Tweets')\n",
                "plt.xlabel('Date')\n",
                "plt.ylabel('Sentiment Score')\n",
                "plt.xticks(rotation=45)\n",
                "plt.tight_layout()"
            ]
        }
    ],
    "metadata": {
        "kernelspec": {
            "display_name": "Python 3",
            "language": "python",
            "name": "python3"
        },
        "language_info": {
            "codemirror_mode": {
                "name": "ipython",
                "version": 3
            },
            "file_extension": ".py",
            "mimetype": "text/x-python",
            "name": "python",
            "nbconvert_exporter": "python",
            "pygments_lexer": "ipython3",
            "version": "3.8.0"
        }
    },
    "nbformat": 4,
    "nbformat_minor": 4
}