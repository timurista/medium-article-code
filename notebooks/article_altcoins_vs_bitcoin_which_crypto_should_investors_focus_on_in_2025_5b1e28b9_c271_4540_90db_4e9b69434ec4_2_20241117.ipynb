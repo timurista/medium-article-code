{
    "cells": [
        {
            "cell_type": "markdown",
            "metadata": {},
            "source": [
                "# Cryptocurrency Analysis: Bitcoin vs Altcoins in 2025",
                "## A Data-Driven Exploration of Investment Opportunities",
                "\nThis notebook provides a detailed analysis of Bitcoin and altcoin investment opportunities as we approach 2025. We'll examine historical data, market trends, and technical indicators to understand the risk-reward profiles of different cryptocurrencies."
            ]
        },
        {
            "cell_type": "markdown", 
            "metadata": {},
            "source": [
                "## Setup and Required Libraries",
                "\nFirst, let's import the necessary libraries and set up our environment for analysis."
            ]
        },
        {
            "cell_type": "code",
            "execution_count": null,
            "metadata": {},
            "outputs": [],
            "source": [
                "import pandas as pd\nimport numpy as np\nimport matplotlib.pyplot as plt\nimport seaborn as sns\nimport yfinance as yf\nfrom datetime import datetime, timedelta\n\n# Set plotting style\nplt.style.use('seaborn')\nsns.set_palette('husl')\n\n# Suppress warnings\nimport warnings\nwarnings.filterwarnings('ignore')"
            ]
        },
        {
            "cell_type": "markdown",
            "metadata": {},
            "source": [
                "## Data Collection",
                "\nLet's fetch historical price data for Bitcoin and some major altcoins using the Yahoo Finance API."
            ]
        },
        {
            "cell_type": "code",
            "execution_count": null,
            "metadata": {},
            "outputs": [],
            "source": [
                "def fetch_crypto_data(symbol, start_date, end_date):\n    try:\n        ticker = yf.Ticker(f'{symbol}-USD')\n        df = ticker.history(start=start_date, end=end_date)\n        return df\n    except Exception as e:\n        print(f'Error fetching data for {symbol}: {e}')\n        return None\n\n# Define date range\nend_date = datetime.now()\nstart_date = end_date - timedelta(days=365)\n\n# Fetch data for Bitcoin and major altcoins\nbtc_data = fetch_crypto_data('BTC', start_date, end_date)\neth_data = fetch_crypto_data('ETH', start_date, end_date)\nsol_data = fetch_crypto_data('SOL', start_date, end_date)"
            ]
        },
        {
            "cell_type": "markdown",
            "metadata": {},
            "source": [
                "## Price Analysis and Visualization",
                "\nLet's create visualizations to compare price trends between Bitcoin and major altcoins."
            ]
        },
        {
            "cell_type": "code",
            "execution_count": null,
            "metadata": {},
            "outputs": [],
            "source": [
                "def plot_price_comparison(btc_data, eth_data, sol_data):\n    plt.figure(figsize=(15, 8))\n    \n    # Normalize prices to starting value\n    btc_norm = btc_data['Close'] / btc_data['Close'].iloc[0] * 100\n    eth_norm = eth_data['Close'] / eth_data['Close'].iloc[0] * 100\n    sol_norm = sol_data['Close'] / sol_data['Close'].iloc[0] * 100\n    \n    plt.plot(btc_norm, label='Bitcoin')\n    plt.plot(eth_norm, label='Ethereum')\n    plt.plot(sol_norm, label='Solana')\n    \n    plt.title('Normalized Price Comparison (Past Year)')\n    plt.xlabel('Date')\n    plt.ylabel('Price (Normalized to 100)')\n    plt.legend()\n    plt.grid(True)\n    plt.show()"
            ]
        }
    ],
    "metadata": {
        "kernelspec": {
            "display_name": "Python 3",
            "language": "python",
            "name": "python3"
        },
        "language_info": {
            "codemirror_mode": {
                "name": "ipython",
                "version": 3
            },
            "file_extension": ".py",
            "mimetype": "text/x-python", 
            "name": "python",
            "nbconvert_exporter": "python",
            "pygments_lexer": "ipython3",
            "version": "3.8.0"
        }
    },
    "nbformat": 4,
    "nbformat_minor": 4
}