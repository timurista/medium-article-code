{
    "cells": [
        {
            "cell_type": "markdown",
            "metadata": {},
            "source": [
                "# Exploring Enhanced Semantic Analysis in HTML using RAG: Beyond Text",
                "## Overview of HTML-based Retrieval Augmented Generation",
                "This notebook demonstrates the concepts and implementation of using HTML structure for enhanced semantic analysis in RAG systems. We'll explore how preserving HTML markup can improve knowledge retrieval compared to plain text approaches."
            ]
        },
        {
            "cell_type": "markdown", 
            "metadata": {},
            "source": [
                "## Setup and Requirements",
                "First, let's import the required libraries and set up our environment."
            ]
        },
        {
            "cell_type": "code",
            "execution_count": null,
            "metadata": {},
            "outputs": [],
            "source": [
                "import bs4\n",
                "from bs4 import BeautifulSoup\n",
                "import pandas as pd\n",
                "import numpy as np\n",
                "import matplotlib.pyplot as plt\n",
                "import seaborn as sns\n",
                "\n",
                "# Set plotting style\n",
                "plt.style.use('seaborn')\n",
                "sns.set_theme()"
            ]
        },
        {
            "cell_type": "markdown",
            "metadata": {}, 
            "source": [
                "## HTML Cleaning and Processing Functions",
                "Here we implement key functions for processing HTML documents while preserving semantic structure."
            ]
        },
        {
            "cell_type": "code",
            "execution_count": null,
            "metadata": {},
            "outputs": [],
            "source": [
                "def clean_html(html_content):\n",
                "    \"\"\"Clean HTML while preserving important semantic elements\"\"\"\n",
                "    try:\n",
                "        soup = BeautifulSoup(html_content, 'html.parser')\n",
                "        \n",
                "        # Remove script and style elements\n",
                "        for script in soup(['script', 'style']):\n",
                "            script.decompose()\n",
                "            \n",
                "        # Preserve important semantic tags\n",
                "        preserved_tags = ['p', 'h1', 'h2', 'h3', 'ul', 'ol', 'li', 'table']\n",
                "        clean_text = ' '.join([str(tag) for tag in soup.findAll(preserved_tags)])\n",
                "        \n",
                "        return clean_text\n",
                "    except Exception as e:\n",
                "        print(f\"Error cleaning HTML: {str(e)}\")\n",
                "        return None"
            ]
        }
    ],
    "metadata": {
        "kernelspec": {
            "display_name": "Python 3",
            "language": "python", 
            "name": "python3"
        },
        "language_info": {
            "codemirror_mode": {
                "name": "ipython",
                "version": 3
            },
            "file_extension": ".py",
            "mimetype": "text/x-python", 
            "name": "python",
            "nbconvert_exporter": "python",
            "pygments_lexer": "ipython3",
            "version": "3.8.0"
        }
    },
    "nbformat": 4,
    "nbformat_minor": 4
}