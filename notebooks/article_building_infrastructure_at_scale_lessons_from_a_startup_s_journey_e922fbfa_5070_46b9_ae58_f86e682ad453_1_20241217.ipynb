{
    "cells": [
        {
            "cell_type": "markdown",
            "metadata": {},
            "source": [
                "# Building Infrastructure at Scale: Lessons From a Startup's Journey",
                "\nThis notebook demonstrates key concepts and practical examples from building scalable cloud infrastructure in a startup environment. We'll explore cloud providers, Kubernetes, monitoring, and best practices."
            ]
        },
        {
            "cell_type": "markdown", 
            "metadata": {},
            "source": [
                "## Setup and Requirements",
                "\nFirst, let's import the required libraries and set up our environment."
            ]
        },
        {
            "cell_type": "code",
            "execution_count": null,
            "metadata": {},
            "outputs": [],
            "source": [
                "import boto3\n",
                "import kubernetes\n",
                "import pandas as pd\n",
                "import matplotlib.pyplot as plt\n",
                "import seaborn as sns\n",
                "\n",
                "# Configure plotting style\n",
                "plt.style.use('seaborn')\n",
                "sns.set_theme()"
            ]
        },
        {
            "cell_type": "markdown",
            "metadata": {}, 
            "source": [
                "## Cloud Provider Analysis",
                "\nLet's analyze and visualize key metrics comparing AWS and Google Cloud services."
            ]
        },
        {
            "cell_type": "code",
            "execution_count": null,
            "metadata": {},
            "outputs": [],
            "source": [
                "# Sample cloud provider comparison data\n",
                "cloud_data = pd.DataFrame({\n",
                    "'Provider': ['AWS', 'Google Cloud'],\n",
                    "'Services': [200, 100],\n",
                    "'Global Regions': [25, 20],\n",
                    "'Market Share': [33, 9]\n",
                "})\n",
                "\n",
                "# Create visualization\n",
                "fig, ax = plt.subplots(figsize=(10, 6))\n",
                "cloud_data.plot(x='Provider', y=['Services', 'Global Regions', 'Market Share'], \n",
                               kind='bar', ax=ax)\n",
                "plt.title('Cloud Provider Comparison')\n",
                "plt.ylabel('Count/Percentage')\n",
                "plt.legend(title='Metrics')\n",
                "plt.tight_layout()"
            ]
        },
        {
            "cell_type": "markdown",
            "metadata": {},
            "source": [
                "## Kubernetes Configuration Examples",
                "\nBelow are practical examples of Kubernetes configurations using EKS."
            ]
        },
        {
            "cell_type": "code",
            "execution_count": null,
            "metadata": {},
            "outputs": [],
            "source": [
                "# Example Kubernetes deployment configuration\n",
                "deployment_config = '''\n",
                "apiVersion: apps/v1\n",
                "kind: Deployment\n",
                "metadata:\n",
                "  name: sample-app\n",
                "spec:\n",
                "  replicas: 3\n",
                "  selector:\n",
                "    matchLabels:\n",
                "      app: sample-app\n",
                "  template:\n",
                "    metadata:\n",
                "      labels:\n",
                "        app: sample-app\n",
                "    spec:\n",
                "      containers:\n",
                "      - name: sample-container\n",
                "        image: sample-image:latest\n",
                "        ports:\n",
                "        - containerPort: 80\n",
                "'''\n",
                "\nprint(deployment_config)"
            ]
        },
        {
            "cell_type": "markdown",
            "metadata": {},
            "source": [
                "## Error Handling Best Practices",
                "\nDemonstrating proper error handling in cloud infrastructure."
            ]
        },
        {
            "cell_type": "code",
            "execution_count": null,
            "metadata": {},
            "outputs": [],
            "source": [
                "def deploy_to_eks(config):\n",
                    "try:\n",
                        "# Simulate EKS deployment\n",
                        "if not isinstance(config, dict):\n",
                            "raise ValueError('Invalid configuration format')\n",
                        "print('Deployment successful')\n",
                    "except ValueError as e:\n",
                        "print(f'Deployment error: {e}')\n",
                    "except Exception as e:\n",
                        "print(f'Unexpected error: {e}')\n",
                        "raise\n",
                    "finally:\n",
                        "print('Cleanup completed')\n",
                "\n",
                "# Test error handling\n",
                "deploy_to_eks('invalid_config')"
            ]
        },
        {
            "cell_type": "markdown",
            "metadata": {},
            "source": [
                "## Conclusion",
                "\nThis notebook has demonstrated key concepts in building scalable infrastructure, including:\n",
                "- Cloud provider selection\n",
                "- Kubernetes deployment\n",
                "- Error handling\n",
                "- Infrastructure monitoring\n",
                "\nThese patterns and practices form the foundation for successful startup infrastructure."
            ]
        }
    ],
    "metadata": {
        "kernelspec": {
            "display_name": "Python 3",
            "language": "python",
            "name": "python3"
        },
        "language_info": {
            "codemirror_mode": {
                "name": "ipython",
                "version": 3
            },
            "file_extension": ".py",
            "mimetype": "text/x-python", 
            "name": "python",
            "nbconvert_exporter": "python",
            "pygments_lexer": "ipython3",
            "version": "3.8.0"
        }
    },
    "nbformat": 4,
    "nbformat_minor": 4
}