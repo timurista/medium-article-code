{
    "cells": [
        {
            "cell_type": "markdown",
            "metadata": {},
            "source": [
                "# Reassessing Value in the Age of Cryptocurrencies: Implications for the Global Economy",
                "\n",
                "This notebook explores the technical concepts and analysis related to cryptocurrency valuation, market dynamics, and economic implications. We'll examine data, create visualizations, and implement code examples to understand key concepts."
            ]
        },
        {
            "cell_type": "markdown", 
            "metadata": {},
            "source": [
                "## Setup and Required Libraries",
                "\n",
                "First, let's import the necessary Python libraries we'll use throughout this notebook:"
            ]
        },
        {
            "cell_type": "code",
            "execution_count": null,
            "metadata": {},
            "outputs": [],
            "source": [
                "import pandas as pd\n",
                "import numpy as np\n",
                "import matplotlib.pyplot as plt\n",
                "import seaborn as sns\n",
                "from datetime import datetime\n",
                "import statsmodels.api as sm\n",
                "\n",
                "# Set plotting style\n",
                "plt.style.use('seaborn')\n",
                "sns.set_theme()\n",
                "\n",
                "# Configure pandas display options\n",
                "pd.set_option('display.max_columns', None)\n",
                "pd.set_option('display.max_rows', 100)"
            ]
        },
        {
            "cell_type": "markdown",
            "metadata": {},
            "source": [
                "## 1. Bitcoin Mining Simulation",
                "\n", 
                "Let's implement a simple Bitcoin mining simulator to understand the relationship between computational effort and rewards:"
            ]
        },
        {
            "cell_type": "code",
            "execution_count": null,
            "metadata": {},
            "outputs": [],
            "source": [
                "class BitcoinMiner:\n",
                "    def __init__(self, hash_rate, energy_cost_per_kwh, mining_duration):\n",
                "        self.hash_rate = hash_rate  # hashes per second\n",
                "        self.energy_cost_per_kwh = energy_cost_per_kwh  # in USD\n",
                "        self.mining_duration = mining_duration  # in seconds\n",
                "\n",
                "    def calculate_costs(self):\n",
                "        try:\n",
                "            # Calculate energy consumption in kWh\n",
                "            energy_consumption = (self.hash_rate * self.mining_duration) / (3.6e12)\n",
                "            total_cost = energy_consumption * self.energy_cost_per_kwh\n",
                "            return total_cost\n",
                "        except Exception as e:\n",
                "            print(f\"Error calculating costs: {e}\")\n",
                "            return None\n",
                "\n",
                "# Example usage\n",
                "miner = BitcoinMiner(hash_rate=1e12, energy_cost_per_kwh=0.12, mining_duration=3600)\n",
                "cost = miner.calculate_costs()\n",
                "print(f\"Hourly mining cost: ${cost:.2f}\")"
            ]
        }
    ],
    "metadata": {
        "kernelspec": {
            "display_name": "Python 3",
            "language": "python",
            "name": "python3"
        },
        "language_info": {
            "codemirror_mode": {
                "name": "ipython",
                "version": 3
            },
            "file_extension": ".py",
            "mimetype": "text/x-python",
            "name": "python",
            "nbconvert_exporter": "python",
            "pygments_lexer": "ipython3",
            "version": "3.8.0"
        }
    },
    "nbformat": 4,
    "nbformat_minor": 4
}