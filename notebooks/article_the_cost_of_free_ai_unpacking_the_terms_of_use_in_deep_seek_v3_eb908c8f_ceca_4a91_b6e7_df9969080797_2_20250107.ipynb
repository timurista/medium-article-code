{
    "cells": [
        {
            "cell_type": "markdown",
            "metadata": {},
            "source": [
                "# The Cost of Free AI: Unpacking the Terms of Use in Deep Seek V3",
                "",
                "This notebook explores the technical and practical implications of using free AI services like Deep Seek V3, focusing on data privacy, intellectual property rights, and best practices for responsible AI use."
            ]
        },
        {
            "cell_type": "code",
            "execution_count": null,
            "metadata": {},
            "source": [
                "# Required imports\n",
                "import pandas as pd\n",
                "import numpy as np\n",
                "import matplotlib.pyplot as plt\n",
                "import seaborn as sns\n",
                "import hashlib\n",
                "from datetime import datetime"
            ],
            "outputs": []
        },
        {
            "cell_type": "markdown",
            "metadata": {},
            "source": [
                "## Section 1: Data Privacy Analysis",
                "",
                "Let's simulate and analyze potential data privacy risks when using AI services."
            ]
        },
        {
            "cell_type": "code",
            "execution_count": null,
            "metadata": {},
            "source": [
                "# Create sample data for privacy risk analysis\n",
                "def generate_privacy_risk_data(n_samples=100):\n",
                "    data = {\n",
                "        'data_type': np.random.choice(['Personal', 'Business', 'Mixed'], n_samples),\n",
                "        'risk_level': np.random.randint(1, 10, n_samples),\n",
                "        'data_volume': np.random.exponential(50, n_samples)\n",
                "    }\n",
                "    return pd.DataFrame(data)\n",
                "\n",
                "df = generate_privacy_risk_data()\n",
                "\n",
                "# Visualize risk distribution\n",
                "plt.figure(figsize=(10, 6))\n",
                "sns.boxplot(x='data_type', y='risk_level', data=df)\n",
                "plt.title('Privacy Risk Levels by Data Type')\n",
                "plt.show()"
            ],
            "outputs": []
        },
        {
            "cell_type": "markdown",
            "metadata": {},
            "source": [
                "## Section 2: IP Protection Implementation",
                "",
                "Demonstrating a simple blockchain-inspired hash system for content verification."
            ]
        },
        {
            "cell_type": "code",
            "execution_count": null,
            "metadata": {},
            "source": [
                "class ContentVerification:\n",
                "    def __init__(self):\n",
                "        self.content_registry = {}\n",
                "        \n",
                "    def register_content(self, content, author):\n",
                "        timestamp = datetime.now().isoformat()\n",
                "        content_hash = hashlib.sha256(content.encode()).hexdigest()\n",
                "        self.content_registry[content_hash] = {\n",
                "            'author': author,\n",
                "            'timestamp': timestamp,\n",
                "            'content': content\n",
                "        }\n",
                "        return content_hash\n",
                "    \n",
                "    def verify_content(self, content, hash_id):\n",
                "        new_hash = hashlib.sha256(content.encode()).hexdigest()\n",
                "        return new_hash == hash_id\n",
                "\n",
                "# Example usage\n",
                "verifier = ContentVerification()\n",
                "content = \"This is my original AI-generated content\"\n",
                "hash_id = verifier.register_content(content, \"John Doe\")\n",
                "print(f\"Content registered with hash: {hash_id}\")"
            ],
            "outputs": []
        },
        {
            "cell_type": "markdown",
            "metadata": {},
            "source": [
                "## Best Practices and Recommendations",
                "",
                "1. Always implement robust data encryption\n",
                "2. Maintain detailed audit logs\n",
                "3. Regular security assessments\n",
                "4. Clear documentation of AI usage terms\n",
                "5. Implementation of content verification systems"
            ]
        },
        {
            "cell_type": "markdown",
            "metadata": {},
            "source": [
                "## Conclusion",
                "",
                "This notebook demonstrated practical approaches to managing AI service usage while protecting intellectual property and maintaining data privacy. The implemented examples show how to track content ownership and assess privacy risks when using AI services like Deep Seek V3."
            ]
        }
    ],
    "metadata": {
        "kernelspec": {
            "display_name": "Python 3",
            "language": "python",
            "name": "python3"
        },
        "language_info": {
            "codemirror_mode": {
                "name": "ipython",
                "version": 3
            },
            "file_extension": ".py",
            "mimetype": "text/x-python",
            "name": "python",
            "nbconvert_exporter": "python",
            "pygments_lexer": "ipython3",
            "version": "3.8.0"
        }
    },
    "nbformat": 4,
    "nbformat_minor": 4
}