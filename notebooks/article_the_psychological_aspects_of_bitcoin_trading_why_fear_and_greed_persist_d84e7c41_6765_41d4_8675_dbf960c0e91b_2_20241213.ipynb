{
    "cells": [
        {
            "cell_type": "markdown", 
            "metadata": {},
            "source": [
                "# The Psychological Aspects of Bitcoin Trading: Why Fear and Greed Persist",
                "",
                "This notebook explores the psychological factors that influence Bitcoin trading behavior, with a focus on how fear and greed drive market dynamics. We'll analyze market sentiment data, visualize trading patterns, and demonstrate how to track and measure these emotional drivers programmatically."
            ]
        },
        {
            "cell_type": "code",
            "execution_count": null,
            "metadata": {},
            "outputs": [],
            "source": [
                "# Import required libraries\n",
                "import pandas as pd\n",
                "import numpy as np\n",
                "import matplotlib.pyplot as plt\n",
                "import seaborn as sns\n",
                "from pytrends.request import TrendReq\n",
                "import yfinance as yf\n",
                "import warnings\n",
                "warnings.filterwarnings('ignore')\n",
                "\n",
                "# Set plotting style\n",
                "plt.style.use('seaborn')\n",
                "sns.set_palette('husl')"
            ]
        },
        {
            "cell_type": "markdown",
            "metadata": {},
            "source": [
                "## Fear and Greed Index Implementation",
                "",
                "Below we'll implement key components used in calculating the Fear and Greed Index for Bitcoin."
            ]
        },
        {
            "cell_type": "code",
            "execution_count": null,
            "metadata": {},
            "outputs": [],
            "source": [
                "def calculate_rsi(data, window=14):\n",
                "    \"\"\"Calculate RSI technical indicator\"\"\"\n",
                "    try:\n",
                "        delta = data['Close'].diff()\n",
                "        gain = (delta.where(delta > 0, 0)).rolling(window).mean()\n",
                "        loss = (-delta.where(delta < 0, 0)).rolling(window).mean()\n",
                "        rs = gain / loss\n",
                "        return 100 - (100 / (1 + rs))\n",
                "    except Exception as e:\n",
                "        print(f'Error calculating RSI: {e}')\n",
                "        return None"
            ]
        },
        {
            "cell_type": "markdown",
            "metadata": {},
            "source": [
                "## Data Collection and Analysis",
                "",
                "Let's fetch some Bitcoin price data and analyze sentiment indicators."
            ]
        },
        {
            "cell_type": "code",
            "execution_count": null,
            "metadata": {},
            "outputs": [],
            "source": [
                "# Fetch Bitcoin historical data\n",
                "btc = yf.download('BTC-USD', start='2023-01-01')\n",
                "\n",
                "# Calculate technical indicators\n",
                "btc['RSI'] = calculate_rsi(btc)\n",
                "btc['20MA'] = btc['Close'].rolling(window=20).mean()\n",
                "btc['Volatility'] = btc['Close'].pct_change().rolling(window=20).std()"
            ]
        }
    ],
    "metadata": {
        "kernelspec": {
            "display_name": "Python 3",
            "language": "python", 
            "name": "python3"
        },
        "language_info": {
            "codemirror_mode": {
                "name": "ipython",
                "version": 3
            },
            "file_extension": ".py",
            "mimetype": "text/x-python", 
            "name": "python",
            "nbconvert_exporter": "python",
            "pygments_lexer": "ipython3",
            "version": "3.8.0"
        }
    },
    "nbformat": 4,
    "nbformat_minor": 4
}