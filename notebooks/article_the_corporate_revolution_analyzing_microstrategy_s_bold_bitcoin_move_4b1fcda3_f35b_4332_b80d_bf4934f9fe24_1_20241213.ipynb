{
    "cells": [
        {
            "cell_type": "markdown",
            "metadata": {},
            "source": [
                "# The Corporate Revolution: Analyzing MicroStrategy's Bold Bitcoin Move",
                "",
                "This notebook analyzes MicroStrategy's pioneering Bitcoin investment strategy and its implications for corporate finance. We'll explore the data, conduct analyses, and visualize key metrics related to this transformative move in corporate treasury management."
            ]
        },
        {
            "cell_type": "markdown", 
            "metadata": {},
            "source": [
                "## Setup and Required Libraries",
                "",
                "First, let's import the necessary libraries and set up our environment."
            ]
        },
        {
            "cell_type": "code",
            "execution_count": null,
            "metadata": {},
            "outputs": [],
            "source": [
                "import pandas as pd\n",
                "import numpy as np\n",
                "import matplotlib.pyplot as plt\n",
                "import seaborn as sns\n",
                "import yfinance as yf\n",
                "from datetime import datetime, timedelta\n",
                "\n",
                "# Set plotting style\n",
                "plt.style.use('seaborn')\n",
                "sns.set_palette('colorblind')\n",
                "\n",
                "# Suppress warnings\n",
                "import warnings\n",
                "warnings.filterwarnings('ignore')"
            ]
        },
        {
            "cell_type": "markdown",
            "metadata": {},
            "source": [
                "## Data Collection",
                "",
                "Let's gather historical price data for both Bitcoin and MicroStrategy stock to analyze their relationship."
            ]
        },
        {
            "cell_type": "code",
            "execution_count": null,
            "metadata": {},
            "outputs": [],
            "source": [
                "def fetch_price_data(ticker, start_date='2020-08-01', end_date=None):\n",
                "    \"\"\"Fetch historical price data for given ticker\"\"\"\n",
                "    try:\n",
                "        data = yf.download(ticker, start=start_date, end=end_date)\n",
                "        return data['Adj Close']\n",
                "    except Exception as e:\n",
                "        print(f'Error fetching data for {ticker}: {e}')\n",
                "        return None\n",
                "\n",
                "# Fetch data\n",
                "mstr = fetch_price_data('MSTR')\n",
                "btc = fetch_price_data('BTC-USD')"
            ]
        },
        {
            "cell_type": "markdown",
            "metadata": {},
            "source": [
                "## Analysis and Visualization",
                "",
                "Let's analyze the relationship between Bitcoin and MicroStrategy's stock price."
            ]
        },
        {
            "cell_type": "code",
            "execution_count": null,
            "metadata": {},
            "outputs": [],
            "source": [
                "def plot_price_correlation(mstr_data, btc_data):\n",
                "    \"\"\"Plot price correlation between MSTR and BTC\"\"\"\n",
                "    fig, (ax1, ax2) = plt.subplots(2, 1, figsize=(12, 10))\n",
                "    \n",
                "    # Normalize prices to compare trends\n",
                "    mstr_norm = mstr_data / mstr_data.iloc[0]\n",
                "    btc_norm = btc_data / btc_data.iloc[0]\n",
                "    \n",
                "    # Plot normalized prices\n",
                "    ax1.plot(mstr_norm.index, mstr_norm, label='MSTR')\n",
                "    ax1.plot(btc_norm.index, btc_norm, label='BTC')\n",
                "    ax1.set_title('Normalized Price Comparison')\n",
                "    ax1.legend()\n",
                "    \n",
                "    # Calculate rolling correlation\n",
                "    correlation = mstr_data.rolling(window=30).corr(btc_data)\n",
                "    ax2.plot(correlation.index, correlation)\n",
                "    ax2.set_title('30-Day Rolling Correlation')\n",
                "    \n",
                "    plt.tight_layout()\n",
                "    plt.show()\n",
                "\n",
                "plot_price_correlation(mstr, btc)"
            ]
        }
    ],
    "metadata": {
        "kernelspec": {
            "display_name": "Python 3",
            "language": "python",
            "name": "python3"
        },
        "language_info": {
            "codemirror_mode": {
                "name": "ipython",
                "version": 3
            },
            "file_extension": ".py",
            "mimetype": "text/x-python", 
            "name": "python",
            "nbconvert_exporter": "python",
            "pygments_lexer": "ipython3",
            "version": "3.8.0"
        }
    },
    "nbformat": 4,
    "nbformat_minor": 4
}