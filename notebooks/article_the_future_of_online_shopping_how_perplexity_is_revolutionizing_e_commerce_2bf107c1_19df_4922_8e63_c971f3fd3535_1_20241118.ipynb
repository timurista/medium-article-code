{
    "cells": [
        {
            "cell_type": "markdown",
            "metadata": {},
            "source": [
                "# The Future of Online Shopping: How Perplexity is Revolutionizing E-Commerce",
                "",
                "This notebook demonstrates the key technical concepts behind Perplexity's AI-powered e-commerce platform and how it's transforming online shopping. We'll explore recommendation systems, personalization algorithms, and data analysis techniques used in modern e-commerce."
            ]
        },
        {
            "cell_type": "markdown", 
            "metadata": {},
            "source": [
                "## Setup",
                "First, let's import the required libraries and set up our environment"
            ]
        },
        {
            "cell_type": "code",
            "execution_count": null,
            "metadata": {},
            "outputs": [],
            "source": [
                "import pandas as pd\n",
                "import numpy as np\n",
                "import matplotlib.pyplot as plt\n",
                "import seaborn as sns\n",
                "from sklearn.model_selection import train_test_split\n",
                "from sklearn.metrics.pairwise import cosine_similarity\n",
                "\n",
                "# Set random seed for reproducibility\n",
                "np.random.seed(42)\n",
                "\n",
                "# Matplotlib settings\n",
                "plt.style.use('seaborn')\n",
                "%matplotlib inline"
            ]
        },
        {
            "cell_type": "markdown",
            "metadata": {},
            "source": [
                "## 1. Recommendation System Implementation",
                "",
                "Let's implement a basic collaborative filtering recommendation system similar to what Perplexity might use."
            ]
        },
        {
            "cell_type": "code",
            "execution_count": null,
            "metadata": {},
            "outputs": [],
            "source": [
                "# Create sample user-item interaction data\n",
                "n_users = 1000\n",
                "n_products = 50\n",
                "\n",
                "# Generate random ratings matrix\n",
                "ratings = pd.DataFrame({\n",
                    "'user_id': np.random.randint(1, n_users, size=5000),\n",
                    "'product_id': np.random.randint(1, n_products, size=5000),\n",
                    "'rating': np.random.randint(1, 6, size=5000)\n",
                "})\n",
                "\n",
                "# Create user-product matrix\n",
                "user_product_matrix = ratings.pivot(\n",
                    "index='user_id',\n",
                    "columns='product_id',\n",
                    "values='rating'\n",
                ").fillna(0)"
            ]
        },
        {
            "cell_type": "markdown",
            "metadata": {},
            "source": [
                "## 2. Implementing Personalization",
                "",
                "Now let's create a simple personalization algorithm based on user similarity"
            ]
        },
        {
            "cell_type": "code",
            "execution_count": null,
            "metadata": {},
            "outputs": [],
            "source": [
                "def get_similar_users(user_id, user_matrix, n=5):\n",
                    "\"\"\"Find similar users based on rating patterns\"\"\"\n",
                    "try:\n",
                        "user_similarities = cosine_similarity(user_matrix)\n",
                        "similar_users = pd.Series(\n",
                            "user_similarities[user_id-1],\n",
                            "index=user_matrix.index\n",
                        ")\n",
                        "similar_users = similar_users.sort_values(ascending=False)[1:n+1]\n",
                        "return similar_users\n",
                    "except Exception as e:\n",
                        "print(f'Error finding similar users: {str(e)}')\n",
                        "return None"
            ]
        }
    ],
    "metadata": {
        "kernelspec": {
            "display_name": "Python 3",
            "language": "python", 
            "name": "python3"
        },
        "language_info": {
            "codemirror_mode": {
                "name": "ipython",
                "version": 3
            },
            "file_extension": ".py",
            "mimetype": "text/x-python", 
            "name": "python",
            "nbconvert_exporter": "python",
            "pygments_lexer": "ipython3",
            "version": "3.8.0"
        }
    },
    "nbformat": 4,
    "nbformat_minor": 4
}