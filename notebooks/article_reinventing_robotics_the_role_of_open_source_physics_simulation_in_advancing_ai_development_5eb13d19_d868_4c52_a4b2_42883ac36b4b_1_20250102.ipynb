{
    "cells": [
        {
            "cell_type": "markdown",
            "metadata": {},
            "source": [
                "# Reinventing Robotics: Open Source Physics Simulation for AI Development",
                "",
                "This notebook demonstrates key concepts and implementations discussed in the article about the Genesis Physics Simulator and its role in advancing robotics and AI development. We'll explore simulation techniques, physics engines, and practical applications with code examples."
            ]
        },
        {
            "cell_type": "markdown",
            "metadata": {},
            "source": [
                "## Setup and Requirements",
                "",
                "Let's first import the necessary libraries and set up our environment."
            ]
        },
        {
            "cell_type": "code",
            "execution_count": null,
            "metadata": {},
            "outputs": [],
            "source": [
                "import numpy as np\nimport matplotlib.pyplot as plt\nimport torch\nimport gymnasium as gym\n\n# Set random seeds for reproducibility\nnp.random.seed(42)\ntorch.manual_seed(42)"
            ]
        },
        {
            "cell_type": "markdown",
            "metadata": {},
            "source": [
                "## Physics Simulation Example",
                "",
                "Here we'll create a simple physics simulation to demonstrate basic concepts."
            ]
        },
        {
            "cell_type": "code",
            "execution_count": null,
            "metadata": {},
            "outputs": [],
            "source": [
                "class SimplePhysicsSimulator:\n    def __init__(self, dt=0.01):\n        self.dt = dt  # Time step\n        self.gravity = -9.81  # Gravity constant\n        \n    def simulate_projectile(self, initial_velocity, angle, steps=1000):\n        \"\"\"Simulate projectile motion\"\"\"\n        angle_rad = np.radians(angle)\n        v0x = initial_velocity * np.cos(angle_rad)\n        v0y = initial_velocity * np.sin(angle_rad)\n        \n        t = np.linspace(0, self.dt * steps, steps)\n        x = v0x * t\n        y = v0y * t + 0.5 * self.gravity * t**2\n        \n        # Only keep points above ground\n        mask = y >= 0\n        return x[mask], y[mask]"
            ]
        },
        {
            "cell_type": "markdown",
            "metadata": {},
            "source": [
                "## Visualization Example"
            ]
        },
        {
            "cell_type": "code",
            "execution_count": null,
            "metadata": {},
            "outputs": [],
            "source": [
                "def plot_trajectory(simulator, initial_velocity, angle):\n    x, y = simulator.simulate_projectile(initial_velocity, angle)\n    \n    plt.figure(figsize=(10, 6))\n    plt.plot(x, y)\n    plt.title(f'Projectile Motion (v0={initial_velocity}m/s, angle={angle}°)')\n    plt.xlabel('Distance (m)')\n    plt.ylabel('Height (m)')\n    plt.grid(True)\n    plt.show()\n\n# Create simulator and plot example trajectory\nsim = SimplePhysicsSimulator()\nplot_trajectory(sim, initial_velocity=20, angle=45)"
            ]
        },
        {
            "cell_type": "markdown",
            "metadata": {},
            "source": [
                "## Error Handling Example"
            ]
        },
        {
            "cell_type": "code",
            "execution_count": null,
            "metadata": {},
            "outputs": [],
            "source": [
                "def safe_simulation(simulator, initial_velocity, angle):\n    try:\n        if initial_velocity < 0:\n            raise ValueError(\"Initial velocity must be positive\")\n        if not 0 <= angle <= 90:\n            raise ValueError(\"Angle must be between 0 and 90 degrees\")\n            \n        x, y = simulator.simulate_projectile(initial_velocity, angle)\n        return x, y\n    \n    except ValueError as e:\n        print(f\"Error: {e}\")\n        return None, None\n    except Exception as e:\n        print(f\"Unexpected error: {e}\")\n        return None, None"
            ]
        },
        {
            "cell_type": "markdown",
            "metadata": {},
            "source": [
                "## Conclusion",
                "",
                "This notebook demonstrated basic concepts of physics simulation in Python, including:",
                "- Basic physics engine implementation",
                "- Visualization of trajectories",
                "- Error handling and safety checks",
                "",
                "For more advanced applications, consider exploring the Genesis Physics Simulator and its capabilities for complex robotics simulations."
            ]
        }
    ],
    "metadata": {
        "kernelspec": {
            "display_name": "Python 3",
            "language": "python",
            "name": "python3"
        },
        "language_info": {
            "codemirror_mode": {
                "name": "ipython",
                "version": 3
            },
            "file_extension": ".py",
            "mimetype": "text/x-python",
            "name": "python",
            "nbconvert_exporter": "python",
            "pygments_lexer": "ipython3",
            "version": "3.8.0"
        }
    },
    "nbformat": 4,
    "nbformat_minor": 4
}