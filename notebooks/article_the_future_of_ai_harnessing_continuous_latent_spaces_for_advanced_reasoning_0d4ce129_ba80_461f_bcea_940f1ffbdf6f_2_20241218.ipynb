{
    "cells": [
        {
            "cell_type": "markdown",
            "metadata": {},
            "source": [
                "# Cost of Living and Gasoline Price Analysis",
                "\n",
                "This notebook explores the relationship between cost of living indicators and gasoline prices, using data analysis and visualization techniques to understand their correlation and impact on the economy."
            ]
        },
        {
            "cell_type": "markdown", 
            "metadata": {},
            "source": [
                "## Setup and Imports",
                "\n",
                "First, let's import the required libraries and set up our environment:"
            ]
        },
        {
            "cell_type": "code",
            "execution_count": null,
            "metadata": {},
            "outputs": [],
            "source": [
                "import pandas as pd\n",
                "import numpy as np\n",
                "import matplotlib.pyplot as plt\n",
                "import seaborn as sns\n",
                "from datetime import datetime\n",
                "\n",
                "# Set style for visualizations\n",
                "plt.style.use('seaborn')\n",
                "sns.set_palette('deep')\n",
                "\n",
                "# Configure pandas display options\n",
                "pd.set_option('display.max_columns', None)\n",
                "pd.set_option('display.float_format', lambda x: '%.2f' % x)"
            ]
        },
        {
            "cell_type": "markdown",
            "metadata": {},
            "source": [
                "## Data Loading and Preprocessing",
                "\n",
                "We'll create sample data to demonstrate the relationship between gas prices and various cost of living components:"
            ]
        },
        {
            "cell_type": "code",
            "execution_count": null,
            "metadata": {},
            "outputs": [],
            "source": [
                "# Generate sample data\n",
                "dates = pd.date_range(start='2020-01-01', end='2023-12-31', freq='M')\n",
                "np.random.seed(42)\n",
                "\n",
                "data = pd.DataFrame({\n",
                    "'date': dates,\n",
                    "'gas_price': np.random.normal(3.50, 0.5, len(dates)),\n",
                    "'housing_index': np.random.normal(200, 15, len(dates)),\n",
                    "'food_index': np.random.normal(150, 10, len(dates)),\n",
                    "'transportation_index': np.random.normal(170, 12, len(dates))\n",
                "})\n",
                "\n",
                "# Add some correlation between gas prices and transportation\n",
                "data['transportation_index'] += data['gas_price'] * 5"
            ]
        },
        {
            "cell_type": "markdown",
            "metadata": {},
            "source": [
                "## Visualization and Analysis",
                "\n", 
                "Let's create some visualizations to understand the relationships in our data:"
            ]
        },
        {
            "cell_type": "code",
            "execution_count": null,
            "metadata": {},
            "outputs": [],
            "source": [
                "# Create a time series plot\n",
                "plt.figure(figsize=(12, 6))\n",
                "plt.plot(data['date'], data['gas_price'], label='Gas Price')\n",
                "plt.title('Gas Price Trends Over Time')\n",
                "plt.xlabel('Date')\n",
                "plt.ylabel('Price per Gallon ($)')\n",
                "plt.legend()\n",
                "plt.tight_layout()"
            ]
        },
        {
            "cell_type": "markdown",
            "metadata": {},
            "source": [
                "## Statistical Analysis",
                "\n",
                "Let's examine the correlations between different cost components:"
            ]
        },
        {
            "cell_type": "code",
            "execution_count": null,
            "metadata": {},
            "outputs": [],
            "source": [
                "# Calculate correlations\n",
                "correlations = data.drop('date', axis=1).corr()\n",
                "\n",
                "# Create correlation heatmap\n",
                "plt.figure(figsize=(10, 8))\n",
                "sns.heatmap(correlations, annot=True, cmap='coolwarm', center=0)\n",
                "plt.title('Correlation Matrix of Cost Components')\n",
                "plt.tight_layout()"
            ]
        },
        {
            "cell_type": "markdown",
            "metadata": {},
            "source": [
                "## Conclusion",
                "\n",
                "This analysis demonstrates the strong relationship between gasoline prices and various cost of living components, particularly transportation costs. The visualizations and statistical analysis help us understand these relationships and their implications for economic policy and consumer behavior."
            ]
        }
    ],
    "metadata": {
        "kernelspec": {
            "display_name": "Python 3",
            "language": "python",
            "name": "python3"
        },
        "language_info": {
            "codemirror_mode": {
                "name": "ipython",
                "version": 3
            },
            "file_extension": ".py",
            "mimetype": "text/x-python",
            "name": "python",
            "nbconvert_exporter": "python",
            "pygments_lexer": "ipython3",
            "version": "3.8.0"
        }
    },
    "nbformat": 4,
    "nbformat_minor": 4
}