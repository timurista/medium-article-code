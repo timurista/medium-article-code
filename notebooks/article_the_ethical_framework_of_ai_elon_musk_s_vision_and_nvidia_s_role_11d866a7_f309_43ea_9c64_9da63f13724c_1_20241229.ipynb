{
    "cells": [
        {
            "cell_type": "markdown",
            "metadata": {},
            "source": [
                "# Software Development Methodologies: A Practical Guide\n",
                "\n",
                "This notebook explores different software development methodologies and their practical applications through code examples and visualizations. We'll examine how different approaches impact project success and team dynamics."
            ]
        },
        {
            "cell_type": "code",
            "execution_count": null,
            "metadata": {},
            "outputs": [],
            "source": [
                "# Required imports\n",
                "import pandas as pd\n",
                "import numpy as np\n",
                "import matplotlib.pyplot as plt\n",
                "import seaborn as sns\n",
                "from datetime import datetime, timedelta"
            ]
        },
        {
            "cell_type": "markdown", 
            "metadata": {},
            "source": [
                "## 1. Waterfall vs Agile Methodology Comparison\n",
                "\n", 
                "Let's create a visualization comparing project timelines and deliverables between Waterfall and Agile approaches."
            ]
        },
        {
            "cell_type": "code",
            "execution_count": null,
            "metadata": {},
            "outputs": [],
            "source": [
                "# Sample project data\n",
                "waterfall_phases = ['Requirements', 'Design', 'Implementation', 'Testing', 'Deployment']\n",
                "waterfall_durations = [30, 45, 60, 30, 15]\n",
                "\n",
                "agile_sprints = [f'Sprint {i+1}' for i in range(6)]\n",
                "agile_deliverables = [20, 25, 30, 35, 40, 30]\n",
                "\n",
                "# Create comparison visualization\n",
                "fig, (ax1, ax2) = plt.subplots(2, 1, figsize=(12, 8))\n",
                "\n",
                "# Waterfall timeline\n",
                "ax1.barh(waterfall_phases, waterfall_durations)\n",
                "ax1.set_title('Waterfall Timeline (days)')\n",
                "\n",
                "# Agile deliverables\n",
                "ax2.bar(agile_sprints, agile_deliverables)\n",
                "ax2.set_title('Agile Deliverables per Sprint')\n",
                "\n",
                "plt.tight_layout()"
            ]
        },
        {
            "cell_type": "markdown",
            "metadata": {},
            "source": [
                "## 2. Scrum Sprint Simulation\n",
                "\n",
                "Here we'll simulate a Scrum sprint tracking system with error handling and best practices."
            ]
        },
        {
            "cell_type": "code",
            "execution_count": null,
            "metadata": {},
            "outputs": [],
            "source": [
                "class SprintTracker:\n",
                "    def __init__(self, sprint_length=14):\n",
                "        self.sprint_length = sprint_length\n",
                "        self.tasks = []\n",
                "        \n",
                "    def add_task(self, task_name, story_points):\n",
                "        try:\n",
                "            if not isinstance(story_points, int) or story_points < 1:\n",
                "                raise ValueError(\"Story points must be a positive integer\")\n",
                "            \n",
                "            self.tasks.append({\n",
                "                'name': task_name,\n",
                "                'points': story_points,\n",
                "                'status': 'To Do'\n",
                "            })\n",
                "            return True\n",
                "        except Exception as e:\n",
                "            print(f\"Error adding task: {str(e)}\")\n",
                "            return False\n",
                "\n",
                "# Example usage\n",
                "sprint = SprintTracker()\n",
                "sprint.add_task(\"Implement login\", 5)\n",
                "sprint.add_task(\"Create API\", 8)\n",
                "sprint.add_task(\"Write tests\", 3)"
            ]
        },
        {
            "cell_type": "markdown",
            "metadata": {},
            "source": [
                "## 3. Kanban Board Visualization\n",
                "\n",
                "Let's create a visual representation of a Kanban board using Python."
            ]
        },
        {
            "cell_type": "code",
            "execution_count": null,
            "metadata": {},
            "outputs": [],
            "source": [
                "kanban_data = {\n",
                "    'To Do': ['Task 1', 'Task 2', 'Task 3'],\n",
                "    'In Progress': ['Task 4', 'Task 5'],\n",
                "    'Done': ['Task 6', 'Task 7', 'Task 8', 'Task 9']\n",
                "}\n",
                "\n",
                "# Create visualization\n",
                "fig, ax = plt.subplots(1, 3, figsize=(15, 5))\n",
                "for idx, (status, tasks) in enumerate(kanban_data.items()):\n",
                "    ax[idx].bar(range(len(tasks)), [1]*len(tasks))\n",
                "    ax[idx].set_title(status)\n",
                "    ax[idx].set_xticks(range(len(tasks)))\n",
                "    ax[idx].set_xticklabels(tasks, rotation=45)\n",
                "\n",
                "plt.tight_layout()"
            ]
        },
        {
            "cell_type": "markdown",
            "metadata": {},
            "source": [
                "## Conclusion\n",
                "\n",
                "This notebook has demonstrated practical implementations of various software development methodologies through code examples and visualizations. The key takeaways include:\n",
                "\n",
                "- Understanding the differences between Waterfall and Agile approaches\n",
                "- Implementing Scrum sprint tracking with proper error handling\n",
                "- Visualizing Kanban boards for project management\n",
                "\n",
                "These examples show how different methodologies can be adapted and implemented in real-world scenarios."
            ]
        }
    ],
    "metadata": {
        "kernelspec": {
            "display_name": "Python 3",
            "language": "python",
            "name": "python3"
        },
        "language_info": {
            "codemirror_mode": {
                "name": "ipython",
                "version": 3
            },
            "file_extension": ".py",
            "mimetype": "text/x-python",
            "name": "python",
            "nbconvert_exporter": "python",
            "pygments_lexer": "ipython3",
            "version": "3.8.0"
        }
    },
    "nbformat": 4,
    "nbformat_minor": 4
}