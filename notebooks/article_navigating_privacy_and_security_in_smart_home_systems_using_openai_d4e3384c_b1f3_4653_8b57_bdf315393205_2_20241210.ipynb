{
    "cells": [
        {
            "cell_type": "markdown",
            "metadata": {},
            "source": [
                "# Navigating Privacy and Security in Smart Home Systems Using OpenAI",
                "",
                "This notebook demonstrates key concepts and implementations for handling privacy and security in smart home systems that utilize OpenAI technologies. We'll explore best practices, code examples, and visualization of security metrics."
            ]
        },
        {
            "cell_type": "markdown", 
            "metadata": {},
            "source": [
                "## Setup and Dependencies",
                "",
                "First, let's import the required libraries and set up our environment:"
            ]
        },
        {
            "cell_type": "code",
            "execution_count": null,
            "metadata": {},
            "outputs": [],
            "source": [
                "import os\n",
                "import numpy as np\n",
                "import pandas as pd\n",
                "import matplotlib.pyplot as plt\n",
                "import seaborn as sns\n",
                "from openai import OpenAI\n",
                "import pyotp\n",
                "import html\n",
                "import re\n",
                "\n",
                "# Set style for visualizations\n",
                "plt.style.use('seaborn')\n",
                "sns.set_palette('husl')"
            ]
        },
        {
            "cell_type": "markdown",
            "metadata": {},
            "source": [
                "## 1. Secure API Key Management",
                "",
                "Demonstrating secure handling of API keys using environment variables:"
            ]
        },
        {
            "cell_type": "code",
            "execution_count": null,
            "metadata": {},
            "outputs": [],
            "source": [
                "def get_api_key():\n",
                "    \"\"\"Securely retrieve API key from environment variables\"\"\"\n",
                "    try:\n",
                "        api_key = os.getenv('OPENAI_API_KEY')\n",
                "        if not api_key:\n",
                "            raise ValueError('API key not found in environment variables')\n",
                "        return api_key\n",
                "    except Exception as e:\n",
                "        print(f'Error retrieving API key: {str(e)}')\n",
                "        return None"
            ]
        },
        {
            "cell_type": "markdown",
            "metadata": {}, 
            "source": [
                "## 2. Input Validation",
                "",
                "Implementing robust input validation for smart home commands:"
            ]
        },
        {
            "cell_type": "code",
            "execution_count": null,
            "metadata": {},
            "outputs": [],
            "source": [
                "def validate_user_input(user_input: str) -> bool:\n",
                "    \"\"\"Validate user input against security rules\"\"\"\n",
                "    # Allow only alphanumeric chars and basic punctuation\n",
                "    pattern = r'^[a-zA-Z0-9\\s.,!?]*$'\n",
                "    return bool(re.match(pattern, user_input))\n",
                "\n",
                "# Test cases\n",
                "test_inputs = [\n",
                "    'Turn on lights',\n",
                "    'Set temperature to 72',\n",
                "    '<script>alert(1)</script>'\n",
                "]\n",
                "\n",
                "for input_text in test_inputs:\n",
                "    print(f\"Input '{input_text}' is valid: {validate_user_input(input_text)}\")"
            ]
        },
        {
            "cell_type": "markdown",
            "metadata": {},
            "source": [
                "## 3. Security Metrics Visualization",
                "",
                "Let's visualize some common security metrics for smart home systems:"
            ]
        },
        {
            "cell_type": "code",
            "execution_count": null,
            "metadata": {},
            "outputs": [],
            "source": [
                "# Sample security metrics data\n",
                "security_data = pd.DataFrame({\n",
                "    'Category': ['Authentication', 'Data Encryption', 'Input Validation', 'Access Control'],\n",
                "    'Success_Rate': [95, 98, 92, 94],\n",
                "    'Failure_Rate': [5, 2, 8, 6]\n",
                "})\n",
                "\n",
                "# Create visualization\n",
                "plt.figure(figsize=(10, 6))\n",
                "sns.barplot(data=security_data, x='Category', y='Success_Rate')\n",
                "plt.title('Security Metrics by Category')\n",
                "plt.ylabel('Success Rate (%)')\n",
                "plt.xticks(rotation=45)\n",
                "plt.tight_layout()\n",
                "plt.show()"
            ]
        },
        {
            "cell_type": "markdown",
            "metadata": {},
            "source": [
                "## Best Practices and Tips",
                "",
                "1. Always use environment variables for sensitive data\n",
                "2. Implement comprehensive input validation\n",
                "3. Monitor and log security metrics\n",
                "4. Regular security audits\n",
                "5. Keep dependencies updated\n",
                "",
                "## Conclusion",
                "",
                "This notebook demonstrated key concepts in implementing secure smart home systems using OpenAI. Remember to always prioritize user privacy and security in your implementations."
            ]
        }
    ],
    "metadata": {
        "kernelspec": {
            "display_name": "Python 3",
            "language": "python",
            "name": "python3"
        },
        "language_info": {
            "codemirror_mode": {
                "name": "ipython",
                "version": 3
            },
            "file_extension": ".py",
            "mimetype": "text/x-python", 
            "name": "python",
            "nbconvert_exporter": "python",
            "pygments_lexer": "ipython3",
            "version": "3.8.0"
        }
    },
    "nbformat": 4,
    "nbformat_minor": 4
}