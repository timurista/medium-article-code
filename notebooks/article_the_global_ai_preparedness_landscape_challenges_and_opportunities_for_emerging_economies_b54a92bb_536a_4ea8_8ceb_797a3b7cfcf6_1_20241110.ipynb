{
    "cells": [
        {
            "cell_type": "markdown",
            "metadata": {},
            "source": [
                "# The Global AI Preparedness Landscape\n",
                "## Challenges and Opportunities for Emerging Economies\n",
                "\nThis notebook explores the International Monetary Fund's AI Preparedness Index and analyzes the factors affecting AI adoption in emerging economies. We'll examine key metrics, visualize data trends, and demonstrate code examples related to AI infrastructure assessment."
            ]
        },
        {
            "cell_type": "markdown",
            "metadata": {},
            "source": [
                "## Setup and Required Libraries\n",
                "Let's import the necessary Python libraries for our analysis:"
            ]
        },
        {
            "cell_type": "code",
            "execution_count": null,
            "metadata": {},
            "outputs": [],
            "source": [
                "import pandas as pd\n",
                "import numpy as np\n",
                "import matplotlib.pyplot as plt\n",
                "import seaborn as sns\n",
                "import requests\n",
                "from typing import Dict, List\n",
                "\n",
                "# Set style for visualizations\n",
                "plt.style.use('seaborn')\n",
                "sns.set_palette('husl')"
            ]
        },
        {
            "cell_type": "markdown",
            "metadata": {},
            "source": [
                "## Sample AI Preparedness Data\n",
                "We'll create a sample dataset based on the IMF's AI Preparedness Index metrics:"
            ]
        },
        {
            "cell_type": "code",
            "execution_count": null,
            "metadata": {},
            "outputs": [],
            "source": [
                "# Sample data for AI Preparedness Index\n",
                "countries_data = {\n",
                    "'Country': ['Denmark', 'USA', 'Singapore', 'UK', 'India', 'Brazil', 'Kenya', 'Nigeria'],\n",
                    "'AI_Index': [0.78, 0.77, 0.80, 0.75, 0.49, 0.45, 0.32, 0.28],\n",
                    "'Digital_Infrastructure': [0.85, 0.82, 0.90, 0.80, 0.45, 0.50, 0.35, 0.30],\n",
                    "'Human_Capital': [0.82, 0.80, 0.85, 0.78, 0.52, 0.48, 0.40, 0.35],\n",
                    "'Tech_Innovation': [0.75, 0.85, 0.80, 0.76, 0.50, 0.45, 0.30, 0.25]\n",
                "}\n",
                "\n",
                "df = pd.DataFrame(countries_data)"
            ]
        },
        {
            "cell_type": "markdown",
            "metadata": {},
            "source": [
                "## Data Visualization\n",
                "Let's create visualizations to understand the AI preparedness landscape:"
            ]
        },
        {
            "cell_type": "code",
            "execution_count": null,
            "metadata": {},
            "outputs": [],
            "source": [
                "def plot_ai_metrics(data: pd.DataFrame) -> None:\n",
                    "plt.figure(figsize=(12, 6))\n",
                    "x = range(len(data['Country']))\n",
                    "width = 0.2\n",
                    "\n",
                    "plt.bar(x, data['Digital_Infrastructure'], width, label='Digital Infrastructure')\n",
                    "plt.bar([i + width for i in x], data['Human_Capital'], width, label='Human Capital')\n",
                    "plt.bar([i + width*2 for i in x], data['Tech_Innovation'], width, label='Tech Innovation')\n",
                    "\n",
                    "plt.xlabel('Countries')\n",
                    "plt.ylabel('Score')\n",
                    "plt.title('AI Preparedness Metrics by Country')\n",
                    "plt.xticks([i + width for i in x], data['Country'], rotation=45)\n",
                    "plt.legend()\n",
                    "plt.tight_layout()\n",
                    "\n",
                "plot_ai_metrics(df)"
            ]
        }
    ],
    "metadata": {
        "kernelspec": {
            "display_name": "Python 3",
            "language": "python",
            "name": "python3"
        },
        "language_info": {
            "codemirror_mode": {
                "name": "ipython",
                "version": 3
            },
            "file_extension": ".py",
            "mimetype": "text/x-python", 
            "name": "python",
            "nbconvert_exporter": "python",
            "pygments_lexer": "ipython3",
            "version": "3.8.0"
        }
    },
    "nbformat": 4,
    "nbformat_minor": 4
}