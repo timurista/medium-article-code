{
    "cells": [
        {
            "cell_type": "markdown",
            "metadata": {},
            "source": [
                "# Tech Debt vs. Tech Growth: Navigating Infrastructure Decisions in Startups",
                "\nA practical guide to balancing technical decisions in modern software development"
            ]
        },
        {
            "cell_type": "markdown", 
            "metadata": {},
            "source": [
                "## Introduction\n",
                "This notebook demonstrates practical examples of managing technical debt while enabling growth in software infrastructure. We'll explore common patterns, best practices, and real-world scenarios using Python and popular cloud tools."
            ]
        },
        {
            "cell_type": "code",
            "execution_count": null,
            "metadata": {},
            "outputs": [],
            "source": [
                "# Import required libraries\n",
                "import pandas as pd\n",
                "import matplotlib.pyplot as plt\n",
                "import seaborn as sns\n",
                "import numpy as np\n",
                "from datetime import datetime, timedelta"
            ]
        },
        {
            "cell_type": "markdown",
            "metadata": {},
            "source": [
                "## Section 1: Technical Debt Metrics\n",
                "Let's analyze some common technical debt metrics using simulated data:"
            ]
        },
        {
            "cell_type": "code",
            "execution_count": null,
            "metadata": {},
            "outputs": [],
            "source": [
                "# Create sample technical debt data\n",
                "dates = pd.date_range(start='2023-01-01', end='2023-12-31', freq='M')\n",
                "tech_debt_data = pd.DataFrame({\n",
                    "'date': dates,\n",
                    "'outdated_dependencies': np.random.randint(10, 50, size=len(dates)),\n",
                    "'code_coverage': np.random.uniform(60, 95, size=len(dates)),\n",
                    "'bug_count': np.random.randint(5, 30, size=len(dates))\n",
                "})\n",
                "\n",
                "# Plot metrics\n",
                "plt.figure(figsize=(12, 6))\n",
                "sns.lineplot(data=tech_debt_data, x='date', y='code_coverage', label='Code Coverage (%)')\n",
                "plt.title('Technical Debt Metrics Over Time')\n",
                "plt.xticks(rotation=45)\n",
                "plt.tight_layout()"
            ]
        },
        {
            "cell_type": "markdown",
            "metadata": {},
            "source": [
                "## Error Handling Examples\n",
                "Here are some best practices for handling errors in production code:"
            ]
        },
        {
            "cell_type": "code",
            "execution_count": null,
            "metadata": {},
            "outputs": [],
            "source": [
                "def deploy_infrastructure(config):\n",
                    "try:\n",
                        "# Simulate infrastructure deployment\n",
                        "if not isinstance(config, dict):\n",
                            "raise ValueError('Configuration must be a dictionary')\n",
                        "print('Infrastructure deployed successfully')\n",
                    "except ValueError as e:\n",
                        "print(f'Configuration error: {str(e)}')\n",
                        "raise\n",
                    "except Exception as e:\n",
                        "print(f'Deployment failed: {str(e)}')\n",
                        "raise\n",
                    "finally:\n",
                        "print('Cleanup completed')\n",
                "\n",
                "# Test error handling\n",
                "try:\n",
                    "deploy_infrastructure('invalid_config')\n",
                "except Exception as e:\n",
                    "print(f'Caught error: {str(e)}')"
            ]
        }
    ],
    "metadata": {
        "kernelspec": {
            "display_name": "Python 3",
            "language": "python",
            "name": "python3"
        },
        "language_info": {
            "codemirror_mode": {
                "name": "ipython",
                "version": 3
            },
            "file_extension": ".py",
            "mimetype": "text/x-python", 
            "name": "python",
            "nbconvert_exporter": "python",
            "pygments_lexer": "ipython3",
            "version": "3.8.0"
        }
    },
    "nbformat": 4,
    "nbformat_minor": 4
}