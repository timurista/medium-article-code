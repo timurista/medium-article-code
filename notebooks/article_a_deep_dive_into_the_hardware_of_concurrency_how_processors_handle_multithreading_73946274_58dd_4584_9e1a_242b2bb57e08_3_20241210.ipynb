{
    "cells": [
        {
            "cell_type": "markdown",
            "metadata":": {},
            "source": [
                "# Hardware of Concurrency: How Processors Handle Multithreading",
                "\nAn in-depth exploration of processor architecture, memory hierarchies, and multithreading concepts with hands-on examples."
            ]
        },
        {
            "cell_type": "markdown", 
            "metadata": {},
            "source": [
                "## Setup and Required Libraries",
                "\nFirst, let's import the necessary libraries for our demonstrations."
            ]
        },
        {
            "cell_type": "code",
            "execution_count": null,
            "metadata": {},
            "source": [
                "import threading\n",
                "import multiprocessing\n",
                "import numpy as np\n",
                "import matplotlib.pyplot as plt\n",
                "import time\n",
                "from concurrent.futures import ThreadPoolExecutor"
            ]
        },
        {
            "cell_type": "markdown",
            "metadata": {},
            "source": [
                "## 1. Basic Thread Creation and Management",
                "\nLet's start by demonstrating basic thread creation and management in Python."
            ]
        },
        {
            "cell_type": "code",
            "execution_count": null,
            "metadata": {},
            "source": [
                "def worker(id):\n",
                "    \"\"\"Simple worker function that simulates some processing\"\"\"\n",
                "    print(f'Thread {id} starting work')\n",
                "    time.sleep(1)  # Simulate work\n",
                "    print(f'Thread {id} finished work')\n",
                "\n",
                "# Create and start multiple threads\n",
                "threads = []\n",
                "for i in range(4):\n",
                "    t = threading.Thread(target=worker, args=(i,))\n",
                "    threads.append(t)\n",
                "    t.start()\n",
                "\n",
                "# Wait for all threads to complete\n",
                "for t in threads:\n",
                "    t.join()"
            ]
        },
        {
            "cell_type": "markdown",
            "metadata": {},
            "source": [
                "## 2. Thread Synchronization",
                "\nDemonstrating thread synchronization using locks and shared resources."
            ]
        },
        {
            "cell_type": "code",
            "execution_count": null,
            "metadata": {},
            "source": [
                "# Create a shared counter with lock\n",
                "counter = 0\n",
                "counter_lock = threading.Lock()\n",
                "\n",
                "def increment_counter():\n",
                "    global counter\n",
                "    for _ in range(1000):\n",
                "        with counter_lock:\n",
                "            counter += 1\n",
                "\n",
                "# Create threads to increment counter\n",
                "threads = [threading.Thread(target=increment_counter) for _ in range(5)]\n",
                "for t in threads:\n",
                "    t.start()\n",
                "for t in threads:\n",
                "    t.join()\n",
                "\n",
                "print(f'Final counter value: {counter}')"
            ]
        },
        {
            "cell_type": "markdown",
            "metadata": {},
            "source": [
                "## 3. Visualizing Thread Performance",
                "\nLet's create a visualization to compare single-threaded vs multi-threaded performance."
            ]
        },
        {
            "cell_type": "code",
            "execution_count": null,
            "metadata": {},
            "source": [
                "def compute_intensive_task(size):\n",
                "    # Simulate compute-intensive work\n",
                "    return np.sum(np.random.rand(size))\n",
                "\n",
                "def measure_performance(num_threads, data_size):\n",
                "    start_time = time.time()\n",
                "    with ThreadPoolExecutor(max_workers=num_threads) as executor:\n",
                "        list(executor.map(compute_intensive_task, [data_size//num_threads]*num_threads))\n",
                "    return time.time() - start_time\n",
                "\n",
                "# Compare performance with different thread counts\n",
                "thread_counts = [1, 2, 4, 8]\n",
                "times = [measure_performance(n, 10_000_000) for n in thread_counts]\n",
                "\n",
                "plt.figure(figsize=(10, 6))\n",
                "plt.plot(thread_counts, times, marker='o')\n",
                "plt.xlabel('Number of Threads')\n",
                "plt.ylabel('Execution Time (seconds)')\n",
                "plt.title('Performance vs Thread Count')\n",
                "plt.grid(True)\n",
                "plt.show()"
            ]
        },
        {
            "cell_type": "markdown",
            "metadata": {},
            "source": [
                "## Conclusion",
                "\nThis notebook demonstrated key concepts in processor multithreading including:\n",
                "- Basic thread creation and management\n",
                "- Thread synchronization using locks\n",
                "- Performance visualization and analysis\n",
                "\nUnderstanding these concepts is crucial for developing efficient concurrent applications."
            ]
        }
    ],
    "metadata": {
        "kernelspec": {
            "display_name": "Python 3",
            "language": "python", 
            "name": "python3"
        },
        "language_info": {
            "codemirror_mode": {
                "name": "ipython",
                "version": 3
            },
            "file_extension": ".py",
            "mimetype": "text/x-python", 
            "name": "python",
            "nbconvert_exporter": "python",
            "pygments_lexer": "ipython3",
            "version": "3.8.0"
        }
    },
    "nbformat": 4,
    "nbformat_minor": 4
}