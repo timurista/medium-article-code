{
    "cells": [
        {
            "cell_type": "markdown",
            "metadata": {},
            "source": [
                "# The Evolving Landscape of AI: Open-Source vs. Private Models",
                "",
                "This notebook explores and demonstrates key concepts in the development and deployment of both open-source and private AI models, with a focus on practical implementations and real-world considerations."
            ]
        },
        {
            "cell_type": "markdown", 
            "metadata": {},
            "source": [
                "## Setup and Requirements",
                "",
                "First, let's import the necessary libraries and set up our environment:"
            ]
        },
        {
            "cell_type": "code",
            "execution_count": null,
            "metadata": {},
            "outputs": [],
            "source": [
                "import torch\n",
                "import torch.nn as nn\n",
                "import torch.optim as optim\n",
                "import numpy as np\n",
                "import matplotlib.pyplot as plt\n",
                "import seaborn as sns\n",
                "from sklearn.model_selection import train_test_split\n",
                "from sklearn.metrics import accuracy_score\n",
                "\n",
                "# Set random seeds for reproducibility\n",
                "torch.manual_seed(42)\n",
                "np.random.seed(42)"
            ]
        },
        {
            "cell_type": "markdown",
            "metadata": {},
            "source": [
                "## Section 1: Implementing a Basic Neural Network",
                "",
                "Let's demonstrate how small teams can leverage PyTorch to build and train neural networks:"
            ]
        },
        {
            "cell_type": "code",
            "execution_count": null,
            "metadata": {},
            "outputs": [],
            "source": [
                "class SimpleNN(nn.Module):\n",
                "    def __init__(self, input_size=784, hidden_size=128, output_size=10):\n",
                "        super(SimpleNN, self).__init__()\n",
                "        self.fc1 = nn.Linear(input_size, hidden_size)\n",
                "        self.fc2 = nn.Linear(hidden_size, output_size)\n",
                "        self.relu = nn.ReLU()\n",
                "        \n",
                "    def forward(self, x):\n",
                "        x = self.relu(self.fc1(x))\n",
                "        x = self.fc2(x)\n",
                "        return x\n",
                "\n",
                "# Initialize model\n",
                "model = SimpleNN()\n",
                "print(model)"
            ]
        },
        {
            "cell_type": "markdown",
            "metadata": {},
            "source": [
                "## Error Handling and Best Practices",
                "",
                "Here's an example of implementing proper error handling in AI model training:"
            ]
        },
        {
            "cell_type": "code",
            "execution_count": null,
            "metadata": {},
            "outputs": [],
            "source": [
                "def train_model(model, X, y, epochs=10):\n",
                "    try:\n",
                "        criterion = nn.CrossEntropyLoss()\n",
                "        optimizer = optim.Adam(model.parameters())\n",
                "        \n",
                "        for epoch in range(epochs):\n",
                "            optimizer.zero_grad()\n",
                "            outputs = model(X)\n",
                "            loss = criterion(outputs, y)\n",
                "            loss.backward()\n",
                "            optimizer.step()\n",
                "            \n",
                "            if epoch % 2 == 0:\n",
                "                print(f'Epoch {epoch}: Loss = {loss.item():.4f}')\n",
                "                \n",
                "    except RuntimeError as e:\n",
                "        print(f'Training error: {str(e)}')\n",
                "    except Exception as e:\n",
                "        print(f'Unexpected error: {str(e)}')"
            ]
        },
        {
            "cell_type": "markdown",
            "metadata": {},
            "source": [
                "## Visualization and Analysis",
                "",
                "Let's create some visualizations to understand model performance:"
            ]
        },
        {
            "cell_type": "code",
            "execution_count": null,
            "metadata": {},
            "outputs": [],
            "source": [
                "def plot_training_metrics(losses, accuracies):\n",
                "    plt.figure(figsize=(12, 5))\n",
                "    \n",
                "    plt.subplot(1, 2, 1)\n",
                "    plt.plot(losses)\n",
                "    plt.title('Training Loss')\n",
                "    plt.xlabel('Epoch')\n",
                "    plt.ylabel('Loss')\n",
                "    \n",
                "    plt.subplot(1, 2, 2)\n",
                "    plt.plot(accuracies)\n",
                "    plt.title('Model Accuracy')\n",
                "    plt.xlabel('Epoch')\n",
                "    plt.ylabel('Accuracy')\n",
                "    \n",
                "    plt.tight_layout()\n",
                "    plt.show()"
            ]
        },
        {
            "cell_type": "markdown",
            "metadata": {},
            "source": [
                "## Conclusion",
                "",
                "This notebook has demonstrated key concepts in AI model development, including:",
                "",
                "- Basic neural network implementation\n",
                "- Error handling and best practices\n",
                "- Performance visualization\n",
                "- Model training and evaluation\n",
                "",
                "These fundamentals apply to both open-source and private AI development contexts."
            ]
        }
    ],
    "metadata": {
        "kernelspec": {
            "display_name": "Python 3",
            "language": "python",
            "name": "python3"
        },
        "language_info": {
            "codemirror_mode": {
                "name": "ipython",
                "version": 3
            },
            "file_extension": ".py",
            "mimetype": "text/x-python",
            "name": "python",
            "nbconvert_exporter": "python",
            "pygments_lexer": "ipython3",
            "version": "3.8.0"
        }
    },
    "nbformat": 4,
    "nbformat_minor": 4
}