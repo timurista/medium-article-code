{
    "cells": [
        {
            "cell_type": "markdown",
            "metadata": {},
            "source": [
                "# The Evolution of Software Engineering\n",
                "## A Comprehensive Guide to Modern Development Practices\n",
                "\n",
                "This notebook explores key concepts and practical implementations in modern software engineering, based on industry best practices and emerging trends. We'll cover development methodologies, technical innovations, and practical examples of implementing various software engineering concepts."
            ]
        },
        {
            "cell_type": "markdown", 
            "metadata": {},
            "source": [
                "## Setup and Required Libraries\n",
                "\n",
                "Let's start by importing the necessary libraries for our demonstrations:"
            ]
        },
        {
            "cell_type": "code",
            "execution_count": null,
            "metadata": {},
            "outputs": [],
            "source": [
                "import numpy as np\n",
                "import pandas as pd\n",
                "import matplotlib.pyplot as plt\n",
                "import seaborn as sns\n",
                "from datetime import datetime\n",
                "import requests\n",
                "import json\n",
                "\n",
                "# Set styling for visualizations\n",
                "plt.style.use('seaborn')\n",
                "sns.set_theme(style=\"whitegrid\")"
            ]
        },
        {
            "cell_type": "markdown",
            "metadata": {},
            "source": [
                "## 1. Development Methodologies Comparison\n",
                "\n", 
                "Let's analyze and visualize the differences between various software development methodologies:"
            ]
        },
        {
            "cell_type": "code",
            "execution_count": null,
            "metadata": {},
            "outputs": [],
            "source": [
                "# Create sample data for methodology comparison\n",
                "methodologies = ['Waterfall', 'Agile', 'DevOps']\n",
                "metrics = {\n",
                    "'Time to Market': [8, 4, 2],\n",
                    "'Flexibility': [3, 9, 8],\n",
                    "'Documentation': [9, 5, 6],\n",
                    "'Risk Management': [6, 8, 9]\n",
                "}\n",
                "\n",
                "df = pd.DataFrame(metrics, index=methodologies)\n",
                "\n",
                "# Create radar chart\n",
                "fig, ax = plt.subplots(figsize=(10, 8))\n",
                "df.plot(kind='bar', ax=ax)\n",
                "plt.title('Development Methodology Comparison')\n",
                "plt.ylabel('Score (0-10)')\n",
                "plt.xticks(rotation=45)\n",
                "plt.tight_layout()"
            ]
        },
        {
            "cell_type": "markdown",
            "metadata": {},
            "source": [
                "## 2. Error Handling Example\n",
                "\n",
                "Demonstrating proper error handling practices in modern software development:"
            ]
        },
        {
            "cell_type": "code",
            "execution_count": null,
            "metadata": {},
            "outputs": [],
            "source": [
                "def api_request(url, retries=3):\n",
                    "\"\"\"Example of robust error handling in API requests\"\"\"\n",
                    "try:\n",
                        "response = requests.get(url, timeout=5)\n",
                        "response.raise_for_status()\n",
                        "return response.json()\n",
                    "except requests.exceptions.HTTPError as http_err:\n",
                        "print(f'HTTP error occurred: {http_err}')\n",
                    "except requests.exceptions.ConnectionError as conn_err:\n",
                        "print(f'Error connecting: {conn_err}')\n",
                    "except requests.exceptions.Timeout as timeout_err:\n",
                        "print(f'Timeout error: {timeout_err}')\n",
                    "except requests.exceptions.RequestException as err:\n",
                        "print(f'An error occurred: {err}')\n",
                    "return None"
            ]
        }
    ],
    "metadata": {
        "kernelspec": {
            "display_name": "Python 3",
            "language": "python",
            "name": "python3"
        },
        "language_info": {
            "codemirror_mode": {
                "name": "ipython",
                "version": 3
            },
            "file_extension": ".py",
            "mimetype": "text/x-python", 
            "name": "python",
            "nbconvert_exporter": "python",
            "pygments_lexer": "ipython3",
            "version": "3.8.0"
        }
    },
    "nbformat": 4,
    "nbformat_minor": 4
}