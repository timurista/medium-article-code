{
    "cells": [
        {
            "cell_type": "markdown",
            "metadata": {},
            "source": [
                "# Building Realistic and Effective Datasets for Network Intrusion Detection Systems",
                "",
                "This notebook demonstrates practical techniques for creating effective datasets for Network Intrusion Detection Systems (NIDS). We'll explore dataset generation, processing, and evaluation methods while following best practices in cybersecurity."
            ]
        },
        {
            "cell_type": "markdown", 
            "metadata": {},
            "source": [
                "## Setup and Required Libraries",
                "",
                "First, let's import the necessary libraries and set up our environment."
            ]
        },
        {
            "cell_type": "code",
            "execution_count": null,
            "metadata": {},
            "outputs": [],
            "source": [
                "import pandas as pd\n",
                "import numpy as np\n",
                "import matplotlib.pyplot as plt\n",
                "import seaborn as sns\n",
                "from sklearn.model_selection import train_test_split\n",
                "from sklearn.preprocessing import StandardScaler\n",
                "import tensorflow as tf\n",
                "\n",
                "# Set random seed for reproducibility\n",
                "np.random.seed(42)\n",
                "tf.random.set_seed(42)"
            ]
        },
        {
            "cell_type": "markdown",
            "metadata": {},
            "source": [
                "## Dataset Generation Example",
                "",
                "Let's create a simple example of generating synthetic network traffic data."
            ]
        },
        {
            "cell_type": "code",
            "execution_count": null,
            "metadata": {},
            "outputs": [], 
            "source": [
                "def generate_sample_traffic(n_samples=1000):\n",
                "    \"\"\"Generate synthetic network traffic data\n",
                "    \n",
                "    Args:\n",
                "        n_samples: Number of samples to generate\n",
                "        \n",
                "    Returns:\n",
                "        DataFrame containing synthetic traffic data\n",
                "    \"\"\"\n",
                "    data = {\n",
                "        'timestamp': pd.date_range(start='2023-01-01', periods=n_samples, freq='1min'),\n",
                "        'protocol': np.random.choice(['TCP', 'UDP', 'HTTP', 'HTTPS'], n_samples),\n",
                "        'src_port': np.random.randint(1024, 65535, n_samples),\n",
                "        'dst_port': np.random.randint(1, 1024, n_samples),\n",
                "        'payload_size': np.random.normal(1500, 500, n_samples),\n",
                "        'is_malicious': np.random.choice([0, 1], n_samples, p=[0.9, 0.1])\n",
                "    }\n",
                "    \n",
                "    return pd.DataFrame(data)"
            ]
        },
        {
            "cell_type": "markdown",
            "metadata": {},
            "source": [
                "## Data Processing and Visualization",
                "",
                "Now let's process our synthetic data and create some visualizations."
            ]
        },
        {
            "cell_type": "code",
            "execution_count": null,
            "metadata": {},
            "outputs": [],
            "source": [
                "# Generate sample data\n",
                "df = generate_sample_traffic()\n",
                "\n",
                "# Create visualization of traffic distribution\n",
                "plt.figure(figsize=(10, 6))\n",
                "sns.boxplot(x='protocol', y='payload_size', hue='is_malicious', data=df)\n",
                "plt.title('Payload Size Distribution by Protocol and Traffic Type')\n",
                "plt.show()"
            ]
        },
        {
            "cell_type": "markdown",
            "metadata": {},
            "source": [
                "## Error Handling and Data Validation",
                "",
                "Here's an example of implementing error handling and data validation."
            ]
        },
        {
            "cell_type": "code",
            "execution_count": null,
            "metadata": {},
            "outputs": [],
            "source": [
                "def validate_traffic_data(df):\n",
                "    \"\"\"Validate network traffic data\n",
                "    \n",
                "    Args:\n",
                "        df: DataFrame containing traffic data\n",
                "        \n",
                "    Returns:\n",
                "        bool: True if validation passes, raises exception otherwise\n",
                "    \"\"\"\n",
                "    try:\n",
                "        # Check required columns\n",
                "        required_cols = ['timestamp', 'protocol', 'src_port', 'dst_port']\n",
                "        if not all(col in df.columns for col in required_cols):\n",
                "            raise ValueError(f\"Missing required columns: {required_cols}\")\n",
                "            \n",
                "        # Validate port ranges\n",
                "        if ((df['src_port'] < 0) | (df['src_port'] > 65535)).any():\n",
                "            raise ValueError(\"Invalid source port values\")\n",
                "            \n",
                "        return True\n",
                "        \n",
                "    except Exception as e:\n",
                "        print(f\"Validation failed: {str(e)}\")\n",
                "        return False"
            ]
        },
        {
            "cell_type": "markdown",
            "metadata": {},
            "source": [
                "## Best Practices and Tips",
                "",
                "1. Always validate input data before processing\n",
                "2. Include proper documentation and comments\n",
                "3. Implement error handling for robustness\n",
                "4. Use standard naming conventions\n",
                "5. Consider privacy and security implications"
            ]
        },
        {
            "cell_type": "markdown",
            "metadata": {},
            "source": [
                "## Conclusion",
                "",
                "This notebook demonstrated practical techniques for generating and processing network intrusion detection datasets. We covered:\n",
                "",
                "- Basic dataset generation\n",
                "- Data validation and error handling\n",
                "- Visualization techniques\n",
                "- Best practices for implementation"
            ]
        }
    ],
    "metadata": {
        "kernelspec": {
            "display_name": "Python 3",
            "language": "python", 
            "name": "python3"
        },
        "language_info": {
            "codemirror_mode": {
                "name": "ipython",
                "version": 3
            },
            "file_extension": ".py",
            "mimetype": "text/x-python", 
            "name": "python",
            "nbconvert_exporter": "python",
            "pygments_lexer": "ipython3",
            "version": "3.8.0"
        }
    },
    "nbformat": 4,
    "nbformat_minor": 4
}