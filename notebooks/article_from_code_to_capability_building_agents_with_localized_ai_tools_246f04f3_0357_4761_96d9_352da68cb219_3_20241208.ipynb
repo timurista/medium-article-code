{
    "cells": [
        {
            "cell_type": "markdown",
            "metadata": {},
            "source": [
                "# Building AI Agents with Local Tools",
                "\nThis notebook demonstrates how to create AI agents using local tools like Swarm and Ollama, focusing on practical implementation and best practices."
            ]
        },
        {
            "cell_type": "markdown",
            "metadata": {},
            "source": [
                "## Setup and Dependencies",
                "\nFirst, let's install and import the required libraries:"
            ]
        },
        {
            "cell_type": "code",
            "execution_count": null,
            "metadata": {},
            "outputs": [],
            "source": [
                "# Install required packages\n",
                "!pip install swarm\n",
                "!pip install ollama\n",
                "!pip install pyyaml\n",
                "!pip install requests\n",
                "\n",
                "# Import necessary libraries\n",
                "import swarm\n",
                "from ollama import Ollama\n",
                "import yaml\n",
                "import requests\n",
                "import json"
            ]
        },
        {
            "cell_type": "markdown",
            "metadata": {},
            "source": [
                "## Basic Agent Configuration",
                "\nLet's create a configuration file for our AI agent:"
            ]
        },
        {
            "cell_type": "code",
            "execution_count": null,
            "metadata": {},
            "outputs": [],
            "source": [
                "# Create config dictionary\n",
                "config = {\n",
                "    'agent': {\n",
                "        'name': 'TaskAgent',\n",
                "        'skills': ['communication', 'task_management']\n",
                "    },\n",
                "    'model': {\n",
                "        'name': 'Llama3.2:1b'\n",
                "    }\n",
                "}\n",
                "\n",
                "# Save config to YAML file\n",
                "with open('config.yaml', 'w') as file:\n",
                "    yaml.dump(config, file)"
            ]
        },
        {
            "cell_type": "markdown", 
            "metadata": {},
            "source": [
                "## Implementing the Basic Agent",
                "\nNow let's create a simple agent class that can process and rephrase text:"
            ]
        },
        {
            "cell_type": "code",
            "execution_count": null,
            "metadata": {},
            "outputs": [],
            "source": [
                "class RephraserAgent(swarm.Agent):\n",
                "    def __init__(self):\n",
                "        super().__init__()\n",
                "        try:\n",
                "            self.model = Ollama.load(config['model']['name'])\n",
                "        except Exception as e:\n",
                "            print(f\"Error loading model: {e}\")\n",
                "            raise\n",
                "    \n",
                "    def respond(self, message):\n",
                "        \"\"\"Rephrase the input message using the loaded model\"\"\"\n",
                "        try:\n",
                "            rephrased_message = self.model.rephrase(message)\n",
                "            return rephrased_message\n",
                "        except Exception as e:\n",
                "            print(f\"Error processing message: {e}\")\n",
                "            return None"
            ]
        }
    ],
    "metadata": {
        "kernelspec": {
            "display_name": "Python 3",
            "language": "python",
            "name": "python3"
        },
        "language_info": {
            "codemirror_mode": {
                "name": "ipython",
                "version": 3
            },
            "file_extension": ".py",
            "mimetype": "text/x-python", 
            "name": "python",
            "nbconvert_exporter": "python",
            "pygments_lexer": "ipython3",
            "version": "3.8.0"
        }
    },
    "nbformat": 4,
    "nbformat_minor": 4
}