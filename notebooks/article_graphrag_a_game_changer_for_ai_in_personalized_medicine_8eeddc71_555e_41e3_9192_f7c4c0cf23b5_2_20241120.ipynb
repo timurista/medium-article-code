{
    "cells": [
        {
            "cell_type": "markdown",
            "metadata": {},
            "source": [
                "# GraphRAG: A Game Changer for AI in Personalized Medicine",
                "",
                "This notebook demonstrates how GraphRAG technology transforms personalized medicine through AI and knowledge graphs. We'll explore implementation details, best practices, and real-world applications."
            ]
        },
        {
            "cell_type": "markdown", 
            "metadata": {},
            "source": [
                "## Setup and Requirements",
                "",
                "First, let's import the required libraries and set up our environment:"
            ]
        },
        {
            "cell_type": "code",
            "execution_count": null,
            "metadata": {},
            "outputs": [],
            "source": [
                "import pandas as pd\n",
                "import numpy as np\n",
                "from sklearn.model_selection import train_test_split\n",
                "from sklearn.ensemble import RandomForestClassifier\n",
                "from sklearn.metrics import accuracy_score\n",
                "import matplotlib.pyplot as plt\n",
                "import seaborn as sns\n",
                "from cryptography.fernet import Fernet\n",
                "\n",
                "# Set random seed for reproducibility\n",
                "np.random.seed(42)"
            ]
        },
        {
            "cell_type": "markdown",
            "metadata": {},
            "source": [
                "## 1. Data Generation and Processing",
                "",
                "Let's create a synthetic dataset to demonstrate medical data analysis:"
            ]
        },
        {
            "cell_type": "code",
            "execution_count": null,
            "metadata": {},
            "outputs": [],
            "source": [
                "# Generate synthetic patient data\n",
                "n_patients = 1000\n",
                "data = {\n",
                    "'age': np.random.normal(50, 15, n_patients),\n",
                    "'bmi': np.random.normal(25, 5, n_patients),\n",
                    "'blood_pressure': np.random.normal(120, 15, n_patients),\n",
                    "'cholesterol': np.random.normal(200, 30, n_patients)\n",
                "}\n",
                "\n",
                "df = pd.DataFrame(data)\n",
                "\n",
                "# Generate synthetic treatment success outcomes\n",
                "df['treatment_success'] = (df['age'] < 60) & \n",
                                         "(df['bmi'] < 30) & \n",
                                         "(df['blood_pressure'] < 140)\n",
                "df['treatment_success'] = df['treatment_success'].astype(int)"
            ]
        },
        {
            "cell_type": "markdown",
            "metadata": {},
            "source": [
                "## 2. Model Training and Evaluation",
                "",
                "Now let's implement a basic prediction model:"
            ]
        },
        {
            "cell_type": "code",
            "execution_count": null,
            "metadata": {},
            "outputs": [],
            "source": [
                "# Split features and target\n",
                "X = df[['age', 'bmi', 'blood_pressure', 'cholesterol']]\n",
                "y = df['treatment_success']\n",
                "\n",
                "# Split into training and test sets\n",
                "X_train, X_test, y_train, y_test = train_test_split(\n",
                    "X, y, test_size=0.2, random_state=42\n",
                ")\n",
                "\n",
                "# Train model\n",
                "model = RandomForestClassifier(n_estimators=100)\n",
                "model.fit(X_train, y_train)\n",
                "\n",
                "# Make predictions\n",
                "predictions = model.predict(X_test)\n",
                "\n",
                "# Calculate accuracy\n",
                "accuracy = accuracy_score(y_test, predictions)\n",
                "print(f'Model Accuracy: {accuracy:.2f}')"
            ]
        }
    ],
    "metadata": {
        "kernelspec": {
            "display_name": "Python 3",
            "language": "python", 
            "name": "python3"
        },
        "language_info": {
            "codemirror_mode": {
                "name": "ipython",
                "version": 3
            },
            "file_extension": ".py",
            "mimetype": "text/x-python", 
            "name": "python",
            "nbconvert_exporter": "python",
            "pygments_lexer": "ipython3",
            "version": "3.8.0"
        }
    },
    "nbformat": 4,
    "nbformat_minor": 4
}