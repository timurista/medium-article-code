{
    "cells": [
        {
            "cell_type": "markdown",
            "metadata": {},
            "source": [
                "# Navigating the Future of Cybersecurity: Intrusion Detection Datasets",
                "\n",
                "This notebook explores the critical role of intrusion detection datasets in modern cybersecurity, with a focus on the HIKARI-2021 dataset and practical implementations of intrusion detection systems (IDS)."
            ]
        },
        {
            "cell_type": "markdown", 
            "metadata": {},
            "source": [
                "## Setup and Required Libraries",
                "\n",
                "Let's begin by importing the necessary libraries for our analysis:"
            ]
        },
        {
            "cell_type": "code",
            "execution_count": null,
            "metadata": {},
            "outputs": [],
            "source": [
                "import pandas as pd\n",
                "import numpy as np\n",
                "import matplotlib.pyplot as plt\n",
                "import seaborn as sns\n",
                "import tensorflow as tf\n",
                "from sklearn.model_selection import train_test_split\n",
                "from sklearn.preprocessing import StandardScaler\n",
                "from sklearn.feature_selection import SelectKBest, chi2\n",
                "\n",
                "# Set style for visualizations\n",
                "plt.style.use('seaborn')\n",
                "sns.set_palette('husl')"
            ]
        },
        {
            "cell_type": "markdown",
            "metadata": {},
            "source": [
                "## Loading and Preprocessing Sample Network Traffic Data",
                "\n", 
                "We'll create a sample dataset similar to HIKARI-2021's structure to demonstrate IDS concepts:"
            ]
        },
        {
            "cell_type": "code",
            "execution_count": null,
            "metadata": {},
            "outputs": [],
            "source": [
                "# Create sample network traffic data\n",
                "def generate_sample_data(n_samples=1000):\n",
                "    np.random.seed(42)\n",
                "    data = {\n",
                "        'bytes_sent': np.random.randint(100, 10000, n_samples),\n",
                "        'protocol_type': np.random.choice(['TCP', 'UDP', 'ICMP'], n_samples),\n",
                "        'duration': np.random.uniform(0, 100, n_samples),\n",
                "        'is_attack': np.random.choice([0, 1], n_samples, p=[0.8, 0.2])\n",
                "    }\n",
                "    return pd.DataFrame(data)\n",
                "\n",
                "df = generate_sample_data()\n",
                "print('Sample dataset shape:', df.shape)\n",
                "df.head()"
            ]
        },
        {
            "cell_type": "markdown",
            "metadata": {},
            "source": [
                "## Data Analysis and Visualization",
                "\n",
                "Let's analyze the distribution of normal vs attack traffic:"
            ]
        },
        {
            "cell_type": "code",
            "execution_count": null,
            "metadata": {},
            "outputs": [],
            "source": [
                "plt.figure(figsize=(10, 6))\n",
                "sns.countplot(data=df, x='is_attack')\n",
                "plt.title('Distribution of Normal vs Attack Traffic')\n",
                "plt.xlabel('Attack (1) vs Normal (0)')\n",
                "plt.ylabel('Count')\n",
                "plt.show()"
            ]
        },
        {
            "cell_type": "markdown",
            "metadata": {},
            "source": [
                "## Building a Simple IDS Model",
                "\n",
                "Now let's implement a basic neural network for intrusion detection:"
            ]
        },
        {
            "cell_type": "code",
            "execution_count": null,
            "metadata": {},
            "outputs": [],
            "source": [
                "# Prepare features\n",
                "X = pd.get_dummies(df.drop('is_attack', axis=1))\n",
                "y = df['is_attack']\n",
                "\n",
                "# Split and scale data\n",
                "X_train, X_test, y_train, y_test = train_test_split(X, y, test_size=0.2)\n",
                "scaler = StandardScaler()\n",
                "X_train_scaled = scaler.fit_transform(X_train)\n",
                "X_test_scaled = scaler.transform(X_test)\n",
                "\n",
                "# Build model\n",
                "model = tf.keras.Sequential([\n",
                "    tf.keras.layers.Dense(64, activation='relu', input_shape=(X_train.shape[1],)),\n",
                "    tf.keras.layers.Dropout(0.2),\n",
                "    tf.keras.layers.Dense(32, activation='relu'),\n",
                "    tf.keras.layers.Dense(1, activation='sigmoid')\n",
                "])\n",
                "\n",
                "model.compile(optimizer='adam',\n",
                "              loss='binary_crossentropy',\n",
                "              metrics=['accuracy'])"
            ]
        },
        {
            "cell_type": "markdown",
            "metadata": {},
            "source": [
                "## Best Practices and Tips",
                "\n",
                "1. Always normalize/scale features before training\n",
                "2. Use appropriate validation techniques\n",
                "3. Implement proper error handling\n",
                "4. Monitor model performance metrics\n",
                "5. Regularly update and retrain models with new data"
            ]
        },
        {
            "cell_type": "markdown",
            "metadata": {},
            "source": [
                "## Conclusion",
                "\n",
                "This notebook demonstrated key concepts in working with intrusion detection datasets and building basic IDS models. The field continues to evolve with new datasets like HIKARI-2021 providing better training data for more sophisticated detection systems."
            ]
        }
    ],
    "metadata": {
        "kernelspec": {
            "display_name": "Python 3",
            "language": "python",
            "name": "python3"
        },
        "language_info": {
            "codemirror_mode": {
                "name": "ipython",
                "version": 3
            },
            "file_extension": ".py",
            "mimetype": "text/x-python",
            "name": "python",
            "nbconvert_exporter": "python",
            "pygments_lexer": "ipython3",
            "version": "3.8.0"
        }
    },
    "nbformat": 4,
    "nbformat_minor": 4
}