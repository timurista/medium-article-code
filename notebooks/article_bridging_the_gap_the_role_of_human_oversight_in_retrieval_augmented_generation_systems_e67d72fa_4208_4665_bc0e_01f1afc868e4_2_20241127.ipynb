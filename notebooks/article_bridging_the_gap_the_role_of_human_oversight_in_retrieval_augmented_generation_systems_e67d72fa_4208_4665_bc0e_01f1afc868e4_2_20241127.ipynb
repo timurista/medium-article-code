{
    "cells": [
        {
            "cell_type": "markdown",
            "metadata": {},
            "source": [
                "# Bridging the Gap: The Role of Human Oversight in RAG Systems",
                "\nThis notebook demonstrates key concepts and implementations related to Retrieval Augmented Generation (RAG) systems with human oversight.",
                "\n## Overview",
                "\nWe'll explore:",
                "\n- RAG system architecture and components",
                "\n- Implementation of human-in-the-loop mechanisms",
                "\n- Data processing and analysis techniques",
                "\n- Visualization of system performance",
                "\n- Error handling and best practices"
            ]
        },
        {
            "cell_type": "code",
            "execution_count": null,
            "metadata": {},
            "source": [
                "# Import required libraries\n",
                "import pandas as pd\n",
                "import numpy as np\n",
                "import matplotlib.pyplot as plt\n",
                "import seaborn as sns\n",
                "from transformers import RagTokenizer, RagRetriever, RagSequenceForGeneration\n",
                "import torch\n",
                "from sklearn.metrics import precision_score, recall_score\n",
                "\n",
                "# Set style for visualizations\n",
                "plt.style.use('seaborn')\n",
                "sns.set_palette('husl')"
            ]
        },
        {
            "cell_type": "markdown",
            "metadata": {}, 
            "source": [
                "## 1. RAG System Architecture",
                "\nLet's implement a basic RAG system with human oversight capabilities. This includes:",
                "\n- Document retrieval",
                "\n- Response generation",
                "\n- Human feedback integration"
            ]
        },
        {
            "cell_type": "code",
            "execution_count": null,
            "metadata": {},
            "source": [
                "class RAGSystem:\n",
                "    def __init__(self):\n",
                "        # Initialize RAG components\n",
                "        self.tokenizer = RagTokenizer.from_pretrained('facebook/rag-sequence-base')\n",
                "        self.retriever = RagRetriever.from_pretrained('facebook/rag-sequence-base')\n",
                "        self.model = RagSequenceForGeneration.from_pretrained('facebook/rag-sequence-base')\n",
                "        \n",
                "        # Initialize feedback storage\n",
                "        self.feedback_log = []\n",
                "    \n",
                "    def generate_response(self, query):\n",
                "        try:\n",
                "            inputs = self.tokenizer([query], return_tensors=\"pt\")\n",
                "            retrieved_docs = self.retriever(input_ids=inputs['input_ids'])\n",
                "            response = self.model.generate(input_ids=inputs['input_ids'])\n",
                "            return self.tokenizer.decode(response[0], skip_special_tokens=True)\n",
                "        except Exception as e:\n",
                "            print(f\"Error generating response: {str(e)}\")\n",
                "            return None\n",
                "    \n",
                "    def log_human_feedback(self, query, response, feedback):\n",
                "        self.feedback_log.append({\n",
                "            'query': query,\n",
                "            'response': response,\n",
                "            'feedback': feedback,\n",
                "            'timestamp': pd.Timestamp.now()\n",
                "        })"
            ]
        }
    ],
    "metadata": {
        "kernelspec": {
            "display_name": "Python 3",
            "language": "python", 
            "name": "python3"
        },
        "language_info": {
            "codemirror_mode": {
                "name": "ipython",
                "version": 3
            },
            "file_extension": ".py",
            "mimetype": "text/x-python", 
            "name": "python",
            "nbconvert_exporter": "python",
            "pygments_lexer": "ipython3",
            "version": "3.8.0"
        }
    },
    "nbformat": 4,
    "nbformat_minor": 4
}