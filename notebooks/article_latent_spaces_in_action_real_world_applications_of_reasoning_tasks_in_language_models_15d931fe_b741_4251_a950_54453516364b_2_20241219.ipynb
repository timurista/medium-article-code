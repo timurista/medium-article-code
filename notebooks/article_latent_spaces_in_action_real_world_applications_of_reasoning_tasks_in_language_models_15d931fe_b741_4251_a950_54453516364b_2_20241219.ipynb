{
    "cells": [
        {
            "cell_type": "markdown",
            "metadata": {},
            "source": [
                "# Understanding Modern Cyber Threats and Solutions",
                "",
                "This notebook explores key concepts in cybersecurity, demonstrating practical examples of threat detection and mitigation strategies using Python. We'll cover phishing detection, malware analysis, and security best practices."
            ]
        },
        {
            "cell_type": "markdown",
            "metadata": {},
            "source": [
                "## Setup and Required Libraries",
                "",
                "First, let's import the necessary Python libraries for our analysis:"
            ]
        },
        {
            "cell_type": "code",
            "execution_count": null,
            "metadata": {},
            "outputs": [],
            "source": [
                "import pandas as pd\n",
                "import numpy as np\n",
                "import matplotlib.pyplot as plt\n",
                "import seaborn as sns\n",
                "from sklearn.model_selection import train_test_split\n",
                "from sklearn.ensemble import RandomForestClassifier\n",
                "from sklearn.metrics import confusion_matrix, classification_report\n",
                "\n",
                "# Set plotting style\n",
                "plt.style.use('seaborn')\n",
                "sns.set_palette('Set2')"
            ]
        },
        {
            "cell_type": "markdown",
            "metadata": {},
            "source": [
                "## 1. Phishing Detection Example",
                "",
                "Let's create a simple phishing detection model using common URL features:"
            ]
        },
        {
            "cell_type": "code",
            "execution_count": null,
            "metadata": {},
            "outputs": [],
            "source": [
                "# Sample phishing dataset\n",
                "def create_sample_data():\n",
                "    np.random.seed(42)\n",
                "    n_samples = 1000\n",
                "    \n",
                "    data = {\n",
                "        'url_length': np.random.normal(60, 30, n_samples),\n",
                "        'special_chars': np.random.poisson(3, n_samples),\n",
                "        'has_ip_address': np.random.choice([0, 1], n_samples, p=[0.8, 0.2]),\n",
                "        'is_phishing': np.zeros(n_samples)\n",
                "    }\n",
                "    \n",
                "    # Label phishing URLs based on features\n",
                "    data['is_phishing'] = ((data['url_length'] > 75) & \n",
                "                          (data['special_chars'] > 4) | \n",
                "                          (data['has_ip_address'] == 1)).astype(int)\n",
                "    \n",
                "    return pd.DataFrame(data)\n",
                "\n",
                "df = create_sample_data()"
            ]
        },
        {
            "cell_type": "markdown",
            "metadata": {},
            "source": [
                "## 2. Visualization of Phishing Characteristics"
            ]
        },
        {
            "cell_type": "code",
            "execution_count": null,
            "metadata": {},
            "outputs": [],
            "source": [
                "def plot_phishing_characteristics(df):\n",
                "    fig, axes = plt.subplots(1, 2, figsize=(15, 5))\n",
                "    \n",
                "    # URL Length Distribution\n",
                "    sns.boxplot(x='is_phishing', y='url_length', data=df, ax=axes[0])\n",
                "    axes[0].set_title('URL Length Distribution by Class')\n",
                "    axes[0].set_xlabel('Is Phishing')\n",
                "    axes[0].set_ylabel('URL Length')\n",
                "    \n",
                "    # Special Characters Distribution\n",
                "    sns.boxplot(x='is_phishing', y='special_chars', data=df, ax=axes[1])\n",
                "    axes[1].set_title('Special Characters Distribution by Class')\n",
                "    axes[1].set_xlabel('Is Phishing')\n",
                "    axes[1].set_ylabel('Number of Special Characters')\n",
                "    \n",
                "    plt.tight_layout()\n",
                "    plt.show()\n",
                "\n",
                "plot_phishing_characteristics(df)"
            ]
        },
        {
            "cell_type": "markdown",
            "metadata": {},
            "source": [
                "## 3. Building a Simple Phishing Detection Model"
            ]
        },
        {
            "cell_type": "code",
            "execution_count": null,
            "metadata": {},
            "outputs": [],
            "source": [
                "def train_phishing_detector(df):\n",
                "    # Prepare features and target\n",
                "    X = df[['url_length', 'special_chars', 'has_ip_address']]\n",
                "    y = df['is_phishing']\n",
                "    \n",
                "    # Split the data\n",
                "    X_train, X_test, y_train, y_test = train_test_split(\n",
                "        X, y, test_size=0.2, random_state=42)\n",
                "    \n",
                "    # Train model\n",
                "    model = RandomForestClassifier(n_estimators=100, random_state=42)\n",
                "    model.fit(X_train, y_train)\n",
                "    \n",
                "    # Evaluate\n",
                "    y_pred = model.predict(X_test)\n",
                "    print('Classification Report:')\n",
                "    print(classification_report(y_test, y_pred))\n",
                "    \n",
                "    return model\n",
                "\n",
                "model = train_phishing_detector(df)"
            ]
        },
        {
            "cell_type": "markdown",
            "metadata": {},
            "source": [
                "## Best Practices and Security Tips",
                "",
                "1. Always validate input data and implement proper sanitization\n",
                "2. Use secure communication protocols (HTTPS, SSH)\n",
                "3. Implement proper error handling\n",
                "4. Regularly update security dependencies\n",
                "5. Monitor and log security events\n",
                "6. Implement proper authentication and authorization"
            ]
        },
        {
            "cell_type": "markdown",
            "metadata": {},
            "source": [
                "## Conclusion",
                "",
                "This notebook demonstrated basic concepts in cybersecurity analysis and threat detection using Python. We covered:\n",
                "- Creating and analyzing phishing detection features\n",
                "- Visualizing security-related data\n",
                "- Building a simple threat detection model\n",
                "- Best practices for security implementation"
            ]
        }
    ],
    "metadata": {
        "kernelspec": {
            "display_name": "Python 3",
            "language": "python",
            "name": "python3"
        },
        "language_info": {
            "codemirror_mode": {
                "name": "ipython",
                "version": 3
            },
            "file_extension": ".py",
            "mimetype": "text/x-python",
            "name": "python",
            "nbconvert_exporter": "python",
            "pygments_lexer": "ipython3",
            "version": "3.8.0"
        }
    },
    "nbformat": 4,
    "nbformat_minor": 4
}